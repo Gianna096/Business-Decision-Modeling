{
  "nbformat": 4,
  "nbformat_minor": 0,
  "metadata": {
    "colab": {
      "name": "Ziru - Model Structure .ipynb",
      "provenance": [],
      "collapsed_sections": [],
      "toc_visible": true
    },
    "kernelspec": {
      "name": "python3",
      "display_name": "Python 3"
    },
    "language_info": {
      "name": "python"
    }
  },
  "cells": [
    {
      "cell_type": "code",
      "metadata": {
        "colab": {
          "base_uri": "https://localhost:8080/"
        },
        "id": "cQO0UY81JyZB",
        "outputId": "9eaadd2e-42bc-4bb1-8398-1e21b064ddf7"
      },
      "source": [
        "# In this notebook, I will want to check the amount of time spent in the execution of each cell, so I need to install an additional package\n",
        "!pip install ipython-autotime\n",
        "%load_ext autotime"
      ],
      "execution_count": 543,
      "outputs": [
        {
          "output_type": "stream",
          "text": [
            "Requirement already satisfied: ipython-autotime in /usr/local/lib/python3.7/dist-packages (0.3.1)\n",
            "Requirement already satisfied: ipython in /usr/local/lib/python3.7/dist-packages (from ipython-autotime) (5.5.0)\n",
            "Requirement already satisfied: pickleshare in /usr/local/lib/python3.7/dist-packages (from ipython->ipython-autotime) (0.7.5)\n",
            "Requirement already satisfied: decorator in /usr/local/lib/python3.7/dist-packages (from ipython->ipython-autotime) (4.4.2)\n",
            "Requirement already satisfied: pexpect; sys_platform != \"win32\" in /usr/local/lib/python3.7/dist-packages (from ipython->ipython-autotime) (4.8.0)\n",
            "Requirement already satisfied: traitlets>=4.2 in /usr/local/lib/python3.7/dist-packages (from ipython->ipython-autotime) (5.0.5)\n",
            "Requirement already satisfied: setuptools>=18.5 in /usr/local/lib/python3.7/dist-packages (from ipython->ipython-autotime) (54.2.0)\n",
            "Requirement already satisfied: prompt-toolkit<2.0.0,>=1.0.4 in /usr/local/lib/python3.7/dist-packages (from ipython->ipython-autotime) (1.0.18)\n",
            "Requirement already satisfied: pygments in /usr/local/lib/python3.7/dist-packages (from ipython->ipython-autotime) (2.6.1)\n",
            "Requirement already satisfied: simplegeneric>0.8 in /usr/local/lib/python3.7/dist-packages (from ipython->ipython-autotime) (0.8.1)\n",
            "Requirement already satisfied: ptyprocess>=0.5 in /usr/local/lib/python3.7/dist-packages (from pexpect; sys_platform != \"win32\"->ipython->ipython-autotime) (0.7.0)\n",
            "Requirement already satisfied: ipython-genutils in /usr/local/lib/python3.7/dist-packages (from traitlets>=4.2->ipython->ipython-autotime) (0.2.0)\n",
            "Requirement already satisfied: wcwidth in /usr/local/lib/python3.7/dist-packages (from prompt-toolkit<2.0.0,>=1.0.4->ipython->ipython-autotime) (0.2.5)\n",
            "Requirement already satisfied: six>=1.9.0 in /usr/local/lib/python3.7/dist-packages (from prompt-toolkit<2.0.0,>=1.0.4->ipython->ipython-autotime) (1.15.0)\n",
            "The autotime extension is already loaded. To reload it, use:\n",
            "  %reload_ext autotime\n",
            "time: 3.05 s (started: 2021-04-20 00:25:40 +00:00)\n"
          ],
          "name": "stdout"
        }
      ]
    },
    {
      "cell_type": "code",
      "metadata": {
        "colab": {
          "base_uri": "https://localhost:8080/"
        },
        "id": "-0Nsgy4WTKRw",
        "outputId": "1307b5d3-5d46-4541-905f-580e849ac0f5"
      },
      "source": [
        "import time\n",
        "start = time.time() #start time noted"
      ],
      "execution_count": 544,
      "outputs": [
        {
          "output_type": "stream",
          "text": [
            "time: 2.63 ms (started: 2021-04-20 00:25:43 +00:00)\n"
          ],
          "name": "stdout"
        }
      ]
    },
    {
      "cell_type": "code",
      "metadata": {
        "colab": {
          "base_uri": "https://localhost:8080/"
        },
        "id": "l_7s4X8nTQVq",
        "outputId": "865cdf86-c964-43c0-8003-0436d139d15d"
      },
      "source": [
        "from google.colab import drive, files \n",
        "drive.mount('/content/drive/', force_remount=True)  #mounting drive"
      ],
      "execution_count": 545,
      "outputs": [
        {
          "output_type": "stream",
          "text": [
            "Mounted at /content/drive/\n",
            "time: 1.07 s (started: 2021-04-20 00:25:43 +00:00)\n"
          ],
          "name": "stdout"
        }
      ]
    },
    {
      "cell_type": "markdown",
      "metadata": {
        "id": "HrUis9ioTrNO"
      },
      "source": [
        "### Install required packages"
      ]
    },
    {
      "cell_type": "code",
      "metadata": {
        "colab": {
          "base_uri": "https://localhost:8080/"
        },
        "id": "ZLBmUFehTuR8",
        "outputId": "27144d15-1348-468a-d138-b20903739aa1"
      },
      "source": [
        "#import pandas and numpy for operations\n",
        "import pandas as pd  #dataframes\n",
        "import numpy as np #arrays "
      ],
      "execution_count": 546,
      "outputs": [
        {
          "output_type": "stream",
          "text": [
            "time: 1.96 ms (started: 2021-04-20 00:25:44 +00:00)\n"
          ],
          "name": "stdout"
        }
      ]
    },
    {
      "cell_type": "code",
      "metadata": {
        "colab": {
          "base_uri": "https://localhost:8080/"
        },
        "id": "bUp8pMczT02F",
        "outputId": "f7522bfb-c19a-4bb1-ee9f-d8a4163ec7f4"
      },
      "source": [
        "#import packages to calculate location distances \n",
        "from sklearn.metrics.pairwise import manhattan_distances #manhattan distances\n",
        "from math import radians"
      ],
      "execution_count": 547,
      "outputs": [
        {
          "output_type": "stream",
          "text": [
            "time: 1.91 ms (started: 2021-04-20 00:25:44 +00:00)\n"
          ],
          "name": "stdout"
        }
      ]
    },
    {
      "cell_type": "code",
      "metadata": {
        "colab": {
          "base_uri": "https://localhost:8080/"
        },
        "id": "tOGtqAi8UAlp",
        "outputId": "3d9b02e2-d4a0-45a7-93cd-9b2634d1fc82"
      },
      "source": [
        "#import packages to plot maps and plots\n",
        "import matplotlib.pyplot as plt\n",
        "import seaborn as sns\n",
        "#plotly packages\n",
        "import plotly.express as px \n",
        "import plotly.graph_objects as go\n",
        "import networkx as nx \n",
        "from pylab import * "
      ],
      "execution_count": 548,
      "outputs": [
        {
          "output_type": "stream",
          "text": [
            "time: 10.3 ms (started: 2021-04-20 00:25:44 +00:00)\n"
          ],
          "name": "stdout"
        }
      ]
    },
    {
      "cell_type": "markdown",
      "metadata": {
        "id": "YFnjIhVGUKd0"
      },
      "source": [
        "###Data wrangling"
      ]
    },
    {
      "cell_type": "code",
      "metadata": {
        "colab": {
          "base_uri": "https://localhost:8080/"
        },
        "id": "aK-e5VKgUNS9",
        "outputId": "02ee50b0-ba3f-4cc3-944c-0b59d452b44e"
      },
      "source": [
        "#Reading data for Town Centroids\n",
        "# https://drive.google.com/file/d/1PCuDeuLFA__tM3jfjTZZSy4G3FKpuRc6/view?usp=sharing\n",
        "!gdown --id 1PCuDeuLFA__tM3jfjTZZSy4G3FKpuRc6\n",
        "data = pd.read_excel('/content/drive/Shareddrives/Business Decision Modeling/Project 3/Group 3 Data.xlsx')"
      ],
      "execution_count": 549,
      "outputs": [
        {
          "output_type": "stream",
          "text": [
            "Downloading...\n",
            "From: https://drive.google.com/uc?id=1PCuDeuLFA__tM3jfjTZZSy4G3FKpuRc6\n",
            "To: /content/townCents.csv\n",
            "\r  0% 0.00/20.1k [00:00<?, ?B/s]\r100% 20.1k/20.1k [00:00<00:00, 38.0MB/s]\n",
            "time: 962 ms (started: 2021-04-20 00:25:44 +00:00)\n"
          ],
          "name": "stdout"
        }
      ]
    },
    {
      "cell_type": "code",
      "metadata": {
        "colab": {
          "base_uri": "https://localhost:8080/",
          "height": 207
        },
        "id": "Hxai17wBUZNZ",
        "outputId": "56ac51f8-0c57-46d5-d0f3-22f49c76a661"
      },
      "source": [
        "data.head()"
      ],
      "execution_count": 550,
      "outputs": [
        {
          "output_type": "execute_result",
          "data": {
            "text/html": [
              "<div>\n",
              "<style scoped>\n",
              "    .dataframe tbody tr th:only-of-type {\n",
              "        vertical-align: middle;\n",
              "    }\n",
              "\n",
              "    .dataframe tbody tr th {\n",
              "        vertical-align: top;\n",
              "    }\n",
              "\n",
              "    .dataframe thead th {\n",
              "        text-align: right;\n",
              "    }\n",
              "</style>\n",
              "<table border=\"1\" class=\"dataframe\">\n",
              "  <thead>\n",
              "    <tr style=\"text-align: right;\">\n",
              "      <th></th>\n",
              "      <th>Store Number</th>\n",
              "      <th>Address</th>\n",
              "      <th>City</th>\n",
              "      <th>Lat</th>\n",
              "      <th>Lon</th>\n",
              "    </tr>\n",
              "  </thead>\n",
              "  <tbody>\n",
              "    <tr>\n",
              "      <th>0</th>\n",
              "      <td>Connecticut State Capitol</td>\n",
              "      <td>210 Capitol Ave Hartford, CT 06106</td>\n",
              "      <td>Hartford</td>\n",
              "      <td>41.764290</td>\n",
              "      <td>-72.682499</td>\n",
              "    </tr>\n",
              "    <tr>\n",
              "      <th>1</th>\n",
              "      <td>556</td>\n",
              "      <td>1657 Route 12 Gales Ferry, CT 06335</td>\n",
              "      <td>Gales Ferry</td>\n",
              "      <td>41.427845</td>\n",
              "      <td>-72.082832</td>\n",
              "    </tr>\n",
              "    <tr>\n",
              "      <th>2</th>\n",
              "      <td>2056</td>\n",
              "      <td>25 Broadway, Corner Of East Main Mystic, CT 06355</td>\n",
              "      <td>Mystic</td>\n",
              "      <td>41.352719</td>\n",
              "      <td>-71.963196</td>\n",
              "    </tr>\n",
              "    <tr>\n",
              "      <th>3</th>\n",
              "      <td>124</td>\n",
              "      <td>98 Bridge St. Naugatuck, CT 06770</td>\n",
              "      <td>Naugatuck</td>\n",
              "      <td>41.501944</td>\n",
              "      <td>-73.053007</td>\n",
              "    </tr>\n",
              "    <tr>\n",
              "      <th>4</th>\n",
              "      <td>2220</td>\n",
              "      <td>3514 Main St. Coventry, CT 06238</td>\n",
              "      <td>Coventry</td>\n",
              "      <td>41.798062</td>\n",
              "      <td>-72.368803</td>\n",
              "    </tr>\n",
              "  </tbody>\n",
              "</table>\n",
              "</div>"
            ],
            "text/plain": [
              "                Store Number  ...        Lon\n",
              "0  Connecticut State Capitol  ... -72.682499\n",
              "1                        556  ... -72.082832\n",
              "2                       2056  ... -71.963196\n",
              "3                        124  ... -73.053007\n",
              "4                       2220  ... -72.368803\n",
              "\n",
              "[5 rows x 5 columns]"
            ]
          },
          "metadata": {
            "tags": []
          },
          "execution_count": 550
        },
        {
          "output_type": "stream",
          "text": [
            "time: 21.3 ms (started: 2021-04-20 00:25:45 +00:00)\n"
          ],
          "name": "stdout"
        }
      ]
    },
    {
      "cell_type": "code",
      "metadata": {
        "colab": {
          "base_uri": "https://localhost:8080/",
          "height": 1000
        },
        "id": "Ek-NU_cgUX6A",
        "outputId": "ba52287b-5e35-4894-9be7-2ad14cd8aa8a"
      },
      "source": [
        "# X-longitude,Y-latitude \n",
        "geogTable = data[['Lat', 'Lon']]\n",
        "\n",
        "#check location data\n",
        "data"
      ],
      "execution_count": 551,
      "outputs": [
        {
          "output_type": "execute_result",
          "data": {
            "text/html": [
              "<div>\n",
              "<style scoped>\n",
              "    .dataframe tbody tr th:only-of-type {\n",
              "        vertical-align: middle;\n",
              "    }\n",
              "\n",
              "    .dataframe tbody tr th {\n",
              "        vertical-align: top;\n",
              "    }\n",
              "\n",
              "    .dataframe thead th {\n",
              "        text-align: right;\n",
              "    }\n",
              "</style>\n",
              "<table border=\"1\" class=\"dataframe\">\n",
              "  <thead>\n",
              "    <tr style=\"text-align: right;\">\n",
              "      <th></th>\n",
              "      <th>Store Number</th>\n",
              "      <th>Address</th>\n",
              "      <th>City</th>\n",
              "      <th>Lat</th>\n",
              "      <th>Lon</th>\n",
              "    </tr>\n",
              "  </thead>\n",
              "  <tbody>\n",
              "    <tr>\n",
              "      <th>0</th>\n",
              "      <td>Connecticut State Capitol</td>\n",
              "      <td>210 Capitol Ave Hartford, CT 06106</td>\n",
              "      <td>Hartford</td>\n",
              "      <td>41.764290</td>\n",
              "      <td>-72.682499</td>\n",
              "    </tr>\n",
              "    <tr>\n",
              "      <th>1</th>\n",
              "      <td>556</td>\n",
              "      <td>1657 Route 12 Gales Ferry, CT 06335</td>\n",
              "      <td>Gales Ferry</td>\n",
              "      <td>41.427845</td>\n",
              "      <td>-72.082832</td>\n",
              "    </tr>\n",
              "    <tr>\n",
              "      <th>2</th>\n",
              "      <td>2056</td>\n",
              "      <td>25 Broadway, Corner Of East Main Mystic, CT 06355</td>\n",
              "      <td>Mystic</td>\n",
              "      <td>41.352719</td>\n",
              "      <td>-71.963196</td>\n",
              "    </tr>\n",
              "    <tr>\n",
              "      <th>3</th>\n",
              "      <td>124</td>\n",
              "      <td>98 Bridge St. Naugatuck, CT 06770</td>\n",
              "      <td>Naugatuck</td>\n",
              "      <td>41.501944</td>\n",
              "      <td>-73.053007</td>\n",
              "    </tr>\n",
              "    <tr>\n",
              "      <th>4</th>\n",
              "      <td>2220</td>\n",
              "      <td>3514 Main St. Coventry, CT 06238</td>\n",
              "      <td>Coventry</td>\n",
              "      <td>41.798062</td>\n",
              "      <td>-72.368803</td>\n",
              "    </tr>\n",
              "    <tr>\n",
              "      <th>5</th>\n",
              "      <td>1968</td>\n",
              "      <td>369 Main Street East Haven, CT 06512</td>\n",
              "      <td>East Haven</td>\n",
              "      <td>41.280455</td>\n",
              "      <td>-72.875420</td>\n",
              "    </tr>\n",
              "    <tr>\n",
              "      <th>6</th>\n",
              "      <td>857</td>\n",
              "      <td>660 Foxon Rd. East Haven, CT 06513</td>\n",
              "      <td>East Haven</td>\n",
              "      <td>41.321652</td>\n",
              "      <td>-72.851992</td>\n",
              "    </tr>\n",
              "    <tr>\n",
              "      <th>7</th>\n",
              "      <td>1151</td>\n",
              "      <td>464 Reidville Drive Waterbury, CT 06705</td>\n",
              "      <td>Waterbury</td>\n",
              "      <td>41.539105</td>\n",
              "      <td>-72.997707</td>\n",
              "    </tr>\n",
              "    <tr>\n",
              "      <th>8</th>\n",
              "      <td>17238</td>\n",
              "      <td>300 Chase Ave Waterbury, CT 06704</td>\n",
              "      <td>Waterbury</td>\n",
              "      <td>41.583317</td>\n",
              "      <td>-73.033702</td>\n",
              "    </tr>\n",
              "    <tr>\n",
              "      <th>9</th>\n",
              "      <td>1960</td>\n",
              "      <td>1279 West Main Street, Robinwood Shopping Plaz...</td>\n",
              "      <td>Waterbury</td>\n",
              "      <td>41.551629</td>\n",
              "      <td>-73.063912</td>\n",
              "    </tr>\n",
              "    <tr>\n",
              "      <th>10</th>\n",
              "      <td>2140</td>\n",
              "      <td>526 Meriden Road Waterbury, CT 06705</td>\n",
              "      <td>Waterbury</td>\n",
              "      <td>41.552161</td>\n",
              "      <td>-73.000983</td>\n",
              "    </tr>\n",
              "    <tr>\n",
              "      <th>11</th>\n",
              "      <td>2388</td>\n",
              "      <td>2000 North Main Street Waterbury, CT 06704</td>\n",
              "      <td>Waterbury</td>\n",
              "      <td>41.578216</td>\n",
              "      <td>-73.027191</td>\n",
              "    </tr>\n",
              "    <tr>\n",
              "      <th>12</th>\n",
              "      <td>172</td>\n",
              "      <td>2-6 Short Beach Rd, Branford, CT 06405</td>\n",
              "      <td>Branford</td>\n",
              "      <td>41.275207</td>\n",
              "      <td>-72.829181</td>\n",
              "    </tr>\n",
              "    <tr>\n",
              "      <th>13</th>\n",
              "      <td>7916</td>\n",
              "      <td>292 Spielman Hwy. Burlington, CT 06013</td>\n",
              "      <td>Burlington</td>\n",
              "      <td>41.771090</td>\n",
              "      <td>-72.970139</td>\n",
              "    </tr>\n",
              "    <tr>\n",
              "      <th>14</th>\n",
              "      <td>3835</td>\n",
              "      <td>72 Berlin Rd. Cromwell, CT 06416</td>\n",
              "      <td>Cromwell</td>\n",
              "      <td>41.602713</td>\n",
              "      <td>-72.688922</td>\n",
              "    </tr>\n",
              "    <tr>\n",
              "      <th>15</th>\n",
              "      <td>1202</td>\n",
              "      <td>20 Bank St. Granby, CT 06035</td>\n",
              "      <td>Granby</td>\n",
              "      <td>41.952439</td>\n",
              "      <td>-72.786056</td>\n",
              "    </tr>\n",
              "    <tr>\n",
              "      <th>16</th>\n",
              "      <td>1125</td>\n",
              "      <td>10 Lathrop Rd Plainfield, CT 06374</td>\n",
              "      <td>Plainfield</td>\n",
              "      <td>41.667374</td>\n",
              "      <td>-71.914370</td>\n",
              "    </tr>\n",
              "    <tr>\n",
              "      <th>17</th>\n",
              "      <td>1098</td>\n",
              "      <td>47 Hazard Ave Enfield, CT 06082</td>\n",
              "      <td>Enfield</td>\n",
              "      <td>41.990485</td>\n",
              "      <td>-72.576431</td>\n",
              "    </tr>\n",
              "    <tr>\n",
              "      <th>18</th>\n",
              "      <td>16603</td>\n",
              "      <td>90 Elm St Enfield, CT 06082</td>\n",
              "      <td>Enfield</td>\n",
              "      <td>41.995363</td>\n",
              "      <td>-72.582221</td>\n",
              "    </tr>\n",
              "    <tr>\n",
              "      <th>19</th>\n",
              "      <td>750</td>\n",
              "      <td>875 Enfield St, Enfield Plaza Shoppes Enfield,...</td>\n",
              "      <td>Enfield</td>\n",
              "      <td>41.998217</td>\n",
              "      <td>-72.593610</td>\n",
              "    </tr>\n",
              "    <tr>\n",
              "      <th>20</th>\n",
              "      <td>11007</td>\n",
              "      <td>123 Church St. New Haven, CT 06510</td>\n",
              "      <td>New Haven</td>\n",
              "      <td>41.306312</td>\n",
              "      <td>-72.925229</td>\n",
              "    </tr>\n",
              "    <tr>\n",
              "      <th>21</th>\n",
              "      <td>2259</td>\n",
              "      <td>215 Whalley Avenue New Haven, CT 06511</td>\n",
              "      <td>New Haven</td>\n",
              "      <td>41.316277</td>\n",
              "      <td>-72.939591</td>\n",
              "    </tr>\n",
              "    <tr>\n",
              "      <th>22</th>\n",
              "      <td>811</td>\n",
              "      <td>1150 Whalley Ave. New Haven, CT 06515</td>\n",
              "      <td>New Haven</td>\n",
              "      <td>41.329171</td>\n",
              "      <td>-72.968372</td>\n",
              "    </tr>\n",
              "    <tr>\n",
              "      <th>23</th>\n",
              "      <td>2022</td>\n",
              "      <td>163 Mountain Rd, Suffield, CT 06078</td>\n",
              "      <td>Suffield</td>\n",
              "      <td>41.983133</td>\n",
              "      <td>-72.656828</td>\n",
              "    </tr>\n",
              "    <tr>\n",
              "      <th>24</th>\n",
              "      <td>1109</td>\n",
              "      <td>7 Durant Ave. Bethel, CT 06801</td>\n",
              "      <td>Bethel</td>\n",
              "      <td>41.373567</td>\n",
              "      <td>-73.414798</td>\n",
              "    </tr>\n",
              "    <tr>\n",
              "      <th>25</th>\n",
              "      <td>16858</td>\n",
              "      <td>7 Stony Hill Rd Bethel, CT 06801</td>\n",
              "      <td>Bethel</td>\n",
              "      <td>41.414648</td>\n",
              "      <td>-73.401998</td>\n",
              "    </tr>\n",
              "    <tr>\n",
              "      <th>26</th>\n",
              "      <td>1149</td>\n",
              "      <td>696 West Ave. Norwalk, CT 06850</td>\n",
              "      <td>Norwalk</td>\n",
              "      <td>41.115302</td>\n",
              "      <td>-73.415467</td>\n",
              "    </tr>\n",
              "    <tr>\n",
              "      <th>27</th>\n",
              "      <td>1154</td>\n",
              "      <td>6 Willard Rd. Norwalk, CT 06851</td>\n",
              "      <td>Norwalk</td>\n",
              "      <td>41.127770</td>\n",
              "      <td>-73.388071</td>\n",
              "    </tr>\n",
              "    <tr>\n",
              "      <th>28</th>\n",
              "      <td>7856</td>\n",
              "      <td>281 Connecticut Ave. Norwalk, CT 06854</td>\n",
              "      <td>Norwalk</td>\n",
              "      <td>41.102619</td>\n",
              "      <td>-73.434925</td>\n",
              "    </tr>\n",
              "    <tr>\n",
              "      <th>29</th>\n",
              "      <td>854</td>\n",
              "      <td>327 Main Avenue Norwalk, CT 06851</td>\n",
              "      <td>Norwalk</td>\n",
              "      <td>41.136815</td>\n",
              "      <td>-73.425296</td>\n",
              "    </tr>\n",
              "    <tr>\n",
              "      <th>30</th>\n",
              "      <td>123</td>\n",
              "      <td>519 Boston Post Rd. Old Saybrook, CT 06475</td>\n",
              "      <td>Old Saybrook</td>\n",
              "      <td>41.299825</td>\n",
              "      <td>-72.376309</td>\n",
              "    </tr>\n",
              "    <tr>\n",
              "      <th>31</th>\n",
              "      <td>16633</td>\n",
              "      <td>475 Hartford Rd New Britain, CT 06053</td>\n",
              "      <td>New Britain</td>\n",
              "      <td>41.711125</td>\n",
              "      <td>-72.762979</td>\n",
              "    </tr>\n",
              "    <tr>\n",
              "      <th>32</th>\n",
              "      <td>294</td>\n",
              "      <td>177 Columbus Blvd. New Britain, CT 06051</td>\n",
              "      <td>New Britain</td>\n",
              "      <td>41.666665</td>\n",
              "      <td>-72.776664</td>\n",
              "    </tr>\n",
              "    <tr>\n",
              "      <th>33</th>\n",
              "      <td>760</td>\n",
              "      <td>713 West Main Street New Britain, CT 06053</td>\n",
              "      <td>New Britain</td>\n",
              "      <td>41.667414</td>\n",
              "      <td>-72.805806</td>\n",
              "    </tr>\n",
              "    <tr>\n",
              "      <th>34</th>\n",
              "      <td>17071</td>\n",
              "      <td>25 Boston Post Rd Orange, CT 06477</td>\n",
              "      <td>Orange</td>\n",
              "      <td>41.281049</td>\n",
              "      <td>-72.987925</td>\n",
              "    </tr>\n",
              "    <tr>\n",
              "      <th>35</th>\n",
              "      <td>2097</td>\n",
              "      <td>279 Boston Post Rd. Orange, CT 06477</td>\n",
              "      <td>Orange</td>\n",
              "      <td>41.267656</td>\n",
              "      <td>-73.001648</td>\n",
              "    </tr>\n",
              "    <tr>\n",
              "      <th>36</th>\n",
              "      <td>11264</td>\n",
              "      <td>705 Bridgeport Ave. Shelton, CT 06484</td>\n",
              "      <td>Shelton</td>\n",
              "      <td>41.276187</td>\n",
              "      <td>-73.124767</td>\n",
              "    </tr>\n",
              "  </tbody>\n",
              "</table>\n",
              "</div>"
            ],
            "text/plain": [
              "                 Store Number  ...        Lon\n",
              "0   Connecticut State Capitol  ... -72.682499\n",
              "1                         556  ... -72.082832\n",
              "2                        2056  ... -71.963196\n",
              "3                         124  ... -73.053007\n",
              "4                        2220  ... -72.368803\n",
              "5                        1968  ... -72.875420\n",
              "6                         857  ... -72.851992\n",
              "7                        1151  ... -72.997707\n",
              "8                       17238  ... -73.033702\n",
              "9                        1960  ... -73.063912\n",
              "10                       2140  ... -73.000983\n",
              "11                       2388  ... -73.027191\n",
              "12                        172  ... -72.829181\n",
              "13                       7916  ... -72.970139\n",
              "14                       3835  ... -72.688922\n",
              "15                       1202  ... -72.786056\n",
              "16                       1125  ... -71.914370\n",
              "17                       1098  ... -72.576431\n",
              "18                      16603  ... -72.582221\n",
              "19                        750  ... -72.593610\n",
              "20                      11007  ... -72.925229\n",
              "21                       2259  ... -72.939591\n",
              "22                        811  ... -72.968372\n",
              "23                       2022  ... -72.656828\n",
              "24                       1109  ... -73.414798\n",
              "25                      16858  ... -73.401998\n",
              "26                       1149  ... -73.415467\n",
              "27                       1154  ... -73.388071\n",
              "28                       7856  ... -73.434925\n",
              "29                        854  ... -73.425296\n",
              "30                        123  ... -72.376309\n",
              "31                      16633  ... -72.762979\n",
              "32                        294  ... -72.776664\n",
              "33                        760  ... -72.805806\n",
              "34                      17071  ... -72.987925\n",
              "35                       2097  ... -73.001648\n",
              "36                      11264  ... -73.124767\n",
              "\n",
              "[37 rows x 5 columns]"
            ]
          },
          "metadata": {
            "tags": []
          },
          "execution_count": 551
        },
        {
          "output_type": "stream",
          "text": [
            "time: 42.8 ms (started: 2021-04-20 00:25:45 +00:00)\n"
          ],
          "name": "stdout"
        }
      ]
    },
    {
      "cell_type": "code",
      "metadata": {
        "colab": {
          "base_uri": "https://localhost:8080/"
        },
        "id": "spJnKLdOl2JW",
        "outputId": "4e374d64-fcd8-4f99-e033-f9227cad98c5"
      },
      "source": [
        "data['City'].unique() # all counties available"
      ],
      "execution_count": 552,
      "outputs": [
        {
          "output_type": "execute_result",
          "data": {
            "text/plain": [
              "array(['Hartford', 'Gales Ferry', 'Mystic ', 'Naugatuck ', 'Coventry',\n",
              "       'East Haven', 'Waterbury', 'Branford', 'Burlington', 'Cromwell',\n",
              "       'Granby', 'Plainfield', 'Enfield', 'New Haven', 'Suffield',\n",
              "       'Bethel ', 'Norwalk', 'Old Saybrook ', 'New Britain', 'Orange',\n",
              "       'Shelton'], dtype=object)"
            ]
          },
          "metadata": {
            "tags": []
          },
          "execution_count": 552
        },
        {
          "output_type": "stream",
          "text": [
            "time: 6.63 ms (started: 2021-04-20 00:25:45 +00:00)\n"
          ],
          "name": "stdout"
        }
      ]
    },
    {
      "cell_type": "code",
      "metadata": {
        "colab": {
          "base_uri": "https://localhost:8080/"
        },
        "id": "gX2pbLk66FWs",
        "outputId": "f5164a2a-452d-4dd1-c007-dfd4645b4d03"
      },
      "source": [
        "#Simplify to only 23 towns...\n",
        "# df=data[data['COUNTY']=='Fairfield'] # get all the 23 towns in Fairfield County \n",
        "df = data\n",
        "df.shape #check shape to verify df"
      ],
      "execution_count": 553,
      "outputs": [
        {
          "output_type": "execute_result",
          "data": {
            "text/plain": [
              "(37, 5)"
            ]
          },
          "metadata": {
            "tags": []
          },
          "execution_count": 553
        },
        {
          "output_type": "stream",
          "text": [
            "time: 8.72 ms (started: 2021-04-20 00:25:45 +00:00)\n"
          ],
          "name": "stdout"
        }
      ]
    },
    {
      "cell_type": "code",
      "metadata": {
        "colab": {
          "base_uri": "https://localhost:8080/"
        },
        "id": "ByVHokbu6HtH",
        "outputId": "56f64dab-007a-4913-d71d-f1a9b407ae82"
      },
      "source": [
        "df.reset_index(inplace=True) #reset index"
      ],
      "execution_count": 554,
      "outputs": [
        {
          "output_type": "stream",
          "text": [
            "time: 2.71 ms (started: 2021-04-20 00:25:45 +00:00)\n"
          ],
          "name": "stdout"
        }
      ]
    },
    {
      "cell_type": "code",
      "metadata": {
        "colab": {
          "base_uri": "https://localhost:8080/",
          "height": 558
        },
        "id": "STl3VuNJ6JiE",
        "outputId": "8725a826-cb1a-4342-af0f-f93dc0ae1d55"
      },
      "source": [
        "#plotting the towns on an interactive map\n",
        "fig = px.scatter_mapbox(df, lat=\"Lat\", lon=\"Lon\", color=\"City\",zoom=8.25) #easy format to draw maps on plotly\n",
        "fig.update_layout(mapbox_style=\"carto-darkmatter\",title=\"City Map\")\n",
        "config = dict({'scrollZoom': False}) #stopped zoom config for standard view capture\n",
        "fig.show(config=config)"
      ],
      "execution_count": 555,
      "outputs": [
        {
          "output_type": "display_data",
          "data": {
            "text/html": [
              "<html>\n",
              "<head><meta charset=\"utf-8\" /></head>\n",
              "<body>\n",
              "    <div>\n",
              "            <script src=\"https://cdnjs.cloudflare.com/ajax/libs/mathjax/2.7.5/MathJax.js?config=TeX-AMS-MML_SVG\"></script><script type=\"text/javascript\">if (window.MathJax) {MathJax.Hub.Config({SVG: {font: \"STIX-Web\"}});}</script>\n",
              "                <script type=\"text/javascript\">window.PlotlyConfig = {MathJaxConfig: 'local'};</script>\n",
              "        <script src=\"https://cdn.plot.ly/plotly-latest.min.js\"></script>    \n",
              "            <div id=\"3cbed4c8-dbb3-40b2-8b0d-2ba351771efa\" class=\"plotly-graph-div\" style=\"height:525px; width:100%;\"></div>\n",
              "            <script type=\"text/javascript\">\n",
              "                \n",
              "                    window.PLOTLYENV=window.PLOTLYENV || {};\n",
              "                    \n",
              "                if (document.getElementById(\"3cbed4c8-dbb3-40b2-8b0d-2ba351771efa\")) {\n",
              "                    Plotly.newPlot(\n",
              "                        '3cbed4c8-dbb3-40b2-8b0d-2ba351771efa',\n",
              "                        [{\"hoverlabel\": {\"namelength\": 0}, \"hovertemplate\": \"City=Hartford<br>Lat=%{lat}<br>Lon=%{lon}\", \"lat\": [41.764289888527], \"legendgroup\": \"City=Hartford\", \"lon\": [-72.682499183992], \"marker\": {\"color\": \"#636efa\"}, \"mode\": \"markers\", \"name\": \"City=Hartford\", \"showlegend\": true, \"subplot\": \"mapbox\", \"type\": \"scattermapbox\"}, {\"hoverlabel\": {\"namelength\": 0}, \"hovertemplate\": \"City=Gales Ferry<br>Lat=%{lat}<br>Lon=%{lon}\", \"lat\": [41.4278446329939], \"legendgroup\": \"City=Gales Ferry\", \"lon\": [-72.082831702046], \"marker\": {\"color\": \"#EF553B\"}, \"mode\": \"markers\", \"name\": \"City=Gales Ferry\", \"showlegend\": true, \"subplot\": \"mapbox\", \"type\": \"scattermapbox\"}, {\"hoverlabel\": {\"namelength\": 0}, \"hovertemplate\": \"City=Mystic <br>Lat=%{lat}<br>Lon=%{lon}\", \"lat\": [41.3527192139631], \"legendgroup\": \"City=Mystic \", \"lon\": [-71.9631962032207], \"marker\": {\"color\": \"#00cc96\"}, \"mode\": \"markers\", \"name\": \"City=Mystic \", \"showlegend\": true, \"subplot\": \"mapbox\", \"type\": \"scattermapbox\"}, {\"hoverlabel\": {\"namelength\": 0}, \"hovertemplate\": \"City=Naugatuck <br>Lat=%{lat}<br>Lon=%{lon}\", \"lat\": [41.501944381666], \"legendgroup\": \"City=Naugatuck \", \"lon\": [-73.0530068032141], \"marker\": {\"color\": \"#ab63fa\"}, \"mode\": \"markers\", \"name\": \"City=Naugatuck \", \"showlegend\": true, \"subplot\": \"mapbox\", \"type\": \"scattermapbox\"}, {\"hoverlabel\": {\"namelength\": 0}, \"hovertemplate\": \"City=Coventry<br>Lat=%{lat}<br>Lon=%{lon}\", \"lat\": [41.7980615345505], \"legendgroup\": \"City=Coventry\", \"lon\": [-72.3688034032008], \"marker\": {\"color\": \"#FFA15A\"}, \"mode\": \"markers\", \"name\": \"City=Coventry\", \"showlegend\": true, \"subplot\": \"mapbox\", \"type\": \"scattermapbox\"}, {\"hoverlabel\": {\"namelength\": 0}, \"hovertemplate\": \"City=East Haven<br>Lat=%{lat}<br>Lon=%{lon}\", \"lat\": [41.2804548194501, 41.3216517174151], \"legendgroup\": \"City=East Haven\", \"lon\": [-72.8754200320598, -72.8519923339094], \"marker\": {\"color\": \"#19d3f3\"}, \"mode\": \"markers\", \"name\": \"City=East Haven\", \"showlegend\": true, \"subplot\": \"mapbox\", \"type\": \"scattermapbox\"}, {\"hoverlabel\": {\"namelength\": 0}, \"hovertemplate\": \"City=Waterbury<br>Lat=%{lat}<br>Lon=%{lon}\", \"lat\": [41.5391047602487, 41.5833165571109, 41.5516292887622, 41.5521614901779, 41.5782163936639], \"legendgroup\": \"City=Waterbury\", \"lon\": [-72.9977074878687, -73.0337020032104, -73.0639124608836, -73.0009827608837, -73.0271913608825], \"marker\": {\"color\": \"#FF6692\"}, \"mode\": \"markers\", \"name\": \"City=Waterbury\", \"showlegend\": true, \"subplot\": \"mapbox\", \"type\": \"scattermapbox\"}, {\"hoverlabel\": {\"namelength\": 0}, \"hovertemplate\": \"City=Branford<br>Lat=%{lat}<br>Lon=%{lon}\", \"lat\": [41.2752069405999], \"legendgroup\": \"City=Branford\", \"lon\": [-72.8291813185678], \"marker\": {\"color\": \"#B6E880\"}, \"mode\": \"markers\", \"name\": \"City=Branford\", \"showlegend\": true, \"subplot\": \"mapbox\", \"type\": \"scattermapbox\"}, {\"hoverlabel\": {\"namelength\": 0}, \"hovertemplate\": \"City=Burlington<br>Lat=%{lat}<br>Lon=%{lon}\", \"lat\": [41.7710899857772], \"legendgroup\": \"City=Burlington\", \"lon\": [-72.9701388436788], \"marker\": {\"color\": \"#FF97FF\"}, \"mode\": \"markers\", \"name\": \"City=Burlington\", \"showlegend\": true, \"subplot\": \"mapbox\", \"type\": \"scattermapbox\"}, {\"hoverlabel\": {\"namelength\": 0}, \"hovertemplate\": \"City=Cromwell<br>Lat=%{lat}<br>Lon=%{lon}\", \"lat\": [41.6027131915866], \"legendgroup\": \"City=Cromwell\", \"lon\": [-72.6889224743737], \"marker\": {\"color\": \"#FECB52\"}, \"mode\": \"markers\", \"name\": \"City=Cromwell\", \"showlegend\": true, \"subplot\": \"mapbox\", \"type\": \"scattermapbox\"}, {\"hoverlabel\": {\"namelength\": 0}, \"hovertemplate\": \"City=Granby<br>Lat=%{lat}<br>Lon=%{lon}\", \"lat\": [41.9524391135402], \"legendgroup\": \"City=Granby\", \"lon\": [-72.7860561166862], \"marker\": {\"color\": \"#636efa\"}, \"mode\": \"markers\", \"name\": \"City=Granby\", \"showlegend\": true, \"subplot\": \"mapbox\", \"type\": \"scattermapbox\"}, {\"hoverlabel\": {\"namelength\": 0}, \"hovertemplate\": \"City=Plainfield<br>Lat=%{lat}<br>Lon=%{lon}\", \"lat\": [41.6673744865115], \"legendgroup\": \"City=Plainfield\", \"lon\": [-71.9143697897145], \"marker\": {\"color\": \"#EF553B\"}, \"mode\": \"markers\", \"name\": \"City=Plainfield\", \"showlegend\": true, \"subplot\": \"mapbox\", \"type\": \"scattermapbox\"}, {\"hoverlabel\": {\"namelength\": 0}, \"hovertemplate\": \"City=Enfield<br>Lat=%{lat}<br>Lon=%{lon}\", \"lat\": [41.9904847334974, 41.9953633420842, 41.9982166854156], \"legendgroup\": \"City=Enfield\", \"lon\": [-72.5764313031922, -72.582220603192, -72.5936096590124], \"marker\": {\"color\": \"#00cc96\"}, \"mode\": \"markers\", \"name\": \"City=Enfield\", \"showlegend\": true, \"subplot\": \"mapbox\", \"type\": \"scattermapbox\"}, {\"hoverlabel\": {\"namelength\": 0}, \"hovertemplate\": \"City=New Haven<br>Lat=%{lat}<br>Lon=%{lon}\", \"lat\": [41.3063117459586, 41.3162769832612, 41.3291713941692], \"legendgroup\": \"City=New Haven\", \"lon\": [-72.9252293302072, -72.9395912455504, -72.9683717878781], \"marker\": {\"color\": \"#ab63fa\"}, \"mode\": \"markers\", \"name\": \"City=New Haven\", \"showlegend\": true, \"subplot\": \"mapbox\", \"type\": \"scattermapbox\"}, {\"hoverlabel\": {\"namelength\": 0}, \"hovertemplate\": \"City=Suffield<br>Lat=%{lat}<br>Lon=%{lon}\", \"lat\": [41.9831328097653], \"legendgroup\": \"City=Suffield\", \"lon\": [-72.6568284185362], \"marker\": {\"color\": \"#FFA15A\"}, \"mode\": \"markers\", \"name\": \"City=Suffield\", \"showlegend\": true, \"subplot\": \"mapbox\", \"type\": \"scattermapbox\"}, {\"hoverlabel\": {\"namelength\": 0}, \"hovertemplate\": \"City=Bethel <br>Lat=%{lat}<br>Lon=%{lon}\", \"lat\": [41.3735674146904, 41.4146476376325], \"legendgroup\": \"City=Bethel \", \"lon\": [-73.4147982032198, -73.4019981032179], \"marker\": {\"color\": \"#19d3f3\"}, \"mode\": \"markers\", \"name\": \"City=Bethel \", \"showlegend\": true, \"subplot\": \"mapbox\", \"type\": \"scattermapbox\"}, {\"hoverlabel\": {\"namelength\": 0}, \"hovertemplate\": \"City=Norwalk<br>Lat=%{lat}<br>Lon=%{lon}\", \"lat\": [41.1153022539571, 41.1277695785016, 41.1026194238766, 41.1368152698305], \"legendgroup\": \"City=Norwalk\", \"lon\": [-73.4154673455593, -73.3880707455588, -73.4349253320676, -73.4252955032302], \"marker\": {\"color\": \"#FF6692\"}, \"mode\": \"markers\", \"name\": \"City=Norwalk\", \"showlegend\": true, \"subplot\": \"mapbox\", \"type\": \"scattermapbox\"}, {\"hoverlabel\": {\"namelength\": 0}, \"hovertemplate\": \"City=Old Saybrook <br>Lat=%{lat}<br>Lon=%{lon}\", \"lat\": [41.2998247643997], \"legendgroup\": \"City=Old Saybrook \", \"lon\": [-72.3763086167153], \"marker\": {\"color\": \"#B6E880\"}, \"mode\": \"markers\", \"name\": \"City=Old Saybrook \", \"showlegend\": true, \"subplot\": \"mapbox\", \"type\": \"scattermapbox\"}, {\"hoverlabel\": {\"namelength\": 0}, \"hovertemplate\": \"City=New Britain<br>Lat=%{lat}<br>Lon=%{lon}\", \"lat\": [41.7111247364647, 41.6666648767678, 41.6674142621264], \"legendgroup\": \"City=New Britain\", \"lon\": [-72.7629790032047, -72.7766643455349, -72.805806387863], \"marker\": {\"color\": \"#FF97FF\"}, \"mode\": \"markers\", \"name\": \"City=New Britain\", \"showlegend\": true, \"subplot\": \"mapbox\", \"type\": \"scattermapbox\"}, {\"hoverlabel\": {\"namelength\": 0}, \"hovertemplate\": \"City=Orange<br>Lat=%{lat}<br>Lon=%{lon}\", \"lat\": [41.2810488305456, 41.2676558768689], \"legendgroup\": \"City=Orange\", \"lon\": [-72.987924545552, -73.0016476878808], \"marker\": {\"color\": \"#FECB52\"}, \"mode\": \"markers\", \"name\": \"City=Orange\", \"showlegend\": true, \"subplot\": \"mapbox\", \"type\": \"scattermapbox\"}, {\"hoverlabel\": {\"namelength\": 0}, \"hovertemplate\": \"City=Shelton<br>Lat=%{lat}<br>Lon=%{lon}\", \"lat\": [41.2761866736857], \"legendgroup\": \"City=Shelton\", \"lon\": [-73.1247672185678], \"marker\": {\"color\": \"#636efa\"}, \"mode\": \"markers\", \"name\": \"City=Shelton\", \"showlegend\": true, \"subplot\": \"mapbox\", \"type\": \"scattermapbox\"}],\n",
              "                        {\"legend\": {\"tracegroupgap\": 0}, \"mapbox\": {\"center\": {\"lat\": 41.51026534297415, \"lon\": -72.85807701794954}, \"domain\": {\"x\": [0.0, 1.0], \"y\": [0.0, 1.0]}, \"style\": \"carto-darkmatter\", \"zoom\": 8.25}, \"margin\": {\"t\": 60}, \"template\": {\"data\": {\"bar\": [{\"error_x\": {\"color\": \"#2a3f5f\"}, \"error_y\": {\"color\": \"#2a3f5f\"}, \"marker\": {\"line\": {\"color\": \"#E5ECF6\", \"width\": 0.5}}, \"type\": \"bar\"}], \"barpolar\": [{\"marker\": {\"line\": {\"color\": \"#E5ECF6\", \"width\": 0.5}}, \"type\": \"barpolar\"}], \"carpet\": [{\"aaxis\": {\"endlinecolor\": \"#2a3f5f\", \"gridcolor\": \"white\", \"linecolor\": \"white\", \"minorgridcolor\": \"white\", \"startlinecolor\": \"#2a3f5f\"}, \"baxis\": {\"endlinecolor\": \"#2a3f5f\", \"gridcolor\": \"white\", \"linecolor\": \"white\", \"minorgridcolor\": \"white\", \"startlinecolor\": \"#2a3f5f\"}, \"type\": \"carpet\"}], \"choropleth\": [{\"colorbar\": {\"outlinewidth\": 0, \"ticks\": \"\"}, \"type\": \"choropleth\"}], \"contour\": [{\"colorbar\": {\"outlinewidth\": 0, \"ticks\": \"\"}, \"colorscale\": [[0.0, \"#0d0887\"], [0.1111111111111111, \"#46039f\"], [0.2222222222222222, \"#7201a8\"], [0.3333333333333333, \"#9c179e\"], [0.4444444444444444, \"#bd3786\"], [0.5555555555555556, \"#d8576b\"], [0.6666666666666666, \"#ed7953\"], [0.7777777777777778, \"#fb9f3a\"], [0.8888888888888888, \"#fdca26\"], [1.0, \"#f0f921\"]], \"type\": \"contour\"}], \"contourcarpet\": [{\"colorbar\": {\"outlinewidth\": 0, \"ticks\": \"\"}, \"type\": \"contourcarpet\"}], \"heatmap\": [{\"colorbar\": {\"outlinewidth\": 0, \"ticks\": \"\"}, \"colorscale\": [[0.0, \"#0d0887\"], [0.1111111111111111, \"#46039f\"], [0.2222222222222222, \"#7201a8\"], [0.3333333333333333, \"#9c179e\"], [0.4444444444444444, \"#bd3786\"], [0.5555555555555556, \"#d8576b\"], [0.6666666666666666, \"#ed7953\"], [0.7777777777777778, \"#fb9f3a\"], [0.8888888888888888, \"#fdca26\"], [1.0, \"#f0f921\"]], \"type\": \"heatmap\"}], \"heatmapgl\": [{\"colorbar\": {\"outlinewidth\": 0, \"ticks\": \"\"}, \"colorscale\": [[0.0, \"#0d0887\"], [0.1111111111111111, \"#46039f\"], [0.2222222222222222, \"#7201a8\"], [0.3333333333333333, \"#9c179e\"], [0.4444444444444444, \"#bd3786\"], [0.5555555555555556, \"#d8576b\"], [0.6666666666666666, \"#ed7953\"], [0.7777777777777778, \"#fb9f3a\"], [0.8888888888888888, \"#fdca26\"], [1.0, \"#f0f921\"]], \"type\": \"heatmapgl\"}], \"histogram\": [{\"marker\": {\"colorbar\": {\"outlinewidth\": 0, \"ticks\": \"\"}}, \"type\": \"histogram\"}], \"histogram2d\": [{\"colorbar\": {\"outlinewidth\": 0, \"ticks\": \"\"}, \"colorscale\": [[0.0, \"#0d0887\"], [0.1111111111111111, \"#46039f\"], [0.2222222222222222, \"#7201a8\"], [0.3333333333333333, \"#9c179e\"], [0.4444444444444444, \"#bd3786\"], [0.5555555555555556, \"#d8576b\"], [0.6666666666666666, \"#ed7953\"], [0.7777777777777778, \"#fb9f3a\"], [0.8888888888888888, \"#fdca26\"], [1.0, \"#f0f921\"]], \"type\": \"histogram2d\"}], \"histogram2dcontour\": [{\"colorbar\": {\"outlinewidth\": 0, \"ticks\": \"\"}, \"colorscale\": [[0.0, \"#0d0887\"], [0.1111111111111111, \"#46039f\"], [0.2222222222222222, \"#7201a8\"], [0.3333333333333333, \"#9c179e\"], [0.4444444444444444, \"#bd3786\"], [0.5555555555555556, \"#d8576b\"], [0.6666666666666666, \"#ed7953\"], [0.7777777777777778, \"#fb9f3a\"], [0.8888888888888888, \"#fdca26\"], [1.0, \"#f0f921\"]], \"type\": \"histogram2dcontour\"}], \"mesh3d\": [{\"colorbar\": {\"outlinewidth\": 0, \"ticks\": \"\"}, \"type\": \"mesh3d\"}], \"parcoords\": [{\"line\": {\"colorbar\": {\"outlinewidth\": 0, \"ticks\": \"\"}}, \"type\": \"parcoords\"}], \"pie\": [{\"automargin\": true, \"type\": \"pie\"}], \"scatter\": [{\"marker\": {\"colorbar\": {\"outlinewidth\": 0, \"ticks\": \"\"}}, \"type\": \"scatter\"}], \"scatter3d\": [{\"line\": {\"colorbar\": {\"outlinewidth\": 0, \"ticks\": \"\"}}, \"marker\": {\"colorbar\": {\"outlinewidth\": 0, \"ticks\": \"\"}}, \"type\": \"scatter3d\"}], \"scattercarpet\": [{\"marker\": {\"colorbar\": {\"outlinewidth\": 0, \"ticks\": \"\"}}, \"type\": \"scattercarpet\"}], \"scattergeo\": [{\"marker\": {\"colorbar\": {\"outlinewidth\": 0, \"ticks\": \"\"}}, \"type\": \"scattergeo\"}], \"scattergl\": [{\"marker\": {\"colorbar\": {\"outlinewidth\": 0, \"ticks\": \"\"}}, \"type\": \"scattergl\"}], \"scattermapbox\": [{\"marker\": {\"colorbar\": {\"outlinewidth\": 0, \"ticks\": \"\"}}, \"type\": \"scattermapbox\"}], \"scatterpolar\": [{\"marker\": {\"colorbar\": {\"outlinewidth\": 0, \"ticks\": \"\"}}, \"type\": \"scatterpolar\"}], \"scatterpolargl\": [{\"marker\": {\"colorbar\": {\"outlinewidth\": 0, \"ticks\": \"\"}}, \"type\": \"scatterpolargl\"}], \"scatterternary\": [{\"marker\": {\"colorbar\": {\"outlinewidth\": 0, \"ticks\": \"\"}}, \"type\": \"scatterternary\"}], \"surface\": [{\"colorbar\": {\"outlinewidth\": 0, \"ticks\": \"\"}, \"colorscale\": [[0.0, \"#0d0887\"], [0.1111111111111111, \"#46039f\"], [0.2222222222222222, \"#7201a8\"], [0.3333333333333333, \"#9c179e\"], [0.4444444444444444, \"#bd3786\"], [0.5555555555555556, \"#d8576b\"], [0.6666666666666666, \"#ed7953\"], [0.7777777777777778, \"#fb9f3a\"], [0.8888888888888888, \"#fdca26\"], [1.0, \"#f0f921\"]], \"type\": \"surface\"}], \"table\": [{\"cells\": {\"fill\": {\"color\": \"#EBF0F8\"}, \"line\": {\"color\": \"white\"}}, \"header\": {\"fill\": {\"color\": \"#C8D4E3\"}, \"line\": {\"color\": \"white\"}}, \"type\": \"table\"}]}, \"layout\": {\"annotationdefaults\": {\"arrowcolor\": \"#2a3f5f\", \"arrowhead\": 0, \"arrowwidth\": 1}, \"coloraxis\": {\"colorbar\": {\"outlinewidth\": 0, \"ticks\": \"\"}}, \"colorscale\": {\"diverging\": [[0, \"#8e0152\"], [0.1, \"#c51b7d\"], [0.2, \"#de77ae\"], [0.3, \"#f1b6da\"], [0.4, \"#fde0ef\"], [0.5, \"#f7f7f7\"], [0.6, \"#e6f5d0\"], [0.7, \"#b8e186\"], [0.8, \"#7fbc41\"], [0.9, \"#4d9221\"], [1, \"#276419\"]], \"sequential\": [[0.0, \"#0d0887\"], [0.1111111111111111, \"#46039f\"], [0.2222222222222222, \"#7201a8\"], [0.3333333333333333, \"#9c179e\"], [0.4444444444444444, \"#bd3786\"], [0.5555555555555556, \"#d8576b\"], [0.6666666666666666, \"#ed7953\"], [0.7777777777777778, \"#fb9f3a\"], [0.8888888888888888, \"#fdca26\"], [1.0, \"#f0f921\"]], \"sequentialminus\": [[0.0, \"#0d0887\"], [0.1111111111111111, \"#46039f\"], [0.2222222222222222, \"#7201a8\"], [0.3333333333333333, \"#9c179e\"], [0.4444444444444444, \"#bd3786\"], [0.5555555555555556, \"#d8576b\"], [0.6666666666666666, \"#ed7953\"], [0.7777777777777778, \"#fb9f3a\"], [0.8888888888888888, \"#fdca26\"], [1.0, \"#f0f921\"]]}, \"colorway\": [\"#636efa\", \"#EF553B\", \"#00cc96\", \"#ab63fa\", \"#FFA15A\", \"#19d3f3\", \"#FF6692\", \"#B6E880\", \"#FF97FF\", \"#FECB52\"], \"font\": {\"color\": \"#2a3f5f\"}, \"geo\": {\"bgcolor\": \"white\", \"lakecolor\": \"white\", \"landcolor\": \"#E5ECF6\", \"showlakes\": true, \"showland\": true, \"subunitcolor\": \"white\"}, \"hoverlabel\": {\"align\": \"left\"}, \"hovermode\": \"closest\", \"mapbox\": {\"style\": \"light\"}, \"paper_bgcolor\": \"white\", \"plot_bgcolor\": \"#E5ECF6\", \"polar\": {\"angularaxis\": {\"gridcolor\": \"white\", \"linecolor\": \"white\", \"ticks\": \"\"}, \"bgcolor\": \"#E5ECF6\", \"radialaxis\": {\"gridcolor\": \"white\", \"linecolor\": \"white\", \"ticks\": \"\"}}, \"scene\": {\"xaxis\": {\"backgroundcolor\": \"#E5ECF6\", \"gridcolor\": \"white\", \"gridwidth\": 2, \"linecolor\": \"white\", \"showbackground\": true, \"ticks\": \"\", \"zerolinecolor\": \"white\"}, \"yaxis\": {\"backgroundcolor\": \"#E5ECF6\", \"gridcolor\": \"white\", \"gridwidth\": 2, \"linecolor\": \"white\", \"showbackground\": true, \"ticks\": \"\", \"zerolinecolor\": \"white\"}, \"zaxis\": {\"backgroundcolor\": \"#E5ECF6\", \"gridcolor\": \"white\", \"gridwidth\": 2, \"linecolor\": \"white\", \"showbackground\": true, \"ticks\": \"\", \"zerolinecolor\": \"white\"}}, \"shapedefaults\": {\"line\": {\"color\": \"#2a3f5f\"}}, \"ternary\": {\"aaxis\": {\"gridcolor\": \"white\", \"linecolor\": \"white\", \"ticks\": \"\"}, \"baxis\": {\"gridcolor\": \"white\", \"linecolor\": \"white\", \"ticks\": \"\"}, \"bgcolor\": \"#E5ECF6\", \"caxis\": {\"gridcolor\": \"white\", \"linecolor\": \"white\", \"ticks\": \"\"}}, \"title\": {\"x\": 0.05}, \"xaxis\": {\"automargin\": true, \"gridcolor\": \"white\", \"linecolor\": \"white\", \"ticks\": \"\", \"title\": {\"standoff\": 15}, \"zerolinecolor\": \"white\", \"zerolinewidth\": 2}, \"yaxis\": {\"automargin\": true, \"gridcolor\": \"white\", \"linecolor\": \"white\", \"ticks\": \"\", \"title\": {\"standoff\": 15}, \"zerolinecolor\": \"white\", \"zerolinewidth\": 2}}}, \"title\": {\"text\": \"City Map\"}},\n",
              "                        {\"scrollZoom\": false, \"responsive\": true}\n",
              "                    ).then(function(){\n",
              "                            \n",
              "var gd = document.getElementById('3cbed4c8-dbb3-40b2-8b0d-2ba351771efa');\n",
              "var x = new MutationObserver(function (mutations, observer) {{\n",
              "        var display = window.getComputedStyle(gd).display;\n",
              "        if (!display || display === 'none') {{\n",
              "            console.log([gd, 'removed!']);\n",
              "            Plotly.purge(gd);\n",
              "            observer.disconnect();\n",
              "        }}\n",
              "}});\n",
              "\n",
              "// Listen for the removal of the full notebook cells\n",
              "var notebookContainer = gd.closest('#notebook-container');\n",
              "if (notebookContainer) {{\n",
              "    x.observe(notebookContainer, {childList: true});\n",
              "}}\n",
              "\n",
              "// Listen for the clearing of the current output cell\n",
              "var outputEl = gd.closest('.output');\n",
              "if (outputEl) {{\n",
              "    x.observe(outputEl, {childList: true});\n",
              "}}\n",
              "\n",
              "                        })\n",
              "                };\n",
              "                \n",
              "            </script>\n",
              "        </div>\n",
              "</body>\n",
              "</html>"
            ]
          },
          "metadata": {
            "tags": []
          }
        },
        {
          "output_type": "stream",
          "text": [
            "time: 492 ms (started: 2021-04-20 00:25:45 +00:00)\n"
          ],
          "name": "stdout"
        }
      ]
    },
    {
      "cell_type": "code",
      "metadata": {
        "colab": {
          "base_uri": "https://localhost:8080/",
          "height": 1000
        },
        "id": "2-tc4x3d6qja",
        "outputId": "690c2954-7b11-4760-af0a-96f0d785ba17"
      },
      "source": [
        "# X-longitude,Y-latitude \n",
        "geogTable = df[['City','Lat', 'Lon']] \n",
        "geogTable #verify geogTable"
      ],
      "execution_count": 556,
      "outputs": [
        {
          "output_type": "execute_result",
          "data": {
            "text/html": [
              "<div>\n",
              "<style scoped>\n",
              "    .dataframe tbody tr th:only-of-type {\n",
              "        vertical-align: middle;\n",
              "    }\n",
              "\n",
              "    .dataframe tbody tr th {\n",
              "        vertical-align: top;\n",
              "    }\n",
              "\n",
              "    .dataframe thead th {\n",
              "        text-align: right;\n",
              "    }\n",
              "</style>\n",
              "<table border=\"1\" class=\"dataframe\">\n",
              "  <thead>\n",
              "    <tr style=\"text-align: right;\">\n",
              "      <th></th>\n",
              "      <th>City</th>\n",
              "      <th>Lat</th>\n",
              "      <th>Lon</th>\n",
              "    </tr>\n",
              "  </thead>\n",
              "  <tbody>\n",
              "    <tr>\n",
              "      <th>0</th>\n",
              "      <td>Hartford</td>\n",
              "      <td>41.764290</td>\n",
              "      <td>-72.682499</td>\n",
              "    </tr>\n",
              "    <tr>\n",
              "      <th>1</th>\n",
              "      <td>Gales Ferry</td>\n",
              "      <td>41.427845</td>\n",
              "      <td>-72.082832</td>\n",
              "    </tr>\n",
              "    <tr>\n",
              "      <th>2</th>\n",
              "      <td>Mystic</td>\n",
              "      <td>41.352719</td>\n",
              "      <td>-71.963196</td>\n",
              "    </tr>\n",
              "    <tr>\n",
              "      <th>3</th>\n",
              "      <td>Naugatuck</td>\n",
              "      <td>41.501944</td>\n",
              "      <td>-73.053007</td>\n",
              "    </tr>\n",
              "    <tr>\n",
              "      <th>4</th>\n",
              "      <td>Coventry</td>\n",
              "      <td>41.798062</td>\n",
              "      <td>-72.368803</td>\n",
              "    </tr>\n",
              "    <tr>\n",
              "      <th>5</th>\n",
              "      <td>East Haven</td>\n",
              "      <td>41.280455</td>\n",
              "      <td>-72.875420</td>\n",
              "    </tr>\n",
              "    <tr>\n",
              "      <th>6</th>\n",
              "      <td>East Haven</td>\n",
              "      <td>41.321652</td>\n",
              "      <td>-72.851992</td>\n",
              "    </tr>\n",
              "    <tr>\n",
              "      <th>7</th>\n",
              "      <td>Waterbury</td>\n",
              "      <td>41.539105</td>\n",
              "      <td>-72.997707</td>\n",
              "    </tr>\n",
              "    <tr>\n",
              "      <th>8</th>\n",
              "      <td>Waterbury</td>\n",
              "      <td>41.583317</td>\n",
              "      <td>-73.033702</td>\n",
              "    </tr>\n",
              "    <tr>\n",
              "      <th>9</th>\n",
              "      <td>Waterbury</td>\n",
              "      <td>41.551629</td>\n",
              "      <td>-73.063912</td>\n",
              "    </tr>\n",
              "    <tr>\n",
              "      <th>10</th>\n",
              "      <td>Waterbury</td>\n",
              "      <td>41.552161</td>\n",
              "      <td>-73.000983</td>\n",
              "    </tr>\n",
              "    <tr>\n",
              "      <th>11</th>\n",
              "      <td>Waterbury</td>\n",
              "      <td>41.578216</td>\n",
              "      <td>-73.027191</td>\n",
              "    </tr>\n",
              "    <tr>\n",
              "      <th>12</th>\n",
              "      <td>Branford</td>\n",
              "      <td>41.275207</td>\n",
              "      <td>-72.829181</td>\n",
              "    </tr>\n",
              "    <tr>\n",
              "      <th>13</th>\n",
              "      <td>Burlington</td>\n",
              "      <td>41.771090</td>\n",
              "      <td>-72.970139</td>\n",
              "    </tr>\n",
              "    <tr>\n",
              "      <th>14</th>\n",
              "      <td>Cromwell</td>\n",
              "      <td>41.602713</td>\n",
              "      <td>-72.688922</td>\n",
              "    </tr>\n",
              "    <tr>\n",
              "      <th>15</th>\n",
              "      <td>Granby</td>\n",
              "      <td>41.952439</td>\n",
              "      <td>-72.786056</td>\n",
              "    </tr>\n",
              "    <tr>\n",
              "      <th>16</th>\n",
              "      <td>Plainfield</td>\n",
              "      <td>41.667374</td>\n",
              "      <td>-71.914370</td>\n",
              "    </tr>\n",
              "    <tr>\n",
              "      <th>17</th>\n",
              "      <td>Enfield</td>\n",
              "      <td>41.990485</td>\n",
              "      <td>-72.576431</td>\n",
              "    </tr>\n",
              "    <tr>\n",
              "      <th>18</th>\n",
              "      <td>Enfield</td>\n",
              "      <td>41.995363</td>\n",
              "      <td>-72.582221</td>\n",
              "    </tr>\n",
              "    <tr>\n",
              "      <th>19</th>\n",
              "      <td>Enfield</td>\n",
              "      <td>41.998217</td>\n",
              "      <td>-72.593610</td>\n",
              "    </tr>\n",
              "    <tr>\n",
              "      <th>20</th>\n",
              "      <td>New Haven</td>\n",
              "      <td>41.306312</td>\n",
              "      <td>-72.925229</td>\n",
              "    </tr>\n",
              "    <tr>\n",
              "      <th>21</th>\n",
              "      <td>New Haven</td>\n",
              "      <td>41.316277</td>\n",
              "      <td>-72.939591</td>\n",
              "    </tr>\n",
              "    <tr>\n",
              "      <th>22</th>\n",
              "      <td>New Haven</td>\n",
              "      <td>41.329171</td>\n",
              "      <td>-72.968372</td>\n",
              "    </tr>\n",
              "    <tr>\n",
              "      <th>23</th>\n",
              "      <td>Suffield</td>\n",
              "      <td>41.983133</td>\n",
              "      <td>-72.656828</td>\n",
              "    </tr>\n",
              "    <tr>\n",
              "      <th>24</th>\n",
              "      <td>Bethel</td>\n",
              "      <td>41.373567</td>\n",
              "      <td>-73.414798</td>\n",
              "    </tr>\n",
              "    <tr>\n",
              "      <th>25</th>\n",
              "      <td>Bethel</td>\n",
              "      <td>41.414648</td>\n",
              "      <td>-73.401998</td>\n",
              "    </tr>\n",
              "    <tr>\n",
              "      <th>26</th>\n",
              "      <td>Norwalk</td>\n",
              "      <td>41.115302</td>\n",
              "      <td>-73.415467</td>\n",
              "    </tr>\n",
              "    <tr>\n",
              "      <th>27</th>\n",
              "      <td>Norwalk</td>\n",
              "      <td>41.127770</td>\n",
              "      <td>-73.388071</td>\n",
              "    </tr>\n",
              "    <tr>\n",
              "      <th>28</th>\n",
              "      <td>Norwalk</td>\n",
              "      <td>41.102619</td>\n",
              "      <td>-73.434925</td>\n",
              "    </tr>\n",
              "    <tr>\n",
              "      <th>29</th>\n",
              "      <td>Norwalk</td>\n",
              "      <td>41.136815</td>\n",
              "      <td>-73.425296</td>\n",
              "    </tr>\n",
              "    <tr>\n",
              "      <th>30</th>\n",
              "      <td>Old Saybrook</td>\n",
              "      <td>41.299825</td>\n",
              "      <td>-72.376309</td>\n",
              "    </tr>\n",
              "    <tr>\n",
              "      <th>31</th>\n",
              "      <td>New Britain</td>\n",
              "      <td>41.711125</td>\n",
              "      <td>-72.762979</td>\n",
              "    </tr>\n",
              "    <tr>\n",
              "      <th>32</th>\n",
              "      <td>New Britain</td>\n",
              "      <td>41.666665</td>\n",
              "      <td>-72.776664</td>\n",
              "    </tr>\n",
              "    <tr>\n",
              "      <th>33</th>\n",
              "      <td>New Britain</td>\n",
              "      <td>41.667414</td>\n",
              "      <td>-72.805806</td>\n",
              "    </tr>\n",
              "    <tr>\n",
              "      <th>34</th>\n",
              "      <td>Orange</td>\n",
              "      <td>41.281049</td>\n",
              "      <td>-72.987925</td>\n",
              "    </tr>\n",
              "    <tr>\n",
              "      <th>35</th>\n",
              "      <td>Orange</td>\n",
              "      <td>41.267656</td>\n",
              "      <td>-73.001648</td>\n",
              "    </tr>\n",
              "    <tr>\n",
              "      <th>36</th>\n",
              "      <td>Shelton</td>\n",
              "      <td>41.276187</td>\n",
              "      <td>-73.124767</td>\n",
              "    </tr>\n",
              "  </tbody>\n",
              "</table>\n",
              "</div>"
            ],
            "text/plain": [
              "             City        Lat        Lon\n",
              "0        Hartford  41.764290 -72.682499\n",
              "1     Gales Ferry  41.427845 -72.082832\n",
              "2         Mystic   41.352719 -71.963196\n",
              "3      Naugatuck   41.501944 -73.053007\n",
              "4        Coventry  41.798062 -72.368803\n",
              "5      East Haven  41.280455 -72.875420\n",
              "6      East Haven  41.321652 -72.851992\n",
              "7       Waterbury  41.539105 -72.997707\n",
              "8       Waterbury  41.583317 -73.033702\n",
              "9       Waterbury  41.551629 -73.063912\n",
              "10      Waterbury  41.552161 -73.000983\n",
              "11      Waterbury  41.578216 -73.027191\n",
              "12       Branford  41.275207 -72.829181\n",
              "13     Burlington  41.771090 -72.970139\n",
              "14       Cromwell  41.602713 -72.688922\n",
              "15         Granby  41.952439 -72.786056\n",
              "16     Plainfield  41.667374 -71.914370\n",
              "17        Enfield  41.990485 -72.576431\n",
              "18        Enfield  41.995363 -72.582221\n",
              "19        Enfield  41.998217 -72.593610\n",
              "20      New Haven  41.306312 -72.925229\n",
              "21      New Haven  41.316277 -72.939591\n",
              "22      New Haven  41.329171 -72.968372\n",
              "23       Suffield  41.983133 -72.656828\n",
              "24        Bethel   41.373567 -73.414798\n",
              "25        Bethel   41.414648 -73.401998\n",
              "26        Norwalk  41.115302 -73.415467\n",
              "27        Norwalk  41.127770 -73.388071\n",
              "28        Norwalk  41.102619 -73.434925\n",
              "29        Norwalk  41.136815 -73.425296\n",
              "30  Old Saybrook   41.299825 -72.376309\n",
              "31    New Britain  41.711125 -72.762979\n",
              "32    New Britain  41.666665 -72.776664\n",
              "33    New Britain  41.667414 -72.805806\n",
              "34         Orange  41.281049 -72.987925\n",
              "35         Orange  41.267656 -73.001648\n",
              "36        Shelton  41.276187 -73.124767"
            ]
          },
          "metadata": {
            "tags": []
          },
          "execution_count": 556
        },
        {
          "output_type": "stream",
          "text": [
            "time: 44.4 ms (started: 2021-04-20 00:25:46 +00:00)\n"
          ],
          "name": "stdout"
        }
      ]
    },
    {
      "cell_type": "code",
      "metadata": {
        "colab": {
          "base_uri": "https://localhost:8080/"
        },
        "id": "zguAk8gp6uwq",
        "outputId": "026e002c-94e2-4ea8-e021-01a8023eb7bc"
      },
      "source": [
        "#Make a back-up of the original XY data...\n",
        "geogTable_orig = geogTable"
      ],
      "execution_count": 557,
      "outputs": [
        {
          "output_type": "stream",
          "text": [
            "time: 914 µs (started: 2021-04-20 00:25:46 +00:00)\n"
          ],
          "name": "stdout"
        }
      ]
    },
    {
      "cell_type": "code",
      "metadata": {
        "colab": {
          "base_uri": "https://localhost:8080/",
          "height": 295
        },
        "id": "42gP2Z0f6wjK",
        "outputId": "5061f8f4-d8d8-4081-d551-4cb66b7afbf6"
      },
      "source": [
        "#2D map of the cities...\n",
        "geogTable.plot.scatter(x='Lat', y='Lon') #x=long,Y=lat here\n",
        "plt.show()"
      ],
      "execution_count": 558,
      "outputs": [
        {
          "output_type": "display_data",
          "data": {
            "image/png": "[encoded data removed]",
            "text/plain": [
              "<Figure size 432x288 with 1 Axes>"
            ]
          },
          "metadata": {
            "tags": [],
            "needs_background": "light"
          }
        },
        {
          "output_type": "stream",
          "text": [
            "time: 217 ms (started: 2021-04-20 00:25:46 +00:00)\n"
          ],
          "name": "stdout"
        }
      ]
    },
    {
      "cell_type": "markdown",
      "metadata": {
        "id": "xj7KyNhn62iJ"
      },
      "source": [
        "## **USING OR TOOLS:**"
      ]
    },
    {
      "cell_type": "markdown",
      "metadata": {
        "id": "Cxsq4ZdM67jc"
      },
      "source": [
        "##### Install OR TOOLS package"
      ]
    },
    {
      "cell_type": "code",
      "metadata": {
        "colab": {
          "base_uri": "https://localhost:8080/"
        },
        "id": "QYyYPQrH69kb",
        "outputId": "79b4aa12-9f58-4152-abcb-adef16df72bf"
      },
      "source": [
        "!pip install ortools"
      ],
      "execution_count": 559,
      "outputs": [
        {
          "output_type": "stream",
          "text": [
            "Requirement already satisfied: ortools in /usr/local/lib/python3.7/dist-packages (8.2.8710)\n",
            "Requirement already satisfied: absl-py>=0.11 in /usr/local/lib/python3.7/dist-packages (from ortools) (0.12.0)\n",
            "Requirement already satisfied: protobuf>=3.14.0 in /usr/local/lib/python3.7/dist-packages (from ortools) (3.15.8)\n",
            "Requirement already satisfied: six in /usr/local/lib/python3.7/dist-packages (from absl-py>=0.11->ortools) (1.15.0)\n",
            "time: 3.05 s (started: 2021-04-20 00:25:46 +00:00)\n"
          ],
          "name": "stdout"
        }
      ]
    },
    {
      "cell_type": "code",
      "metadata": {
        "colab": {
          "base_uri": "https://localhost:8080/"
        },
        "id": "F-4wnLnv6_i2",
        "outputId": "25197b5c-1e8e-490b-8a05-481f4da7852b"
      },
      "source": [
        "from sklearn.metrics.pairwise import manhattan_distances\n",
        "# got the same result!\n",
        "# you can just call this df and reference it below for data\n",
        "geogDist1=np.round(manhattan_distances(geogTable[['Lat', 'Lon']])* 6371000/1000)  # multiply by Earth radius to get kilometers\n",
        "#we rounded the value to compare the resullt with other solvers"
      ],
      "execution_count": 560,
      "outputs": [
        {
          "output_type": "stream",
          "text": [
            "time: 4.22 ms (started: 2021-04-20 00:25:49 +00:00)\n"
          ],
          "name": "stdout"
        }
      ]
    },
    {
      "cell_type": "markdown",
      "metadata": {
        "id": "jBckvZjz8qIs"
      },
      "source": [
        "####Import Google OR tools solver packages"
      ]
    },
    {
      "cell_type": "code",
      "metadata": {
        "colab": {
          "base_uri": "https://localhost:8080/"
        },
        "id": "QiS09MdL8l9h",
        "outputId": "e4906661-32e5-40a2-d5a4-d4666c885f5c"
      },
      "source": [
        "# [START import]\n",
        "\n",
        "from ortools.constraint_solver import routing_enums_pb2\n",
        "from ortools.constraint_solver import pywrapcp\n",
        "\n",
        "# [END import]"
      ],
      "execution_count": 561,
      "outputs": [
        {
          "output_type": "stream",
          "text": [
            "time: 2.39 ms (started: 2021-04-20 00:25:49 +00:00)\n"
          ],
          "name": "stdout"
        }
      ]
    },
    {
      "cell_type": "markdown",
      "metadata": {
        "id": "1D5ZLTx4OaKj"
      },
      "source": [
        "#### Create Distance matrix "
      ]
    },
    {
      "cell_type": "code",
      "metadata": {
        "colab": {
          "base_uri": "https://localhost:8080/"
        },
        "id": "kKOs6-rY7NTg",
        "outputId": "60082803-d47a-4353-e4f1-f1f877973ae0"
      },
      "source": [
        "# [START data_model]\n",
        "\n",
        "def create_data_model():\n",
        "    \"\"\"Stores the data for the problem.\"\"\"\n",
        "    data = {}\n",
        "    data['distance_matrix'] = geogDist1 #cost matrix\n",
        "    data['num_vehicles'] = 1 #one vehicle\n",
        "    data['depot'] = 0 #no depot\n",
        "    return data\n",
        "\n",
        "# [END data_model]"
      ],
      "execution_count": 562,
      "outputs": [
        {
          "output_type": "stream",
          "text": [
            "time: 5.67 ms (started: 2021-04-20 00:25:49 +00:00)\n"
          ],
          "name": "stdout"
        }
      ]
    },
    {
      "cell_type": "markdown",
      "metadata": {
        "id": "pRi87xp47y1M"
      },
      "source": [
        "### Solution print function"
      ]
    },
    {
      "cell_type": "code",
      "metadata": {
        "colab": {
          "base_uri": "https://localhost:8080/"
        },
        "id": "PNJs7Pi17xBY",
        "outputId": "efbb0781-aa9e-41c2-efc5-6b36262a6c76"
      },
      "source": [
        "# [START solution_printer]\n",
        "\n",
        "def print_solution(manager, routing, solution):\n",
        "    \"\"\"Prints solution on console.\"\"\"\n",
        "    print('Objective: {} km'.format(solution.ObjectiveValue())) #printing objective function\n",
        "    index = routing.Start(0)\n",
        "    plan_output = 'Route for vehicle 0:\\n'\n",
        "    route_distance = 0\n",
        "    tsp=[] #solution matrix\n",
        "    while not routing.IsEnd(index):\n",
        "        plan_output += ' {} ->'.format(manager.IndexToNode(index))\n",
        "        tsp.append(manager.IndexToNode(index)) #adding solution\n",
        "        previous_index = index\n",
        "        index = solution.Value(routing.NextVar(index))\n",
        "        route_distance += routing.GetArcCostForVehicle(previous_index, index, 0)\n",
        "    plan_output += ' {}\\n'.format(manager.IndexToNode(index))\n",
        "    print(plan_output)\n",
        "    plan_output += 'Route distance: {}km\\n'.format(route_distance)\n",
        "    return tsp\n",
        "\n",
        "# [END solution_printer]"
      ],
      "execution_count": 589,
      "outputs": [
        {
          "output_type": "stream",
          "text": [
            "time: 18.8 ms (started: 2021-04-20 00:28:49 +00:00)\n"
          ],
          "name": "stdout"
        }
      ]
    },
    {
      "cell_type": "markdown",
      "metadata": {
        "id": "OytPcPW974RV"
      },
      "source": [
        "### Create a model"
      ]
    },
    {
      "cell_type": "code",
      "metadata": {
        "colab": {
          "base_uri": "https://localhost:8080/"
        },
        "id": "vjscn8YW75sy",
        "outputId": "638faa82-feda-40f3-cdf9-508242e80839"
      },
      "source": [
        "# Instantiate the data problem.\n",
        "# [START data]\n",
        "\n",
        "data = create_data_model() # create model\n",
        "\n",
        "# [END data]"
      ],
      "execution_count": 590,
      "outputs": [
        {
          "output_type": "stream",
          "text": [
            "time: 2.18 ms (started: 2021-04-20 00:28:50 +00:00)\n"
          ],
          "name": "stdout"
        }
      ]
    },
    {
      "cell_type": "code",
      "metadata": {
        "colab": {
          "base_uri": "https://localhost:8080/"
        },
        "id": "sNqFIuyX79Sg",
        "outputId": "c891ce32-be58-4a8d-bc3a-56dfe1dcbfce"
      },
      "source": [
        "# Create the routing index manager.\n",
        "# [START index_manager]\n",
        "\n",
        "manager = pywrapcp.RoutingIndexManager(len(data['distance_matrix']),\n",
        "                                       data['num_vehicles'], data['depot'])\n",
        "\n",
        "# [END index_manager]\n",
        "\n",
        "# Create Routing Model.\n",
        "# [START routing_model]\n",
        "\n",
        "routing = pywrapcp.RoutingModel(manager)\n",
        "\n",
        "# [END routing_model]"
      ],
      "execution_count": 591,
      "outputs": [
        {
          "output_type": "stream",
          "text": [
            "time: 10.6 ms (started: 2021-04-20 00:28:50 +00:00)\n"
          ],
          "name": "stdout"
        }
      ]
    },
    {
      "cell_type": "markdown",
      "metadata": {
        "id": "i5bsrDAy86x4"
      },
      "source": [
        "####Link nodes with distance and a callback"
      ]
    },
    {
      "cell_type": "code",
      "metadata": {
        "colab": {
          "base_uri": "https://localhost:8080/"
        },
        "id": "JFLAREfN842P",
        "outputId": "624963d9-a4fc-44ad-e36a-e5e73a208d67"
      },
      "source": [
        "# [START transit_callback]\n",
        "\n",
        "def distance_callback(from_index, to_index):\n",
        "    \"\"\"Returns the distance between the two nodes.\"\"\"\n",
        "    # Convert from routing variable Index to distance matrix Node Index.\n",
        "    from_node = manager.IndexToNode(from_index) #link nodes with distance\n",
        "    to_node = manager.IndexToNode(to_index)     #new distance matrix that OR tools understand\n",
        "    return data['distance_matrix'][from_node][to_node]\n",
        "\n",
        "#set a callback to the distance or cost function\n",
        "transit_callback_index = routing.RegisterTransitCallback(distance_callback) \n",
        "# [END transit_callback]"
      ],
      "execution_count": 592,
      "outputs": [
        {
          "output_type": "stream",
          "text": [
            "time: 8.71 ms (started: 2021-04-20 00:28:50 +00:00)\n"
          ],
          "name": "stdout"
        }
      ]
    },
    {
      "cell_type": "markdown",
      "metadata": {
        "id": "bGJzXwA989VJ"
      },
      "source": [
        "#### Define cost of each arc."
      ]
    },
    {
      "cell_type": "code",
      "metadata": {
        "colab": {
          "base_uri": "https://localhost:8080/"
        },
        "id": "gXAe1RxO8-rH",
        "outputId": "f17e32d4-3443-4144-c898-f504117f9d28"
      },
      "source": [
        "# Define cost of each arc.\n",
        "# [START arc_cost]\n",
        "\n",
        "routing.SetArcCostEvaluatorOfAllVehicles(transit_callback_index) #use that callback to configure the objective heuristic(cost)\n",
        "\n",
        "# [END arc_cost]"
      ],
      "execution_count": 593,
      "outputs": [
        {
          "output_type": "stream",
          "text": [
            "time: 2.68 ms (started: 2021-04-20 00:28:50 +00:00)\n"
          ],
          "name": "stdout"
        }
      ]
    },
    {
      "cell_type": "markdown",
      "metadata": {
        "id": "a7oZqJxEb76V"
      },
      "source": [
        "#### Scenario 1: Automatic (just accept all defaults)\n"
      ]
    },
    {
      "cell_type": "code",
      "metadata": {
        "colab": {
          "base_uri": "https://localhost:8080/"
        },
        "id": "D1vTzd7E9FRw",
        "outputId": "e195839a-439d-4045-cd4f-1b6ed31ebb54"
      },
      "source": [
        "search_parameters = pywrapcp.DefaultRoutingSearchParameters() #setting default parameters for TSP"
      ],
      "execution_count": 594,
      "outputs": [
        {
          "output_type": "stream",
          "text": [
            "time: 1.87 ms (started: 2021-04-20 00:28:50 +00:00)\n"
          ],
          "name": "stdout"
        }
      ]
    },
    {
      "cell_type": "markdown",
      "metadata": {
        "id": "rKTuz50f9V7y"
      },
      "source": [
        "###### Solve the problem."
      ]
    },
    {
      "cell_type": "code",
      "metadata": {
        "colab": {
          "base_uri": "https://localhost:8080/"
        },
        "id": "VFBN0oRC9OdW",
        "outputId": "f6460d23-7851-457b-88ec-8f9c5cfd5e92"
      },
      "source": [
        "# [START solve]\n",
        "\n",
        "# Solve the problem.\n",
        "solution1 = routing.SolveWithParameters(search_parameters) #solve with those parameters\n",
        "\n",
        "# [END solve]\n"
      ],
      "execution_count": 595,
      "outputs": [
        {
          "output_type": "stream",
          "text": [
            "time: 63.7 ms (started: 2021-04-20 00:28:50 +00:00)\n"
          ],
          "name": "stdout"
        }
      ]
    },
    {
      "cell_type": "markdown",
      "metadata": {
        "id": "HGmkSMB59Tws"
      },
      "source": [
        "###### Print solution "
      ]
    },
    {
      "cell_type": "code",
      "metadata": {
        "colab": {
          "base_uri": "https://localhost:8080/"
        },
        "id": "DoOBRJzk9RIf",
        "outputId": "283fecb2-0aa2-48de-e42d-b8f5c2fd0506"
      },
      "source": [
        "# [START print_solution]\n",
        "\n",
        "#use the print function generated before to print the solution & add to tsp array\n",
        "if solution1:\n",
        "    tsp=print_solution(manager, routing, solution1) \n",
        "\n",
        "# [END print_solution]"
      ],
      "execution_count": 596,
      "outputs": [
        {
          "output_type": "stream",
          "text": [
            "Objective: 40524 km\n",
            "Route for vehicle 0:\n",
            " 0 -> 31 -> 32 -> 33 -> 11 -> 8 -> 9 -> 3 -> 25 -> 24 -> 29 -> 28 -> 26 -> 27 -> 36 -> 35 -> 34 -> 5 -> 12 -> 6 -> 20 -> 21 -> 22 -> 7 -> 10 -> 13 -> 15 -> 23 -> 19 -> 18 -> 17 -> 4 -> 16 -> 2 -> 1 -> 30 -> 14 -> 0\n",
            "\n",
            "time: 3.62 ms (started: 2021-04-20 00:28:50 +00:00)\n"
          ],
          "name": "stdout"
        }
      ]
    },
    {
      "cell_type": "code",
      "metadata": {
        "colab": {
          "base_uri": "https://localhost:8080/"
        },
        "id": "m64VdOWL9ZLR",
        "outputId": "c3e38cd3-64f6-4050-95c6-b1e3dc296c15"
      },
      "source": [
        "tsp=np.array(tsp) \n",
        "tsp #solution array"
      ],
      "execution_count": 597,
      "outputs": [
        {
          "output_type": "execute_result",
          "data": {
            "text/plain": [
              "array([ 0, 31, 32, 33, 11,  8,  9,  3, 25, 24, 29, 28, 26, 27, 36, 35, 34,\n",
              "        5, 12,  6, 20, 21, 22,  7, 10, 13, 15, 23, 19, 18, 17,  4, 16,  2,\n",
              "        1, 30, 14])"
            ]
          },
          "metadata": {
            "tags": []
          },
          "execution_count": 597
        },
        {
          "output_type": "stream",
          "text": [
            "time: 5.35 ms (started: 2021-04-20 00:28:50 +00:00)\n"
          ],
          "name": "stdout"
        }
      ]
    },
    {
      "cell_type": "code",
      "metadata": {
        "colab": {
          "base_uri": "https://localhost:8080/",
          "height": 1000
        },
        "id": "Nqxumijd9a_w",
        "outputId": "640bf042-601a-426f-dd0f-569314a9e1cb"
      },
      "source": [
        "# now reindex the original data\n",
        "geogTable_orig1 = geogTable_orig.reindex(tsp)\n",
        "geogTable_orig1 = geogTable_orig1.append(geogTable_orig1.iloc[0,:])\n",
        "geogTable_orig1"
      ],
      "execution_count": 598,
      "outputs": [
        {
          "output_type": "execute_result",
          "data": {
            "text/html": [
              "<div>\n",
              "<style scoped>\n",
              "    .dataframe tbody tr th:only-of-type {\n",
              "        vertical-align: middle;\n",
              "    }\n",
              "\n",
              "    .dataframe tbody tr th {\n",
              "        vertical-align: top;\n",
              "    }\n",
              "\n",
              "    .dataframe thead th {\n",
              "        text-align: right;\n",
              "    }\n",
              "</style>\n",
              "<table border=\"1\" class=\"dataframe\">\n",
              "  <thead>\n",
              "    <tr style=\"text-align: right;\">\n",
              "      <th></th>\n",
              "      <th>City</th>\n",
              "      <th>Lat</th>\n",
              "      <th>Lon</th>\n",
              "    </tr>\n",
              "  </thead>\n",
              "  <tbody>\n",
              "    <tr>\n",
              "      <th>0</th>\n",
              "      <td>Hartford</td>\n",
              "      <td>41.764290</td>\n",
              "      <td>-72.682499</td>\n",
              "    </tr>\n",
              "    <tr>\n",
              "      <th>31</th>\n",
              "      <td>New Britain</td>\n",
              "      <td>41.711125</td>\n",
              "      <td>-72.762979</td>\n",
              "    </tr>\n",
              "    <tr>\n",
              "      <th>32</th>\n",
              "      <td>New Britain</td>\n",
              "      <td>41.666665</td>\n",
              "      <td>-72.776664</td>\n",
              "    </tr>\n",
              "    <tr>\n",
              "      <th>33</th>\n",
              "      <td>New Britain</td>\n",
              "      <td>41.667414</td>\n",
              "      <td>-72.805806</td>\n",
              "    </tr>\n",
              "    <tr>\n",
              "      <th>11</th>\n",
              "      <td>Waterbury</td>\n",
              "      <td>41.578216</td>\n",
              "      <td>-73.027191</td>\n",
              "    </tr>\n",
              "    <tr>\n",
              "      <th>8</th>\n",
              "      <td>Waterbury</td>\n",
              "      <td>41.583317</td>\n",
              "      <td>-73.033702</td>\n",
              "    </tr>\n",
              "    <tr>\n",
              "      <th>9</th>\n",
              "      <td>Waterbury</td>\n",
              "      <td>41.551629</td>\n",
              "      <td>-73.063912</td>\n",
              "    </tr>\n",
              "    <tr>\n",
              "      <th>3</th>\n",
              "      <td>Naugatuck</td>\n",
              "      <td>41.501944</td>\n",
              "      <td>-73.053007</td>\n",
              "    </tr>\n",
              "    <tr>\n",
              "      <th>25</th>\n",
              "      <td>Bethel</td>\n",
              "      <td>41.414648</td>\n",
              "      <td>-73.401998</td>\n",
              "    </tr>\n",
              "    <tr>\n",
              "      <th>24</th>\n",
              "      <td>Bethel</td>\n",
              "      <td>41.373567</td>\n",
              "      <td>-73.414798</td>\n",
              "    </tr>\n",
              "    <tr>\n",
              "      <th>29</th>\n",
              "      <td>Norwalk</td>\n",
              "      <td>41.136815</td>\n",
              "      <td>-73.425296</td>\n",
              "    </tr>\n",
              "    <tr>\n",
              "      <th>28</th>\n",
              "      <td>Norwalk</td>\n",
              "      <td>41.102619</td>\n",
              "      <td>-73.434925</td>\n",
              "    </tr>\n",
              "    <tr>\n",
              "      <th>26</th>\n",
              "      <td>Norwalk</td>\n",
              "      <td>41.115302</td>\n",
              "      <td>-73.415467</td>\n",
              "    </tr>\n",
              "    <tr>\n",
              "      <th>27</th>\n",
              "      <td>Norwalk</td>\n",
              "      <td>41.127770</td>\n",
              "      <td>-73.388071</td>\n",
              "    </tr>\n",
              "    <tr>\n",
              "      <th>36</th>\n",
              "      <td>Shelton</td>\n",
              "      <td>41.276187</td>\n",
              "      <td>-73.124767</td>\n",
              "    </tr>\n",
              "    <tr>\n",
              "      <th>35</th>\n",
              "      <td>Orange</td>\n",
              "      <td>41.267656</td>\n",
              "      <td>-73.001648</td>\n",
              "    </tr>\n",
              "    <tr>\n",
              "      <th>34</th>\n",
              "      <td>Orange</td>\n",
              "      <td>41.281049</td>\n",
              "      <td>-72.987925</td>\n",
              "    </tr>\n",
              "    <tr>\n",
              "      <th>5</th>\n",
              "      <td>East Haven</td>\n",
              "      <td>41.280455</td>\n",
              "      <td>-72.875420</td>\n",
              "    </tr>\n",
              "    <tr>\n",
              "      <th>12</th>\n",
              "      <td>Branford</td>\n",
              "      <td>41.275207</td>\n",
              "      <td>-72.829181</td>\n",
              "    </tr>\n",
              "    <tr>\n",
              "      <th>6</th>\n",
              "      <td>East Haven</td>\n",
              "      <td>41.321652</td>\n",
              "      <td>-72.851992</td>\n",
              "    </tr>\n",
              "    <tr>\n",
              "      <th>20</th>\n",
              "      <td>New Haven</td>\n",
              "      <td>41.306312</td>\n",
              "      <td>-72.925229</td>\n",
              "    </tr>\n",
              "    <tr>\n",
              "      <th>21</th>\n",
              "      <td>New Haven</td>\n",
              "      <td>41.316277</td>\n",
              "      <td>-72.939591</td>\n",
              "    </tr>\n",
              "    <tr>\n",
              "      <th>22</th>\n",
              "      <td>New Haven</td>\n",
              "      <td>41.329171</td>\n",
              "      <td>-72.968372</td>\n",
              "    </tr>\n",
              "    <tr>\n",
              "      <th>7</th>\n",
              "      <td>Waterbury</td>\n",
              "      <td>41.539105</td>\n",
              "      <td>-72.997707</td>\n",
              "    </tr>\n",
              "    <tr>\n",
              "      <th>10</th>\n",
              "      <td>Waterbury</td>\n",
              "      <td>41.552161</td>\n",
              "      <td>-73.000983</td>\n",
              "    </tr>\n",
              "    <tr>\n",
              "      <th>13</th>\n",
              "      <td>Burlington</td>\n",
              "      <td>41.771090</td>\n",
              "      <td>-72.970139</td>\n",
              "    </tr>\n",
              "    <tr>\n",
              "      <th>15</th>\n",
              "      <td>Granby</td>\n",
              "      <td>41.952439</td>\n",
              "      <td>-72.786056</td>\n",
              "    </tr>\n",
              "    <tr>\n",
              "      <th>23</th>\n",
              "      <td>Suffield</td>\n",
              "      <td>41.983133</td>\n",
              "      <td>-72.656828</td>\n",
              "    </tr>\n",
              "    <tr>\n",
              "      <th>19</th>\n",
              "      <td>Enfield</td>\n",
              "      <td>41.998217</td>\n",
              "      <td>-72.593610</td>\n",
              "    </tr>\n",
              "    <tr>\n",
              "      <th>18</th>\n",
              "      <td>Enfield</td>\n",
              "      <td>41.995363</td>\n",
              "      <td>-72.582221</td>\n",
              "    </tr>\n",
              "    <tr>\n",
              "      <th>17</th>\n",
              "      <td>Enfield</td>\n",
              "      <td>41.990485</td>\n",
              "      <td>-72.576431</td>\n",
              "    </tr>\n",
              "    <tr>\n",
              "      <th>4</th>\n",
              "      <td>Coventry</td>\n",
              "      <td>41.798062</td>\n",
              "      <td>-72.368803</td>\n",
              "    </tr>\n",
              "    <tr>\n",
              "      <th>16</th>\n",
              "      <td>Plainfield</td>\n",
              "      <td>41.667374</td>\n",
              "      <td>-71.914370</td>\n",
              "    </tr>\n",
              "    <tr>\n",
              "      <th>2</th>\n",
              "      <td>Mystic</td>\n",
              "      <td>41.352719</td>\n",
              "      <td>-71.963196</td>\n",
              "    </tr>\n",
              "    <tr>\n",
              "      <th>1</th>\n",
              "      <td>Gales Ferry</td>\n",
              "      <td>41.427845</td>\n",
              "      <td>-72.082832</td>\n",
              "    </tr>\n",
              "    <tr>\n",
              "      <th>30</th>\n",
              "      <td>Old Saybrook</td>\n",
              "      <td>41.299825</td>\n",
              "      <td>-72.376309</td>\n",
              "    </tr>\n",
              "    <tr>\n",
              "      <th>14</th>\n",
              "      <td>Cromwell</td>\n",
              "      <td>41.602713</td>\n",
              "      <td>-72.688922</td>\n",
              "    </tr>\n",
              "    <tr>\n",
              "      <th>0</th>\n",
              "      <td>Hartford</td>\n",
              "      <td>41.764290</td>\n",
              "      <td>-72.682499</td>\n",
              "    </tr>\n",
              "  </tbody>\n",
              "</table>\n",
              "</div>"
            ],
            "text/plain": [
              "             City        Lat        Lon\n",
              "0        Hartford  41.764290 -72.682499\n",
              "31    New Britain  41.711125 -72.762979\n",
              "32    New Britain  41.666665 -72.776664\n",
              "33    New Britain  41.667414 -72.805806\n",
              "11      Waterbury  41.578216 -73.027191\n",
              "8       Waterbury  41.583317 -73.033702\n",
              "9       Waterbury  41.551629 -73.063912\n",
              "3      Naugatuck   41.501944 -73.053007\n",
              "25        Bethel   41.414648 -73.401998\n",
              "24        Bethel   41.373567 -73.414798\n",
              "29        Norwalk  41.136815 -73.425296\n",
              "28        Norwalk  41.102619 -73.434925\n",
              "26        Norwalk  41.115302 -73.415467\n",
              "27        Norwalk  41.127770 -73.388071\n",
              "36        Shelton  41.276187 -73.124767\n",
              "35         Orange  41.267656 -73.001648\n",
              "34         Orange  41.281049 -72.987925\n",
              "5      East Haven  41.280455 -72.875420\n",
              "12       Branford  41.275207 -72.829181\n",
              "6      East Haven  41.321652 -72.851992\n",
              "20      New Haven  41.306312 -72.925229\n",
              "21      New Haven  41.316277 -72.939591\n",
              "22      New Haven  41.329171 -72.968372\n",
              "7       Waterbury  41.539105 -72.997707\n",
              "10      Waterbury  41.552161 -73.000983\n",
              "13     Burlington  41.771090 -72.970139\n",
              "15         Granby  41.952439 -72.786056\n",
              "23       Suffield  41.983133 -72.656828\n",
              "19        Enfield  41.998217 -72.593610\n",
              "18        Enfield  41.995363 -72.582221\n",
              "17        Enfield  41.990485 -72.576431\n",
              "4        Coventry  41.798062 -72.368803\n",
              "16     Plainfield  41.667374 -71.914370\n",
              "2         Mystic   41.352719 -71.963196\n",
              "1     Gales Ferry  41.427845 -72.082832\n",
              "30  Old Saybrook   41.299825 -72.376309\n",
              "14       Cromwell  41.602713 -72.688922\n",
              "0        Hartford  41.764290 -72.682499"
            ]
          },
          "metadata": {
            "tags": []
          },
          "execution_count": 598
        },
        {
          "output_type": "stream",
          "text": [
            "time: 32.3 ms (started: 2021-04-20 00:28:50 +00:00)\n"
          ],
          "name": "stdout"
        }
      ]
    },
    {
      "cell_type": "markdown",
      "metadata": {
        "id": "7mLS0lQ29j9f"
      },
      "source": [
        "###### Visualize the solution"
      ]
    },
    {
      "cell_type": "code",
      "metadata": {
        "colab": {
          "base_uri": "https://localhost:8080/"
        },
        "id": "AFUoJCm_9lvZ",
        "outputId": "01c91ae9-6838-4f4b-c151-26914d3d7aea"
      },
      "source": [
        "mean(geogTable_orig1['Lat']) #for center of Map-mean latitude"
      ],
      "execution_count": 599,
      "outputs": [
        {
          "output_type": "execute_result",
          "data": {
            "text/plain": [
              "41.51695019943607"
            ]
          },
          "metadata": {
            "tags": []
          },
          "execution_count": 599
        },
        {
          "output_type": "stream",
          "text": [
            "time: 7 ms (started: 2021-04-20 00:28:50 +00:00)\n"
          ],
          "name": "stdout"
        }
      ]
    },
    {
      "cell_type": "code",
      "metadata": {
        "colab": {
          "base_uri": "https://localhost:8080/"
        },
        "id": "0vDMpTG_9nk0",
        "outputId": "8b399045-1ca4-46a2-ec90-f479c7b0d011"
      },
      "source": [
        "mean(geogTable_orig1['Lon']) #for center of Map-mean longitude"
      ],
      "execution_count": 600,
      "outputs": [
        {
          "output_type": "execute_result",
          "data": {
            "text/plain": [
              "-72.8534565486349"
            ]
          },
          "metadata": {
            "tags": []
          },
          "execution_count": 600
        },
        {
          "output_type": "stream",
          "text": [
            "time: 7.52 ms (started: 2021-04-20 00:28:50 +00:00)\n"
          ],
          "name": "stdout"
        }
      ]
    },
    {
      "cell_type": "code",
      "metadata": {
        "colab": {
          "base_uri": "https://localhost:8080/"
        },
        "id": "m7Imi5p19xLk",
        "outputId": "c319a8f5-ad90-4245-d789-4580e43fae41"
      },
      "source": [
        "fig = go.Figure(go.Scattermapbox(\n",
        "    mode = \"markers+lines\",\n",
        "    lon = geogTable_orig1['Lon'],\n",
        "    lat = geogTable_orig1['Lat'],\n",
        "    name=\"Main Route\",\n",
        "    hovertext=geogTable_orig1['City'],\n",
        "    marker = {'size': 10}))\n",
        "\n",
        "for i in range(len(geogTable_orig1)):\n",
        "  fig.add_trace(go.Scattermapbox(\n",
        "    mode = \"markers+lines\",\n",
        "    lat = [geogTable_orig1.iloc[i,1],geogTable_orig1.iloc[i-1,1]],\n",
        "    lon = [geogTable_orig1.iloc[i,2],geogTable_orig1.iloc[i-1,2]],\n",
        "    name=\"Route\"+str(i),\n",
        "    text=[geogTable_orig1.iloc[i,0]+'-'+str(i),geogTable_orig1.iloc[i-1,0]+'-'+str(i-1)],\n",
        "    textposition='top center',\n",
        "    marker = {'size': 10}))\n",
        "  \n",
        "fig.update_layout(mapbox_style=\"carto-darkmatter\", mapbox_zoom=8.25, mapbox_center_lat = 41.50435,mapbox_center_lon = -72.8587,\n",
        "    margin={\"r\":0,\"t\":0,\"l\":0,\"b\":0},title=\"TRAVELING SALESMAN ROUTE\")\n",
        "config = dict({'scrollZoom': False})\n",
        "fig.show(config=config)"
      ],
      "execution_count": 601,
      "outputs": [
        {
          "output_type": "stream",
          "text": [
            "time: 762 ms (started: 2021-04-20 00:28:50 +00:00)\n"
          ],
          "name": "stdout"
        }
      ]
    },
    {
      "cell_type": "code",
      "metadata": {
        "colab": {
          "base_uri": "https://localhost:8080/",
          "height": 558
        },
        "id": "TUOAhwfn-Ejb",
        "outputId": "7d5cf393-d570-48ae-cca0-b76feff57ebe"
      },
      "source": [
        "fig = go.Figure(go.Scattermapbox(\n",
        "    mode = \"markers+lines\",\n",
        "    lon = geogTable_orig1['Lon'], #longitude\n",
        "    lat = geogTable_orig1['Lat'], #latitude\n",
        "    name=\"Traveling Salesman\", \n",
        "    hovertext=geogTable_orig1['City'], #town name\n",
        "    marker = {'size': 10}),\n",
        "    layout=go.Layout(\n",
        "        hovermode=\"closest\",\n",
        "        updatemenus=[dict(type=\"buttons\",\n",
        "                          buttons=[dict(label=\"Play\",\n",
        "                                        method=\"animate\",\n",
        "                                        args=[None])])]),\n",
        "        frames=[go.Frame(\n",
        "        data=[go.Scattermapbox(\n",
        "            lat=[geogTable_orig1.iloc[k,1]],\n",
        "            lon=[geogTable_orig1.iloc[k,2]],\n",
        "            mode=\"markers\",\n",
        "            marker=dict(color=\"red\", size=10))])\n",
        "\n",
        "        for k in range(len(geogTable_orig2))]\n",
        ")\n",
        "fig.add_trace(go.Scattermapbox(\n",
        "    mode = \"markers+lines\",\n",
        "    lon = geogTable_orig1['Lon'], #longitude\n",
        "    lat = geogTable_orig1['Lat'], #latitude\n",
        "    name=\"Main Route\", \n",
        "    hovertext=geogTable_orig1['City'], #town name\n",
        "    marker=dict(color=\"blue\", size=5)))\n",
        "\n",
        "  \n",
        "fig.update_layout(mapbox_style=\"carto-darkmatter\", mapbox_zoom=8,  mapbox_center_lat = 41.50435,mapbox_center_lon = -72.8587,\n",
        "    margin={\"r\":0,\"t\":0,\"l\":0,\"b\":0},title=\"TRAVELING SALESMAN ROUTE\")\n",
        "config = dict({'scrollZoom': False})\n",
        "fig.show(config=config)"
      ],
      "execution_count": 602,
      "outputs": [
        {
          "output_type": "display_data",
          "data": {
            "text/html": [
              "<html>\n",
              "<head><meta charset=\"utf-8\" /></head>\n",
              "<body>\n",
              "    <div>\n",
              "            <script src=\"https://cdnjs.cloudflare.com/ajax/libs/mathjax/2.7.5/MathJax.js?config=TeX-AMS-MML_SVG\"></script><script type=\"text/javascript\">if (window.MathJax) {MathJax.Hub.Config({SVG: {font: \"STIX-Web\"}});}</script>\n",
              "                <script type=\"text/javascript\">window.PlotlyConfig = {MathJaxConfig: 'local'};</script>\n",
              "        <script src=\"https://cdn.plot.ly/plotly-latest.min.js\"></script>    \n",
              "            <div id=\"514d913c-a04c-44d7-8be1-aad8a41611e3\" class=\"plotly-graph-div\" style=\"height:525px; width:100%;\"></div>\n",
              "            <script type=\"text/javascript\">\n",
              "                \n",
              "                    window.PLOTLYENV=window.PLOTLYENV || {};\n",
              "                    \n",
              "                if (document.getElementById(\"514d913c-a04c-44d7-8be1-aad8a41611e3\")) {\n",
              "                    Plotly.newPlot(\n",
              "                        '514d913c-a04c-44d7-8be1-aad8a41611e3',\n",
              "                        [{\"hovertext\": [\"Hartford\", \"New Britain\", \"New Britain\", \"New Britain\", \"Waterbury\", \"Waterbury\", \"Waterbury\", \"Naugatuck \", \"Bethel \", \"Bethel \", \"Norwalk\", \"Norwalk\", \"Norwalk\", \"Norwalk\", \"Shelton\", \"Orange\", \"Orange\", \"East Haven\", \"Branford\", \"East Haven\", \"New Haven\", \"New Haven\", \"New Haven\", \"Waterbury\", \"Waterbury\", \"Burlington\", \"Granby\", \"Suffield\", \"Enfield\", \"Enfield\", \"Enfield\", \"Coventry\", \"Plainfield\", \"Mystic \", \"Gales Ferry\", \"Old Saybrook \", \"Cromwell\", \"Hartford\"], \"lat\": [41.764289888527, 41.7111247364647, 41.6666648767678, 41.6674142621264, 41.5782163936639, 41.5833165571109, 41.5516292887622, 41.501944381666, 41.4146476376325, 41.3735674146904, 41.1368152698305, 41.1026194238766, 41.1153022539571, 41.1277695785016, 41.2761866736857, 41.2676558768689, 41.2810488305456, 41.2804548194501, 41.2752069405999, 41.3216517174151, 41.3063117459586, 41.3162769832612, 41.3291713941692, 41.5391047602487, 41.5521614901779, 41.7710899857772, 41.9524391135402, 41.9831328097653, 41.9982166854156, 41.9953633420842, 41.9904847334974, 41.7980615345505, 41.6673744865115, 41.3527192139631, 41.4278446329939, 41.2998247643997, 41.6027131915866, 41.764289888527], \"lon\": [-72.682499183992, -72.7629790032047, -72.7766643455349, -72.805806387863, -73.0271913608825, -73.0337020032104, -73.0639124608836, -73.0530068032141, -73.4019981032179, -73.4147982032198, -73.4252955032302, -73.4349253320676, -73.4154673455593, -73.3880707455588, -73.1247672185678, -73.0016476878808, -72.987924545552, -72.8754200320598, -72.8291813185678, -72.8519923339094, -72.9252293302072, -72.9395912455504, -72.9683717878781, -72.9977074878687, -73.0009827608837, -72.9701388436788, -72.7860561166862, -72.6568284185362, -72.5936096590124, -72.582220603192, -72.5764313031922, -72.3688034032008, -71.9143697897145, -71.9631962032207, -72.082831702046, -72.3763086167153, -72.6889224743737, -72.682499183992], \"marker\": {\"size\": 10}, \"mode\": \"markers+lines\", \"name\": \"Traveling Salesman\", \"type\": \"scattermapbox\"}, {\"hovertext\": [\"Hartford\", \"New Britain\", \"New Britain\", \"New Britain\", \"Waterbury\", \"Waterbury\", \"Waterbury\", \"Naugatuck \", \"Bethel \", \"Bethel \", \"Norwalk\", \"Norwalk\", \"Norwalk\", \"Norwalk\", \"Shelton\", \"Orange\", \"Orange\", \"East Haven\", \"Branford\", \"East Haven\", \"New Haven\", \"New Haven\", \"New Haven\", \"Waterbury\", \"Waterbury\", \"Burlington\", \"Granby\", \"Suffield\", \"Enfield\", \"Enfield\", \"Enfield\", \"Coventry\", \"Plainfield\", \"Mystic \", \"Gales Ferry\", \"Old Saybrook \", \"Cromwell\", \"Hartford\"], \"lat\": [41.764289888527, 41.7111247364647, 41.6666648767678, 41.6674142621264, 41.5782163936639, 41.5833165571109, 41.5516292887622, 41.501944381666, 41.4146476376325, 41.3735674146904, 41.1368152698305, 41.1026194238766, 41.1153022539571, 41.1277695785016, 41.2761866736857, 41.2676558768689, 41.2810488305456, 41.2804548194501, 41.2752069405999, 41.3216517174151, 41.3063117459586, 41.3162769832612, 41.3291713941692, 41.5391047602487, 41.5521614901779, 41.7710899857772, 41.9524391135402, 41.9831328097653, 41.9982166854156, 41.9953633420842, 41.9904847334974, 41.7980615345505, 41.6673744865115, 41.3527192139631, 41.4278446329939, 41.2998247643997, 41.6027131915866, 41.764289888527], \"lon\": [-72.682499183992, -72.7629790032047, -72.7766643455349, -72.805806387863, -73.0271913608825, -73.0337020032104, -73.0639124608836, -73.0530068032141, -73.4019981032179, -73.4147982032198, -73.4252955032302, -73.4349253320676, -73.4154673455593, -73.3880707455588, -73.1247672185678, -73.0016476878808, -72.987924545552, -72.8754200320598, -72.8291813185678, -72.8519923339094, -72.9252293302072, -72.9395912455504, -72.9683717878781, -72.9977074878687, -73.0009827608837, -72.9701388436788, -72.7860561166862, -72.6568284185362, -72.5936096590124, -72.582220603192, -72.5764313031922, -72.3688034032008, -71.9143697897145, -71.9631962032207, -72.082831702046, -72.3763086167153, -72.6889224743737, -72.682499183992], \"marker\": {\"color\": \"blue\", \"size\": 5}, \"mode\": \"markers+lines\", \"name\": \"Main Route\", \"type\": \"scattermapbox\"}],\n",
              "                        {\"hovermode\": \"closest\", \"mapbox\": {\"center\": {\"lat\": 41.50435, \"lon\": -72.8587}, \"style\": \"carto-darkmatter\", \"zoom\": 8}, \"margin\": {\"b\": 0, \"l\": 0, \"r\": 0, \"t\": 0}, \"template\": {\"data\": {\"bar\": [{\"error_x\": {\"color\": \"#2a3f5f\"}, \"error_y\": {\"color\": \"#2a3f5f\"}, \"marker\": {\"line\": {\"color\": \"#E5ECF6\", \"width\": 0.5}}, \"type\": \"bar\"}], \"barpolar\": [{\"marker\": {\"line\": {\"color\": \"#E5ECF6\", \"width\": 0.5}}, \"type\": \"barpolar\"}], \"carpet\": [{\"aaxis\": {\"endlinecolor\": \"#2a3f5f\", \"gridcolor\": \"white\", \"linecolor\": \"white\", \"minorgridcolor\": \"white\", \"startlinecolor\": \"#2a3f5f\"}, \"baxis\": {\"endlinecolor\": \"#2a3f5f\", \"gridcolor\": \"white\", \"linecolor\": \"white\", \"minorgridcolor\": \"white\", \"startlinecolor\": \"#2a3f5f\"}, \"type\": \"carpet\"}], \"choropleth\": [{\"colorbar\": {\"outlinewidth\": 0, \"ticks\": \"\"}, \"type\": \"choropleth\"}], \"contour\": [{\"colorbar\": {\"outlinewidth\": 0, \"ticks\": \"\"}, \"colorscale\": [[0.0, \"#0d0887\"], [0.1111111111111111, \"#46039f\"], [0.2222222222222222, \"#7201a8\"], [0.3333333333333333, \"#9c179e\"], [0.4444444444444444, \"#bd3786\"], [0.5555555555555556, \"#d8576b\"], [0.6666666666666666, \"#ed7953\"], [0.7777777777777778, \"#fb9f3a\"], [0.8888888888888888, \"#fdca26\"], [1.0, \"#f0f921\"]], \"type\": \"contour\"}], \"contourcarpet\": [{\"colorbar\": {\"outlinewidth\": 0, \"ticks\": \"\"}, \"type\": \"contourcarpet\"}], \"heatmap\": [{\"colorbar\": {\"outlinewidth\": 0, \"ticks\": \"\"}, \"colorscale\": [[0.0, \"#0d0887\"], [0.1111111111111111, \"#46039f\"], [0.2222222222222222, \"#7201a8\"], [0.3333333333333333, \"#9c179e\"], [0.4444444444444444, \"#bd3786\"], [0.5555555555555556, \"#d8576b\"], [0.6666666666666666, \"#ed7953\"], [0.7777777777777778, \"#fb9f3a\"], [0.8888888888888888, \"#fdca26\"], [1.0, \"#f0f921\"]], \"type\": \"heatmap\"}], \"heatmapgl\": [{\"colorbar\": {\"outlinewidth\": 0, \"ticks\": \"\"}, \"colorscale\": [[0.0, \"#0d0887\"], [0.1111111111111111, \"#46039f\"], [0.2222222222222222, \"#7201a8\"], [0.3333333333333333, \"#9c179e\"], [0.4444444444444444, \"#bd3786\"], [0.5555555555555556, \"#d8576b\"], [0.6666666666666666, \"#ed7953\"], [0.7777777777777778, \"#fb9f3a\"], [0.8888888888888888, \"#fdca26\"], [1.0, \"#f0f921\"]], \"type\": \"heatmapgl\"}], \"histogram\": [{\"marker\": {\"colorbar\": {\"outlinewidth\": 0, \"ticks\": \"\"}}, \"type\": \"histogram\"}], \"histogram2d\": [{\"colorbar\": {\"outlinewidth\": 0, \"ticks\": \"\"}, \"colorscale\": [[0.0, \"#0d0887\"], [0.1111111111111111, \"#46039f\"], [0.2222222222222222, \"#7201a8\"], [0.3333333333333333, \"#9c179e\"], [0.4444444444444444, \"#bd3786\"], [0.5555555555555556, \"#d8576b\"], [0.6666666666666666, \"#ed7953\"], [0.7777777777777778, \"#fb9f3a\"], [0.8888888888888888, \"#fdca26\"], [1.0, \"#f0f921\"]], \"type\": \"histogram2d\"}], \"histogram2dcontour\": [{\"colorbar\": {\"outlinewidth\": 0, \"ticks\": \"\"}, \"colorscale\": [[0.0, \"#0d0887\"], [0.1111111111111111, \"#46039f\"], [0.2222222222222222, \"#7201a8\"], [0.3333333333333333, \"#9c179e\"], [0.4444444444444444, \"#bd3786\"], [0.5555555555555556, \"#d8576b\"], [0.6666666666666666, \"#ed7953\"], [0.7777777777777778, \"#fb9f3a\"], [0.8888888888888888, \"#fdca26\"], [1.0, \"#f0f921\"]], \"type\": \"histogram2dcontour\"}], \"mesh3d\": [{\"colorbar\": {\"outlinewidth\": 0, \"ticks\": \"\"}, \"type\": \"mesh3d\"}], \"parcoords\": [{\"line\": {\"colorbar\": {\"outlinewidth\": 0, \"ticks\": \"\"}}, \"type\": \"parcoords\"}], \"pie\": [{\"automargin\": true, \"type\": \"pie\"}], \"scatter\": [{\"marker\": {\"colorbar\": {\"outlinewidth\": 0, \"ticks\": \"\"}}, \"type\": \"scatter\"}], \"scatter3d\": [{\"line\": {\"colorbar\": {\"outlinewidth\": 0, \"ticks\": \"\"}}, \"marker\": {\"colorbar\": {\"outlinewidth\": 0, \"ticks\": \"\"}}, \"type\": \"scatter3d\"}], \"scattercarpet\": [{\"marker\": {\"colorbar\": {\"outlinewidth\": 0, \"ticks\": \"\"}}, \"type\": \"scattercarpet\"}], \"scattergeo\": [{\"marker\": {\"colorbar\": {\"outlinewidth\": 0, \"ticks\": \"\"}}, \"type\": \"scattergeo\"}], \"scattergl\": [{\"marker\": {\"colorbar\": {\"outlinewidth\": 0, \"ticks\": \"\"}}, \"type\": \"scattergl\"}], \"scattermapbox\": [{\"marker\": {\"colorbar\": {\"outlinewidth\": 0, \"ticks\": \"\"}}, \"type\": \"scattermapbox\"}], \"scatterpolar\": [{\"marker\": {\"colorbar\": {\"outlinewidth\": 0, \"ticks\": \"\"}}, \"type\": \"scatterpolar\"}], \"scatterpolargl\": [{\"marker\": {\"colorbar\": {\"outlinewidth\": 0, \"ticks\": \"\"}}, \"type\": \"scatterpolargl\"}], \"scatterternary\": [{\"marker\": {\"colorbar\": {\"outlinewidth\": 0, \"ticks\": \"\"}}, \"type\": \"scatterternary\"}], \"surface\": [{\"colorbar\": {\"outlinewidth\": 0, \"ticks\": \"\"}, \"colorscale\": [[0.0, \"#0d0887\"], [0.1111111111111111, \"#46039f\"], [0.2222222222222222, \"#7201a8\"], [0.3333333333333333, \"#9c179e\"], [0.4444444444444444, \"#bd3786\"], [0.5555555555555556, \"#d8576b\"], [0.6666666666666666, \"#ed7953\"], [0.7777777777777778, \"#fb9f3a\"], [0.8888888888888888, \"#fdca26\"], [1.0, \"#f0f921\"]], \"type\": \"surface\"}], \"table\": [{\"cells\": {\"fill\": {\"color\": \"#EBF0F8\"}, \"line\": {\"color\": \"white\"}}, \"header\": {\"fill\": {\"color\": \"#C8D4E3\"}, \"line\": {\"color\": \"white\"}}, \"type\": \"table\"}]}, \"layout\": {\"annotationdefaults\": {\"arrowcolor\": \"#2a3f5f\", \"arrowhead\": 0, \"arrowwidth\": 1}, \"coloraxis\": {\"colorbar\": {\"outlinewidth\": 0, \"ticks\": \"\"}}, \"colorscale\": {\"diverging\": [[0, \"#8e0152\"], [0.1, \"#c51b7d\"], [0.2, \"#de77ae\"], [0.3, \"#f1b6da\"], [0.4, \"#fde0ef\"], [0.5, \"#f7f7f7\"], [0.6, \"#e6f5d0\"], [0.7, \"#b8e186\"], [0.8, \"#7fbc41\"], [0.9, \"#4d9221\"], [1, \"#276419\"]], \"sequential\": [[0.0, \"#0d0887\"], [0.1111111111111111, \"#46039f\"], [0.2222222222222222, \"#7201a8\"], [0.3333333333333333, \"#9c179e\"], [0.4444444444444444, \"#bd3786\"], [0.5555555555555556, \"#d8576b\"], [0.6666666666666666, \"#ed7953\"], [0.7777777777777778, \"#fb9f3a\"], [0.8888888888888888, \"#fdca26\"], [1.0, \"#f0f921\"]], \"sequentialminus\": [[0.0, \"#0d0887\"], [0.1111111111111111, \"#46039f\"], [0.2222222222222222, \"#7201a8\"], [0.3333333333333333, \"#9c179e\"], [0.4444444444444444, \"#bd3786\"], [0.5555555555555556, \"#d8576b\"], [0.6666666666666666, \"#ed7953\"], [0.7777777777777778, \"#fb9f3a\"], [0.8888888888888888, \"#fdca26\"], [1.0, \"#f0f921\"]]}, \"colorway\": [\"#636efa\", \"#EF553B\", \"#00cc96\", \"#ab63fa\", \"#FFA15A\", \"#19d3f3\", \"#FF6692\", \"#B6E880\", \"#FF97FF\", \"#FECB52\"], \"font\": {\"color\": \"#2a3f5f\"}, \"geo\": {\"bgcolor\": \"white\", \"lakecolor\": \"white\", \"landcolor\": \"#E5ECF6\", \"showlakes\": true, \"showland\": true, \"subunitcolor\": \"white\"}, \"hoverlabel\": {\"align\": \"left\"}, \"hovermode\": \"closest\", \"mapbox\": {\"style\": \"light\"}, \"paper_bgcolor\": \"white\", \"plot_bgcolor\": \"#E5ECF6\", \"polar\": {\"angularaxis\": {\"gridcolor\": \"white\", \"linecolor\": \"white\", \"ticks\": \"\"}, \"bgcolor\": \"#E5ECF6\", \"radialaxis\": {\"gridcolor\": \"white\", \"linecolor\": \"white\", \"ticks\": \"\"}}, \"scene\": {\"xaxis\": {\"backgroundcolor\": \"#E5ECF6\", \"gridcolor\": \"white\", \"gridwidth\": 2, \"linecolor\": \"white\", \"showbackground\": true, \"ticks\": \"\", \"zerolinecolor\": \"white\"}, \"yaxis\": {\"backgroundcolor\": \"#E5ECF6\", \"gridcolor\": \"white\", \"gridwidth\": 2, \"linecolor\": \"white\", \"showbackground\": true, \"ticks\": \"\", \"zerolinecolor\": \"white\"}, \"zaxis\": {\"backgroundcolor\": \"#E5ECF6\", \"gridcolor\": \"white\", \"gridwidth\": 2, \"linecolor\": \"white\", \"showbackground\": true, \"ticks\": \"\", \"zerolinecolor\": \"white\"}}, \"shapedefaults\": {\"line\": {\"color\": \"#2a3f5f\"}}, \"ternary\": {\"aaxis\": {\"gridcolor\": \"white\", \"linecolor\": \"white\", \"ticks\": \"\"}, \"baxis\": {\"gridcolor\": \"white\", \"linecolor\": \"white\", \"ticks\": \"\"}, \"bgcolor\": \"#E5ECF6\", \"caxis\": {\"gridcolor\": \"white\", \"linecolor\": \"white\", \"ticks\": \"\"}}, \"title\": {\"x\": 0.05}, \"xaxis\": {\"automargin\": true, \"gridcolor\": \"white\", \"linecolor\": \"white\", \"ticks\": \"\", \"title\": {\"standoff\": 15}, \"zerolinecolor\": \"white\", \"zerolinewidth\": 2}, \"yaxis\": {\"automargin\": true, \"gridcolor\": \"white\", \"linecolor\": \"white\", \"ticks\": \"\", \"title\": {\"standoff\": 15}, \"zerolinecolor\": \"white\", \"zerolinewidth\": 2}}}, \"title\": {\"text\": \"TRAVELING SALESMAN ROUTE\"}, \"updatemenus\": [{\"buttons\": [{\"args\": [null], \"label\": \"Play\", \"method\": \"animate\"}], \"type\": \"buttons\"}]},\n",
              "                        {\"scrollZoom\": false, \"responsive\": true}\n",
              "                    ).then(function(){\n",
              "                            Plotly.addFrames('514d913c-a04c-44d7-8be1-aad8a41611e3', [{\"data\": [{\"lat\": [41.764289888527], \"lon\": [-72.682499183992], \"marker\": {\"color\": \"red\", \"size\": 10}, \"mode\": \"markers\", \"type\": \"scattermapbox\"}]}, {\"data\": [{\"lat\": [41.7111247364647], \"lon\": [-72.7629790032047], \"marker\": {\"color\": \"red\", \"size\": 10}, \"mode\": \"markers\", \"type\": \"scattermapbox\"}]}, {\"data\": [{\"lat\": [41.6666648767678], \"lon\": [-72.7766643455349], \"marker\": {\"color\": \"red\", \"size\": 10}, \"mode\": \"markers\", \"type\": \"scattermapbox\"}]}, {\"data\": [{\"lat\": [41.6674142621264], \"lon\": [-72.805806387863], \"marker\": {\"color\": \"red\", \"size\": 10}, \"mode\": \"markers\", \"type\": \"scattermapbox\"}]}, {\"data\": [{\"lat\": [41.5782163936639], \"lon\": [-73.0271913608825], \"marker\": {\"color\": \"red\", \"size\": 10}, \"mode\": \"markers\", \"type\": \"scattermapbox\"}]}, {\"data\": [{\"lat\": [41.5833165571109], \"lon\": [-73.0337020032104], \"marker\": {\"color\": \"red\", \"size\": 10}, \"mode\": \"markers\", \"type\": \"scattermapbox\"}]}, {\"data\": [{\"lat\": [41.5516292887622], \"lon\": [-73.0639124608836], \"marker\": {\"color\": \"red\", \"size\": 10}, \"mode\": \"markers\", \"type\": \"scattermapbox\"}]}, {\"data\": [{\"lat\": [41.501944381666], \"lon\": [-73.0530068032141], \"marker\": {\"color\": \"red\", \"size\": 10}, \"mode\": \"markers\", \"type\": \"scattermapbox\"}]}, {\"data\": [{\"lat\": [41.4146476376325], \"lon\": [-73.4019981032179], \"marker\": {\"color\": \"red\", \"size\": 10}, \"mode\": \"markers\", \"type\": \"scattermapbox\"}]}, {\"data\": [{\"lat\": [41.3735674146904], \"lon\": [-73.4147982032198], \"marker\": {\"color\": \"red\", \"size\": 10}, \"mode\": \"markers\", \"type\": \"scattermapbox\"}]}, {\"data\": [{\"lat\": [41.1368152698305], \"lon\": [-73.4252955032302], \"marker\": {\"color\": \"red\", \"size\": 10}, \"mode\": \"markers\", \"type\": \"scattermapbox\"}]}, {\"data\": [{\"lat\": [41.1026194238766], \"lon\": [-73.4349253320676], \"marker\": {\"color\": \"red\", \"size\": 10}, \"mode\": \"markers\", \"type\": \"scattermapbox\"}]}, {\"data\": [{\"lat\": [41.1153022539571], \"lon\": [-73.4154673455593], \"marker\": {\"color\": \"red\", \"size\": 10}, \"mode\": \"markers\", \"type\": \"scattermapbox\"}]}, {\"data\": [{\"lat\": [41.1277695785016], \"lon\": [-73.3880707455588], \"marker\": {\"color\": \"red\", \"size\": 10}, \"mode\": \"markers\", \"type\": \"scattermapbox\"}]}, {\"data\": [{\"lat\": [41.2761866736857], \"lon\": [-73.1247672185678], \"marker\": {\"color\": \"red\", \"size\": 10}, \"mode\": \"markers\", \"type\": \"scattermapbox\"}]}, {\"data\": [{\"lat\": [41.2676558768689], \"lon\": [-73.0016476878808], \"marker\": {\"color\": \"red\", \"size\": 10}, \"mode\": \"markers\", \"type\": \"scattermapbox\"}]}, {\"data\": [{\"lat\": [41.2810488305456], \"lon\": [-72.987924545552], \"marker\": {\"color\": \"red\", \"size\": 10}, \"mode\": \"markers\", \"type\": \"scattermapbox\"}]}, {\"data\": [{\"lat\": [41.2804548194501], \"lon\": [-72.8754200320598], \"marker\": {\"color\": \"red\", \"size\": 10}, \"mode\": \"markers\", \"type\": \"scattermapbox\"}]}, {\"data\": [{\"lat\": [41.2752069405999], \"lon\": [-72.8291813185678], \"marker\": {\"color\": \"red\", \"size\": 10}, \"mode\": \"markers\", \"type\": \"scattermapbox\"}]}, {\"data\": [{\"lat\": [41.3216517174151], \"lon\": [-72.8519923339094], \"marker\": {\"color\": \"red\", \"size\": 10}, \"mode\": \"markers\", \"type\": \"scattermapbox\"}]}, {\"data\": [{\"lat\": [41.3063117459586], \"lon\": [-72.9252293302072], \"marker\": {\"color\": \"red\", \"size\": 10}, \"mode\": \"markers\", \"type\": \"scattermapbox\"}]}, {\"data\": [{\"lat\": [41.3162769832612], \"lon\": [-72.9395912455504], \"marker\": {\"color\": \"red\", \"size\": 10}, \"mode\": \"markers\", \"type\": \"scattermapbox\"}]}, {\"data\": [{\"lat\": [41.3291713941692], \"lon\": [-72.9683717878781], \"marker\": {\"color\": \"red\", \"size\": 10}, \"mode\": \"markers\", \"type\": \"scattermapbox\"}]}, {\"data\": [{\"lat\": [41.5391047602487], \"lon\": [-72.9977074878687], \"marker\": {\"color\": \"red\", \"size\": 10}, \"mode\": \"markers\", \"type\": \"scattermapbox\"}]}, {\"data\": [{\"lat\": [41.5521614901779], \"lon\": [-73.0009827608837], \"marker\": {\"color\": \"red\", \"size\": 10}, \"mode\": \"markers\", \"type\": \"scattermapbox\"}]}, {\"data\": [{\"lat\": [41.7710899857772], \"lon\": [-72.9701388436788], \"marker\": {\"color\": \"red\", \"size\": 10}, \"mode\": \"markers\", \"type\": \"scattermapbox\"}]}, {\"data\": [{\"lat\": [41.9524391135402], \"lon\": [-72.7860561166862], \"marker\": {\"color\": \"red\", \"size\": 10}, \"mode\": \"markers\", \"type\": \"scattermapbox\"}]}, {\"data\": [{\"lat\": [41.9831328097653], \"lon\": [-72.6568284185362], \"marker\": {\"color\": \"red\", \"size\": 10}, \"mode\": \"markers\", \"type\": \"scattermapbox\"}]}, {\"data\": [{\"lat\": [41.9982166854156], \"lon\": [-72.5936096590124], \"marker\": {\"color\": \"red\", \"size\": 10}, \"mode\": \"markers\", \"type\": \"scattermapbox\"}]}, {\"data\": [{\"lat\": [41.9953633420842], \"lon\": [-72.582220603192], \"marker\": {\"color\": \"red\", \"size\": 10}, \"mode\": \"markers\", \"type\": \"scattermapbox\"}]}, {\"data\": [{\"lat\": [41.9904847334974], \"lon\": [-72.5764313031922], \"marker\": {\"color\": \"red\", \"size\": 10}, \"mode\": \"markers\", \"type\": \"scattermapbox\"}]}, {\"data\": [{\"lat\": [41.7980615345505], \"lon\": [-72.3688034032008], \"marker\": {\"color\": \"red\", \"size\": 10}, \"mode\": \"markers\", \"type\": \"scattermapbox\"}]}, {\"data\": [{\"lat\": [41.6673744865115], \"lon\": [-71.9143697897145], \"marker\": {\"color\": \"red\", \"size\": 10}, \"mode\": \"markers\", \"type\": \"scattermapbox\"}]}, {\"data\": [{\"lat\": [41.3527192139631], \"lon\": [-71.9631962032207], \"marker\": {\"color\": \"red\", \"size\": 10}, \"mode\": \"markers\", \"type\": \"scattermapbox\"}]}, {\"data\": [{\"lat\": [41.4278446329939], \"lon\": [-72.082831702046], \"marker\": {\"color\": \"red\", \"size\": 10}, \"mode\": \"markers\", \"type\": \"scattermapbox\"}]}, {\"data\": [{\"lat\": [41.2998247643997], \"lon\": [-72.3763086167153], \"marker\": {\"color\": \"red\", \"size\": 10}, \"mode\": \"markers\", \"type\": \"scattermapbox\"}]}, {\"data\": [{\"lat\": [41.6027131915866], \"lon\": [-72.6889224743737], \"marker\": {\"color\": \"red\", \"size\": 10}, \"mode\": \"markers\", \"type\": \"scattermapbox\"}]}, {\"data\": [{\"lat\": [41.764289888527], \"lon\": [-72.682499183992], \"marker\": {\"color\": \"red\", \"size\": 10}, \"mode\": \"markers\", \"type\": \"scattermapbox\"}]}]);\n",
              "                        }).then(function(){\n",
              "                            \n",
              "var gd = document.getElementById('514d913c-a04c-44d7-8be1-aad8a41611e3');\n",
              "var x = new MutationObserver(function (mutations, observer) {{\n",
              "        var display = window.getComputedStyle(gd).display;\n",
              "        if (!display || display === 'none') {{\n",
              "            console.log([gd, 'removed!']);\n",
              "            Plotly.purge(gd);\n",
              "            observer.disconnect();\n",
              "        }}\n",
              "}});\n",
              "\n",
              "// Listen for the removal of the full notebook cells\n",
              "var notebookContainer = gd.closest('#notebook-container');\n",
              "if (notebookContainer) {{\n",
              "    x.observe(notebookContainer, {childList: true});\n",
              "}}\n",
              "\n",
              "// Listen for the clearing of the current output cell\n",
              "var outputEl = gd.closest('.output');\n",
              "if (outputEl) {{\n",
              "    x.observe(outputEl, {childList: true});\n",
              "}}\n",
              "\n",
              "                        })\n",
              "                };\n",
              "                \n",
              "            </script>\n",
              "        </div>\n",
              "</body>\n",
              "</html>"
            ]
          },
          "metadata": {
            "tags": []
          }
        },
        {
          "output_type": "stream",
          "text": [
            "time: 2.86 s (started: 2021-04-20 00:28:51 +00:00)\n"
          ],
          "name": "stdout"
        }
      ]
    },
    {
      "cell_type": "markdown",
      "metadata": {
        "id": "Vr3JTdQUBqNt"
      },
      "source": [
        "#### Scenario 2: Try a different first solution strategy\n"
      ]
    },
    {
      "cell_type": "code",
      "metadata": {
        "colab": {
          "base_uri": "https://localhost:8080/"
        },
        "id": "AKpJBzcNBrBv",
        "outputId": "00ae1ff3-ca31-4bad-8f0b-bb1d3cd7313c"
      },
      "source": [
        "search_parameters = pywrapcp.DefaultRoutingSearchParameters() #setting default parameters for TSP   #more options in VRP \n",
        "search_parameters.first_solution_strategy = (routing_enums_pb2.FirstSolutionStrategy.CHRISTOFIDES) # set it to PATH_CHEAPEST_ARC mode for strategy "
      ],
      "execution_count": 603,
      "outputs": [
        {
          "output_type": "stream",
          "text": [
            "time: 3.21 ms (started: 2021-04-20 00:28:54 +00:00)\n"
          ],
          "name": "stdout"
        }
      ]
    },
    {
      "cell_type": "markdown",
      "metadata": {
        "id": "9_CGWvtFfrQe"
      },
      "source": [
        "###### Solve the problem."
      ]
    },
    {
      "cell_type": "code",
      "metadata": {
        "colab": {
          "base_uri": "https://localhost:8080/"
        },
        "id": "oav5XIUxfoFk",
        "outputId": "72463762-ef05-4ef4-e465-09bb6d1cf797"
      },
      "source": [
        "# [START solve]\n",
        "\n",
        "# Solve the problem.\n",
        "solution2 = routing.SolveWithParameters(search_parameters) #solve with those parameters\n",
        "\n",
        "# [END solve]"
      ],
      "execution_count": 604,
      "outputs": [
        {
          "output_type": "stream",
          "text": [
            "time: 65.6 ms (started: 2021-04-20 00:28:54 +00:00)\n"
          ],
          "name": "stdout"
        }
      ]
    },
    {
      "cell_type": "markdown",
      "metadata": {
        "id": "x5UEacXBfuOX"
      },
      "source": [
        "###### Print solution."
      ]
    },
    {
      "cell_type": "code",
      "metadata": {
        "colab": {
          "base_uri": "https://localhost:8080/"
        },
        "id": "K1L4jMC8fudd",
        "outputId": "b8a05ac5-da56-45f3-f3d2-d120550115a0"
      },
      "source": [
        "# [START print_solution]\n",
        "\n",
        "#use the print function generated before to print the solution & add to tsp array\n",
        "if solution2:\n",
        "    tsp=print_solution(manager, routing, solution2) \n",
        "\n",
        "# [END print_solution]"
      ],
      "execution_count": 605,
      "outputs": [
        {
          "output_type": "stream",
          "text": [
            "Objective: 40524 km\n",
            "Route for vehicle 0:\n",
            " 0 -> 31 -> 32 -> 33 -> 10 -> 7 -> 22 -> 21 -> 20 -> 6 -> 12 -> 5 -> 34 -> 35 -> 36 -> 27 -> 26 -> 28 -> 29 -> 24 -> 25 -> 3 -> 9 -> 8 -> 11 -> 13 -> 15 -> 23 -> 19 -> 18 -> 17 -> 4 -> 16 -> 2 -> 1 -> 30 -> 14 -> 0\n",
            "\n",
            "time: 5.5 ms (started: 2021-04-20 00:28:54 +00:00)\n"
          ],
          "name": "stdout"
        }
      ]
    },
    {
      "cell_type": "code",
      "metadata": {
        "colab": {
          "base_uri": "https://localhost:8080/"
        },
        "id": "_7deThoRhcSD",
        "outputId": "b60917a0-202b-47f7-c7bd-6ce1b4a3d623"
      },
      "source": [
        "tsp=np.array(tsp) \n",
        "tsp #solution array"
      ],
      "execution_count": 606,
      "outputs": [
        {
          "output_type": "execute_result",
          "data": {
            "text/plain": [
              "array([ 0, 31, 32, 33, 10,  7, 22, 21, 20,  6, 12,  5, 34, 35, 36, 27, 26,\n",
              "       28, 29, 24, 25,  3,  9,  8, 11, 13, 15, 23, 19, 18, 17,  4, 16,  2,\n",
              "        1, 30, 14])"
            ]
          },
          "metadata": {
            "tags": []
          },
          "execution_count": 606
        },
        {
          "output_type": "stream",
          "text": [
            "time: 9.38 ms (started: 2021-04-20 00:28:54 +00:00)\n"
          ],
          "name": "stdout"
        }
      ]
    },
    {
      "cell_type": "code",
      "metadata": {
        "colab": {
          "base_uri": "https://localhost:8080/",
          "height": 1000
        },
        "id": "8cybr22jU6mx",
        "outputId": "31b2a059-c4a7-429d-da4e-835a27e99068"
      },
      "source": [
        "# now reindex the original data\n",
        "geogTable_orig2 = geogTable_orig.reindex(tsp)\n",
        "geogTable_orig2 = geogTable_orig2.append(geogTable_orig2.iloc[0,:])\n",
        "geogTable_orig2"
      ],
      "execution_count": 607,
      "outputs": [
        {
          "output_type": "execute_result",
          "data": {
            "text/html": [
              "<div>\n",
              "<style scoped>\n",
              "    .dataframe tbody tr th:only-of-type {\n",
              "        vertical-align: middle;\n",
              "    }\n",
              "\n",
              "    .dataframe tbody tr th {\n",
              "        vertical-align: top;\n",
              "    }\n",
              "\n",
              "    .dataframe thead th {\n",
              "        text-align: right;\n",
              "    }\n",
              "</style>\n",
              "<table border=\"1\" class=\"dataframe\">\n",
              "  <thead>\n",
              "    <tr style=\"text-align: right;\">\n",
              "      <th></th>\n",
              "      <th>City</th>\n",
              "      <th>Lat</th>\n",
              "      <th>Lon</th>\n",
              "    </tr>\n",
              "  </thead>\n",
              "  <tbody>\n",
              "    <tr>\n",
              "      <th>0</th>\n",
              "      <td>Hartford</td>\n",
              "      <td>41.764290</td>\n",
              "      <td>-72.682499</td>\n",
              "    </tr>\n",
              "    <tr>\n",
              "      <th>31</th>\n",
              "      <td>New Britain</td>\n",
              "      <td>41.711125</td>\n",
              "      <td>-72.762979</td>\n",
              "    </tr>\n",
              "    <tr>\n",
              "      <th>32</th>\n",
              "      <td>New Britain</td>\n",
              "      <td>41.666665</td>\n",
              "      <td>-72.776664</td>\n",
              "    </tr>\n",
              "    <tr>\n",
              "      <th>33</th>\n",
              "      <td>New Britain</td>\n",
              "      <td>41.667414</td>\n",
              "      <td>-72.805806</td>\n",
              "    </tr>\n",
              "    <tr>\n",
              "      <th>10</th>\n",
              "      <td>Waterbury</td>\n",
              "      <td>41.552161</td>\n",
              "      <td>-73.000983</td>\n",
              "    </tr>\n",
              "    <tr>\n",
              "      <th>7</th>\n",
              "      <td>Waterbury</td>\n",
              "      <td>41.539105</td>\n",
              "      <td>-72.997707</td>\n",
              "    </tr>\n",
              "    <tr>\n",
              "      <th>22</th>\n",
              "      <td>New Haven</td>\n",
              "      <td>41.329171</td>\n",
              "      <td>-72.968372</td>\n",
              "    </tr>\n",
              "    <tr>\n",
              "      <th>21</th>\n",
              "      <td>New Haven</td>\n",
              "      <td>41.316277</td>\n",
              "      <td>-72.939591</td>\n",
              "    </tr>\n",
              "    <tr>\n",
              "      <th>20</th>\n",
              "      <td>New Haven</td>\n",
              "      <td>41.306312</td>\n",
              "      <td>-72.925229</td>\n",
              "    </tr>\n",
              "    <tr>\n",
              "      <th>6</th>\n",
              "      <td>East Haven</td>\n",
              "      <td>41.321652</td>\n",
              "      <td>-72.851992</td>\n",
              "    </tr>\n",
              "    <tr>\n",
              "      <th>12</th>\n",
              "      <td>Branford</td>\n",
              "      <td>41.275207</td>\n",
              "      <td>-72.829181</td>\n",
              "    </tr>\n",
              "    <tr>\n",
              "      <th>5</th>\n",
              "      <td>East Haven</td>\n",
              "      <td>41.280455</td>\n",
              "      <td>-72.875420</td>\n",
              "    </tr>\n",
              "    <tr>\n",
              "      <th>34</th>\n",
              "      <td>Orange</td>\n",
              "      <td>41.281049</td>\n",
              "      <td>-72.987925</td>\n",
              "    </tr>\n",
              "    <tr>\n",
              "      <th>35</th>\n",
              "      <td>Orange</td>\n",
              "      <td>41.267656</td>\n",
              "      <td>-73.001648</td>\n",
              "    </tr>\n",
              "    <tr>\n",
              "      <th>36</th>\n",
              "      <td>Shelton</td>\n",
              "      <td>41.276187</td>\n",
              "      <td>-73.124767</td>\n",
              "    </tr>\n",
              "    <tr>\n",
              "      <th>27</th>\n",
              "      <td>Norwalk</td>\n",
              "      <td>41.127770</td>\n",
              "      <td>-73.388071</td>\n",
              "    </tr>\n",
              "    <tr>\n",
              "      <th>26</th>\n",
              "      <td>Norwalk</td>\n",
              "      <td>41.115302</td>\n",
              "      <td>-73.415467</td>\n",
              "    </tr>\n",
              "    <tr>\n",
              "      <th>28</th>\n",
              "      <td>Norwalk</td>\n",
              "      <td>41.102619</td>\n",
              "      <td>-73.434925</td>\n",
              "    </tr>\n",
              "    <tr>\n",
              "      <th>29</th>\n",
              "      <td>Norwalk</td>\n",
              "      <td>41.136815</td>\n",
              "      <td>-73.425296</td>\n",
              "    </tr>\n",
              "    <tr>\n",
              "      <th>24</th>\n",
              "      <td>Bethel</td>\n",
              "      <td>41.373567</td>\n",
              "      <td>-73.414798</td>\n",
              "    </tr>\n",
              "    <tr>\n",
              "      <th>25</th>\n",
              "      <td>Bethel</td>\n",
              "      <td>41.414648</td>\n",
              "      <td>-73.401998</td>\n",
              "    </tr>\n",
              "    <tr>\n",
              "      <th>3</th>\n",
              "      <td>Naugatuck</td>\n",
              "      <td>41.501944</td>\n",
              "      <td>-73.053007</td>\n",
              "    </tr>\n",
              "    <tr>\n",
              "      <th>9</th>\n",
              "      <td>Waterbury</td>\n",
              "      <td>41.551629</td>\n",
              "      <td>-73.063912</td>\n",
              "    </tr>\n",
              "    <tr>\n",
              "      <th>8</th>\n",
              "      <td>Waterbury</td>\n",
              "      <td>41.583317</td>\n",
              "      <td>-73.033702</td>\n",
              "    </tr>\n",
              "    <tr>\n",
              "      <th>11</th>\n",
              "      <td>Waterbury</td>\n",
              "      <td>41.578216</td>\n",
              "      <td>-73.027191</td>\n",
              "    </tr>\n",
              "    <tr>\n",
              "      <th>13</th>\n",
              "      <td>Burlington</td>\n",
              "      <td>41.771090</td>\n",
              "      <td>-72.970139</td>\n",
              "    </tr>\n",
              "    <tr>\n",
              "      <th>15</th>\n",
              "      <td>Granby</td>\n",
              "      <td>41.952439</td>\n",
              "      <td>-72.786056</td>\n",
              "    </tr>\n",
              "    <tr>\n",
              "      <th>23</th>\n",
              "      <td>Suffield</td>\n",
              "      <td>41.983133</td>\n",
              "      <td>-72.656828</td>\n",
              "    </tr>\n",
              "    <tr>\n",
              "      <th>19</th>\n",
              "      <td>Enfield</td>\n",
              "      <td>41.998217</td>\n",
              "      <td>-72.593610</td>\n",
              "    </tr>\n",
              "    <tr>\n",
              "      <th>18</th>\n",
              "      <td>Enfield</td>\n",
              "      <td>41.995363</td>\n",
              "      <td>-72.582221</td>\n",
              "    </tr>\n",
              "    <tr>\n",
              "      <th>17</th>\n",
              "      <td>Enfield</td>\n",
              "      <td>41.990485</td>\n",
              "      <td>-72.576431</td>\n",
              "    </tr>\n",
              "    <tr>\n",
              "      <th>4</th>\n",
              "      <td>Coventry</td>\n",
              "      <td>41.798062</td>\n",
              "      <td>-72.368803</td>\n",
              "    </tr>\n",
              "    <tr>\n",
              "      <th>16</th>\n",
              "      <td>Plainfield</td>\n",
              "      <td>41.667374</td>\n",
              "      <td>-71.914370</td>\n",
              "    </tr>\n",
              "    <tr>\n",
              "      <th>2</th>\n",
              "      <td>Mystic</td>\n",
              "      <td>41.352719</td>\n",
              "      <td>-71.963196</td>\n",
              "    </tr>\n",
              "    <tr>\n",
              "      <th>1</th>\n",
              "      <td>Gales Ferry</td>\n",
              "      <td>41.427845</td>\n",
              "      <td>-72.082832</td>\n",
              "    </tr>\n",
              "    <tr>\n",
              "      <th>30</th>\n",
              "      <td>Old Saybrook</td>\n",
              "      <td>41.299825</td>\n",
              "      <td>-72.376309</td>\n",
              "    </tr>\n",
              "    <tr>\n",
              "      <th>14</th>\n",
              "      <td>Cromwell</td>\n",
              "      <td>41.602713</td>\n",
              "      <td>-72.688922</td>\n",
              "    </tr>\n",
              "    <tr>\n",
              "      <th>0</th>\n",
              "      <td>Hartford</td>\n",
              "      <td>41.764290</td>\n",
              "      <td>-72.682499</td>\n",
              "    </tr>\n",
              "  </tbody>\n",
              "</table>\n",
              "</div>"
            ],
            "text/plain": [
              "             City        Lat        Lon\n",
              "0        Hartford  41.764290 -72.682499\n",
              "31    New Britain  41.711125 -72.762979\n",
              "32    New Britain  41.666665 -72.776664\n",
              "33    New Britain  41.667414 -72.805806\n",
              "10      Waterbury  41.552161 -73.000983\n",
              "7       Waterbury  41.539105 -72.997707\n",
              "22      New Haven  41.329171 -72.968372\n",
              "21      New Haven  41.316277 -72.939591\n",
              "20      New Haven  41.306312 -72.925229\n",
              "6      East Haven  41.321652 -72.851992\n",
              "12       Branford  41.275207 -72.829181\n",
              "5      East Haven  41.280455 -72.875420\n",
              "34         Orange  41.281049 -72.987925\n",
              "35         Orange  41.267656 -73.001648\n",
              "36        Shelton  41.276187 -73.124767\n",
              "27        Norwalk  41.127770 -73.388071\n",
              "26        Norwalk  41.115302 -73.415467\n",
              "28        Norwalk  41.102619 -73.434925\n",
              "29        Norwalk  41.136815 -73.425296\n",
              "24        Bethel   41.373567 -73.414798\n",
              "25        Bethel   41.414648 -73.401998\n",
              "3      Naugatuck   41.501944 -73.053007\n",
              "9       Waterbury  41.551629 -73.063912\n",
              "8       Waterbury  41.583317 -73.033702\n",
              "11      Waterbury  41.578216 -73.027191\n",
              "13     Burlington  41.771090 -72.970139\n",
              "15         Granby  41.952439 -72.786056\n",
              "23       Suffield  41.983133 -72.656828\n",
              "19        Enfield  41.998217 -72.593610\n",
              "18        Enfield  41.995363 -72.582221\n",
              "17        Enfield  41.990485 -72.576431\n",
              "4        Coventry  41.798062 -72.368803\n",
              "16     Plainfield  41.667374 -71.914370\n",
              "2         Mystic   41.352719 -71.963196\n",
              "1     Gales Ferry  41.427845 -72.082832\n",
              "30  Old Saybrook   41.299825 -72.376309\n",
              "14       Cromwell  41.602713 -72.688922\n",
              "0        Hartford  41.764290 -72.682499"
            ]
          },
          "metadata": {
            "tags": []
          },
          "execution_count": 607
        },
        {
          "output_type": "stream",
          "text": [
            "time: 36.8 ms (started: 2021-04-20 00:28:54 +00:00)\n"
          ],
          "name": "stdout"
        }
      ]
    },
    {
      "cell_type": "markdown",
      "metadata": {
        "id": "C15S8ih_h8gG"
      },
      "source": [
        "###### Visualize the solution"
      ]
    },
    {
      "cell_type": "code",
      "metadata": {
        "colab": {
          "base_uri": "https://localhost:8080/"
        },
        "id": "Y18Dj7LNh_62",
        "outputId": "f5463c88-a559-4476-cc38-d1515352c4bf"
      },
      "source": [
        "mean(geogTable_orig2['Lat']) #for center of Map-mean latitude"
      ],
      "execution_count": 608,
      "outputs": [
        {
          "output_type": "execute_result",
          "data": {
            "text/plain": [
              "41.516950199436074"
            ]
          },
          "metadata": {
            "tags": []
          },
          "execution_count": 608
        },
        {
          "output_type": "stream",
          "text": [
            "time: 7 ms (started: 2021-04-20 00:28:54 +00:00)\n"
          ],
          "name": "stdout"
        }
      ]
    },
    {
      "cell_type": "code",
      "metadata": {
        "colab": {
          "base_uri": "https://localhost:8080/"
        },
        "id": "b8fn-sL1iCQP",
        "outputId": "00f4c4a7-a695-4ca2-f243-394d643f83f4"
      },
      "source": [
        "mean(geogTable_orig2['Lon']) #for center of Map-mean longitude"
      ],
      "execution_count": 609,
      "outputs": [
        {
          "output_type": "execute_result",
          "data": {
            "text/plain": [
              "-72.85345654863488"
            ]
          },
          "metadata": {
            "tags": []
          },
          "execution_count": 609
        },
        {
          "output_type": "stream",
          "text": [
            "time: 7.41 ms (started: 2021-04-20 00:28:54 +00:00)\n"
          ],
          "name": "stdout"
        }
      ]
    },
    {
      "cell_type": "code",
      "metadata": {
        "colab": {
          "base_uri": "https://localhost:8080/",
          "height": 558
        },
        "id": "r5jjI5DDiEcs",
        "outputId": "ad35d1d3-1b02-4d0a-ed01-9cca4ccc4de9"
      },
      "source": [
        "fig = go.Figure(go.Scattermapbox(\n",
        "    mode = \"markers+lines\",\n",
        "    lon = geogTable_orig2['Lon'],\n",
        "    lat = geogTable_orig2['Lat'],\n",
        "    name=\"Main Route\",\n",
        "    hovertext=geogTable_orig2['City'],\n",
        "    marker = {'size': 10}))\n",
        "\n",
        "for i in range(len(geogTable_orig2)):\n",
        "  fig.add_trace(go.Scattermapbox(\n",
        "    mode = \"markers+lines\",\n",
        "    lat = [geogTable_orig2.iloc[i,1],geogTable_orig2.iloc[i-1,1]],\n",
        "    lon = [geogTable_orig2.iloc[i,2],geogTable_orig2.iloc[i-1,2]],\n",
        "    name=\"Route\"+str(i),\n",
        "    text=[geogTable_orig2.iloc[i,0]+'-'+str(i),geogTable_orig2.iloc[i-1,0]+'-'+str(i-1)],\n",
        "    textposition='top center',\n",
        "    marker = {'size': 10}))\n",
        "  \n",
        "fig.update_layout(mapbox_style=\"carto-darkmatter\", mapbox_zoom=8.15, mapbox_center_lat = 41.50435,mapbox_center_lon = -72.8587,\n",
        "    margin={\"r\":0,\"t\":0,\"l\":0,\"b\":0},title=\"TRAVELING SALESMAN ROUTE\")\n",
        "config = dict({'scrollZoom': False})\n",
        "fig.show(config=config)"
      ],
      "execution_count": 610,
      "outputs": [
        {
          "output_type": "display_data",
          "data": {
            "text/html": [
              "<html>\n",
              "<head><meta charset=\"utf-8\" /></head>\n",
              "<body>\n",
              "    <div>\n",
              "            <script src=\"https://cdnjs.cloudflare.com/ajax/libs/mathjax/2.7.5/MathJax.js?config=TeX-AMS-MML_SVG\"></script><script type=\"text/javascript\">if (window.MathJax) {MathJax.Hub.Config({SVG: {font: \"STIX-Web\"}});}</script>\n",
              "                <script type=\"text/javascript\">window.PlotlyConfig = {MathJaxConfig: 'local'};</script>\n",
              "        <script src=\"https://cdn.plot.ly/plotly-latest.min.js\"></script>    \n",
              "            <div id=\"b4ae0c50-00aa-434b-ad77-95206bb585c0\" class=\"plotly-graph-div\" style=\"height:525px; width:100%;\"></div>\n",
              "            <script type=\"text/javascript\">\n",
              "                \n",
              "                    window.PLOTLYENV=window.PLOTLYENV || {};\n",
              "                    \n",
              "                if (document.getElementById(\"b4ae0c50-00aa-434b-ad77-95206bb585c0\")) {\n",
              "                    Plotly.newPlot(\n",
              "                        'b4ae0c50-00aa-434b-ad77-95206bb585c0',\n",
              "                        [{\"hovertext\": [\"Hartford\", \"New Britain\", \"New Britain\", \"New Britain\", \"Waterbury\", \"Waterbury\", \"New Haven\", \"New Haven\", \"New Haven\", \"East Haven\", \"Branford\", \"East Haven\", \"Orange\", \"Orange\", \"Shelton\", \"Norwalk\", \"Norwalk\", \"Norwalk\", \"Norwalk\", \"Bethel \", \"Bethel \", \"Naugatuck \", \"Waterbury\", \"Waterbury\", \"Waterbury\", \"Burlington\", \"Granby\", \"Suffield\", \"Enfield\", \"Enfield\", \"Enfield\", \"Coventry\", \"Plainfield\", \"Mystic \", \"Gales Ferry\", \"Old Saybrook \", \"Cromwell\", \"Hartford\"], \"lat\": [41.764289888527, 41.7111247364647, 41.6666648767678, 41.6674142621264, 41.5521614901779, 41.5391047602487, 41.3291713941692, 41.3162769832612, 41.3063117459586, 41.3216517174151, 41.2752069405999, 41.2804548194501, 41.2810488305456, 41.2676558768689, 41.2761866736857, 41.1277695785016, 41.1153022539571, 41.1026194238766, 41.1368152698305, 41.3735674146904, 41.4146476376325, 41.501944381666, 41.5516292887622, 41.5833165571109, 41.5782163936639, 41.7710899857772, 41.9524391135402, 41.9831328097653, 41.9982166854156, 41.9953633420842, 41.9904847334974, 41.7980615345505, 41.6673744865115, 41.3527192139631, 41.4278446329939, 41.2998247643997, 41.6027131915866, 41.764289888527], \"lon\": [-72.682499183992, -72.7629790032047, -72.7766643455349, -72.805806387863, -73.0009827608837, -72.9977074878687, -72.9683717878781, -72.9395912455504, -72.9252293302072, -72.8519923339094, -72.8291813185678, -72.8754200320598, -72.987924545552, -73.0016476878808, -73.1247672185678, -73.3880707455588, -73.4154673455593, -73.4349253320676, -73.4252955032302, -73.4147982032198, -73.4019981032179, -73.0530068032141, -73.0639124608836, -73.0337020032104, -73.0271913608825, -72.9701388436788, -72.7860561166862, -72.6568284185362, -72.5936096590124, -72.582220603192, -72.5764313031922, -72.3688034032008, -71.9143697897145, -71.9631962032207, -72.082831702046, -72.3763086167153, -72.6889224743737, -72.682499183992], \"marker\": {\"size\": 10}, \"mode\": \"markers+lines\", \"name\": \"Main Route\", \"type\": \"scattermapbox\"}, {\"lat\": [41.764289888527, 41.764289888527], \"lon\": [-72.682499183992, -72.682499183992], \"marker\": {\"size\": 10}, \"mode\": \"markers+lines\", \"name\": \"Route0\", \"text\": [\"Hartford-0\", \"Hartford--1\"], \"textposition\": \"top center\", \"type\": \"scattermapbox\"}, {\"lat\": [41.7111247364647, 41.764289888527], \"lon\": [-72.7629790032047, -72.682499183992], \"marker\": {\"size\": 10}, \"mode\": \"markers+lines\", \"name\": \"Route1\", \"text\": [\"New Britain-1\", \"Hartford-0\"], \"textposition\": \"top center\", \"type\": \"scattermapbox\"}, {\"lat\": [41.6666648767678, 41.7111247364647], \"lon\": [-72.7766643455349, -72.7629790032047], \"marker\": {\"size\": 10}, \"mode\": \"markers+lines\", \"name\": \"Route2\", \"text\": [\"New Britain-2\", \"New Britain-1\"], \"textposition\": \"top center\", \"type\": \"scattermapbox\"}, {\"lat\": [41.6674142621264, 41.6666648767678], \"lon\": [-72.805806387863, -72.7766643455349], \"marker\": {\"size\": 10}, \"mode\": \"markers+lines\", \"name\": \"Route3\", \"text\": [\"New Britain-3\", \"New Britain-2\"], \"textposition\": \"top center\", \"type\": \"scattermapbox\"}, {\"lat\": [41.5521614901779, 41.6674142621264], \"lon\": [-73.0009827608837, -72.805806387863], \"marker\": {\"size\": 10}, \"mode\": \"markers+lines\", \"name\": \"Route4\", \"text\": [\"Waterbury-4\", \"New Britain-3\"], \"textposition\": \"top center\", \"type\": \"scattermapbox\"}, {\"lat\": [41.5391047602487, 41.5521614901779], \"lon\": [-72.9977074878687, -73.0009827608837], \"marker\": {\"size\": 10}, \"mode\": \"markers+lines\", \"name\": \"Route5\", \"text\": [\"Waterbury-5\", \"Waterbury-4\"], \"textposition\": \"top center\", \"type\": \"scattermapbox\"}, {\"lat\": [41.3291713941692, 41.5391047602487], \"lon\": [-72.9683717878781, -72.9977074878687], \"marker\": {\"size\": 10}, \"mode\": \"markers+lines\", \"name\": \"Route6\", \"text\": [\"New Haven-6\", \"Waterbury-5\"], \"textposition\": \"top center\", \"type\": \"scattermapbox\"}, {\"lat\": [41.3162769832612, 41.3291713941692], \"lon\": [-72.9395912455504, -72.9683717878781], \"marker\": {\"size\": 10}, \"mode\": \"markers+lines\", \"name\": \"Route7\", \"text\": [\"New Haven-7\", \"New Haven-6\"], \"textposition\": \"top center\", \"type\": \"scattermapbox\"}, {\"lat\": [41.3063117459586, 41.3162769832612], \"lon\": [-72.9252293302072, -72.9395912455504], \"marker\": {\"size\": 10}, \"mode\": \"markers+lines\", \"name\": \"Route8\", \"text\": [\"New Haven-8\", \"New Haven-7\"], \"textposition\": \"top center\", \"type\": \"scattermapbox\"}, {\"lat\": [41.3216517174151, 41.3063117459586], \"lon\": [-72.8519923339094, -72.9252293302072], \"marker\": {\"size\": 10}, \"mode\": \"markers+lines\", \"name\": \"Route9\", \"text\": [\"East Haven-9\", \"New Haven-8\"], \"textposition\": \"top center\", \"type\": \"scattermapbox\"}, {\"lat\": [41.2752069405999, 41.3216517174151], \"lon\": [-72.8291813185678, -72.8519923339094], \"marker\": {\"size\": 10}, \"mode\": \"markers+lines\", \"name\": \"Route10\", \"text\": [\"Branford-10\", \"East Haven-9\"], \"textposition\": \"top center\", \"type\": \"scattermapbox\"}, {\"lat\": [41.2804548194501, 41.2752069405999], \"lon\": [-72.8754200320598, -72.8291813185678], \"marker\": {\"size\": 10}, \"mode\": \"markers+lines\", \"name\": \"Route11\", \"text\": [\"East Haven-11\", \"Branford-10\"], \"textposition\": \"top center\", \"type\": \"scattermapbox\"}, {\"lat\": [41.2810488305456, 41.2804548194501], \"lon\": [-72.987924545552, -72.8754200320598], \"marker\": {\"size\": 10}, \"mode\": \"markers+lines\", \"name\": \"Route12\", \"text\": [\"Orange-12\", \"East Haven-11\"], \"textposition\": \"top center\", \"type\": \"scattermapbox\"}, {\"lat\": [41.2676558768689, 41.2810488305456], \"lon\": [-73.0016476878808, -72.987924545552], \"marker\": {\"size\": 10}, \"mode\": \"markers+lines\", \"name\": \"Route13\", \"text\": [\"Orange-13\", \"Orange-12\"], \"textposition\": \"top center\", \"type\": \"scattermapbox\"}, {\"lat\": [41.2761866736857, 41.2676558768689], \"lon\": [-73.1247672185678, -73.0016476878808], \"marker\": {\"size\": 10}, \"mode\": \"markers+lines\", \"name\": \"Route14\", \"text\": [\"Shelton-14\", \"Orange-13\"], \"textposition\": \"top center\", \"type\": \"scattermapbox\"}, {\"lat\": [41.1277695785016, 41.2761866736857], \"lon\": [-73.3880707455588, -73.1247672185678], \"marker\": {\"size\": 10}, \"mode\": \"markers+lines\", \"name\": \"Route15\", \"text\": [\"Norwalk-15\", \"Shelton-14\"], \"textposition\": \"top center\", \"type\": \"scattermapbox\"}, {\"lat\": [41.1153022539571, 41.1277695785016], \"lon\": [-73.4154673455593, -73.3880707455588], \"marker\": {\"size\": 10}, \"mode\": \"markers+lines\", \"name\": \"Route16\", \"text\": [\"Norwalk-16\", \"Norwalk-15\"], \"textposition\": \"top center\", \"type\": \"scattermapbox\"}, {\"lat\": [41.1026194238766, 41.1153022539571], \"lon\": [-73.4349253320676, -73.4154673455593], \"marker\": {\"size\": 10}, \"mode\": \"markers+lines\", \"name\": \"Route17\", \"text\": [\"Norwalk-17\", \"Norwalk-16\"], \"textposition\": \"top center\", \"type\": \"scattermapbox\"}, {\"lat\": [41.1368152698305, 41.1026194238766], \"lon\": [-73.4252955032302, -73.4349253320676], \"marker\": {\"size\": 10}, \"mode\": \"markers+lines\", \"name\": \"Route18\", \"text\": [\"Norwalk-18\", \"Norwalk-17\"], \"textposition\": \"top center\", \"type\": \"scattermapbox\"}, {\"lat\": [41.3735674146904, 41.1368152698305], \"lon\": [-73.4147982032198, -73.4252955032302], \"marker\": {\"size\": 10}, \"mode\": \"markers+lines\", \"name\": \"Route19\", \"text\": [\"Bethel -19\", \"Norwalk-18\"], \"textposition\": \"top center\", \"type\": \"scattermapbox\"}, {\"lat\": [41.4146476376325, 41.3735674146904], \"lon\": [-73.4019981032179, -73.4147982032198], \"marker\": {\"size\": 10}, \"mode\": \"markers+lines\", \"name\": \"Route20\", \"text\": [\"Bethel -20\", \"Bethel -19\"], \"textposition\": \"top center\", \"type\": \"scattermapbox\"}, {\"lat\": [41.501944381666, 41.4146476376325], \"lon\": [-73.0530068032141, -73.4019981032179], \"marker\": {\"size\": 10}, \"mode\": \"markers+lines\", \"name\": \"Route21\", \"text\": [\"Naugatuck -21\", \"Bethel -20\"], \"textposition\": \"top center\", \"type\": \"scattermapbox\"}, {\"lat\": [41.5516292887622, 41.501944381666], \"lon\": [-73.0639124608836, -73.0530068032141], \"marker\": {\"size\": 10}, \"mode\": \"markers+lines\", \"name\": \"Route22\", \"text\": [\"Waterbury-22\", \"Naugatuck -21\"], \"textposition\": \"top center\", \"type\": \"scattermapbox\"}, {\"lat\": [41.5833165571109, 41.5516292887622], \"lon\": [-73.0337020032104, -73.0639124608836], \"marker\": {\"size\": 10}, \"mode\": \"markers+lines\", \"name\": \"Route23\", \"text\": [\"Waterbury-23\", \"Waterbury-22\"], \"textposition\": \"top center\", \"type\": \"scattermapbox\"}, {\"lat\": [41.5782163936639, 41.5833165571109], \"lon\": [-73.0271913608825, -73.0337020032104], \"marker\": {\"size\": 10}, \"mode\": \"markers+lines\", \"name\": \"Route24\", \"text\": [\"Waterbury-24\", \"Waterbury-23\"], \"textposition\": \"top center\", \"type\": \"scattermapbox\"}, {\"lat\": [41.7710899857772, 41.5782163936639], \"lon\": [-72.9701388436788, -73.0271913608825], \"marker\": {\"size\": 10}, \"mode\": \"markers+lines\", \"name\": \"Route25\", \"text\": [\"Burlington-25\", \"Waterbury-24\"], \"textposition\": \"top center\", \"type\": \"scattermapbox\"}, {\"lat\": [41.9524391135402, 41.7710899857772], \"lon\": [-72.7860561166862, -72.9701388436788], \"marker\": {\"size\": 10}, \"mode\": \"markers+lines\", \"name\": \"Route26\", \"text\": [\"Granby-26\", \"Burlington-25\"], \"textposition\": \"top center\", \"type\": \"scattermapbox\"}, {\"lat\": [41.9831328097653, 41.9524391135402], \"lon\": [-72.6568284185362, -72.7860561166862], \"marker\": {\"size\": 10}, \"mode\": \"markers+lines\", \"name\": \"Route27\", \"text\": [\"Suffield-27\", \"Granby-26\"], \"textposition\": \"top center\", \"type\": \"scattermapbox\"}, {\"lat\": [41.9982166854156, 41.9831328097653], \"lon\": [-72.5936096590124, -72.6568284185362], \"marker\": {\"size\": 10}, \"mode\": \"markers+lines\", \"name\": \"Route28\", \"text\": [\"Enfield-28\", \"Suffield-27\"], \"textposition\": \"top center\", \"type\": \"scattermapbox\"}, {\"lat\": [41.9953633420842, 41.9982166854156], \"lon\": [-72.582220603192, -72.5936096590124], \"marker\": {\"size\": 10}, \"mode\": \"markers+lines\", \"name\": \"Route29\", \"text\": [\"Enfield-29\", \"Enfield-28\"], \"textposition\": \"top center\", \"type\": \"scattermapbox\"}, {\"lat\": [41.9904847334974, 41.9953633420842], \"lon\": [-72.5764313031922, -72.582220603192], \"marker\": {\"size\": 10}, \"mode\": \"markers+lines\", \"name\": \"Route30\", \"text\": [\"Enfield-30\", \"Enfield-29\"], \"textposition\": \"top center\", \"type\": \"scattermapbox\"}, {\"lat\": [41.7980615345505, 41.9904847334974], \"lon\": [-72.3688034032008, -72.5764313031922], \"marker\": {\"size\": 10}, \"mode\": \"markers+lines\", \"name\": \"Route31\", \"text\": [\"Coventry-31\", \"Enfield-30\"], \"textposition\": \"top center\", \"type\": \"scattermapbox\"}, {\"lat\": [41.6673744865115, 41.7980615345505], \"lon\": [-71.9143697897145, -72.3688034032008], \"marker\": {\"size\": 10}, \"mode\": \"markers+lines\", \"name\": \"Route32\", \"text\": [\"Plainfield-32\", \"Coventry-31\"], \"textposition\": \"top center\", \"type\": \"scattermapbox\"}, {\"lat\": [41.3527192139631, 41.6673744865115], \"lon\": [-71.9631962032207, -71.9143697897145], \"marker\": {\"size\": 10}, \"mode\": \"markers+lines\", \"name\": \"Route33\", \"text\": [\"Mystic -33\", \"Plainfield-32\"], \"textposition\": \"top center\", \"type\": \"scattermapbox\"}, {\"lat\": [41.4278446329939, 41.3527192139631], \"lon\": [-72.082831702046, -71.9631962032207], \"marker\": {\"size\": 10}, \"mode\": \"markers+lines\", \"name\": \"Route34\", \"text\": [\"Gales Ferry-34\", \"Mystic -33\"], \"textposition\": \"top center\", \"type\": \"scattermapbox\"}, {\"lat\": [41.2998247643997, 41.4278446329939], \"lon\": [-72.3763086167153, -72.082831702046], \"marker\": {\"size\": 10}, \"mode\": \"markers+lines\", \"name\": \"Route35\", \"text\": [\"Old Saybrook -35\", \"Gales Ferry-34\"], \"textposition\": \"top center\", \"type\": \"scattermapbox\"}, {\"lat\": [41.6027131915866, 41.2998247643997], \"lon\": [-72.6889224743737, -72.3763086167153], \"marker\": {\"size\": 10}, \"mode\": \"markers+lines\", \"name\": \"Route36\", \"text\": [\"Cromwell-36\", \"Old Saybrook -35\"], \"textposition\": \"top center\", \"type\": \"scattermapbox\"}, {\"lat\": [41.764289888527, 41.6027131915866], \"lon\": [-72.682499183992, -72.6889224743737], \"marker\": {\"size\": 10}, \"mode\": \"markers+lines\", \"name\": \"Route37\", \"text\": [\"Hartford-37\", \"Cromwell-36\"], \"textposition\": \"top center\", \"type\": \"scattermapbox\"}],\n",
              "                        {\"mapbox\": {\"center\": {\"lat\": 41.50435, \"lon\": -72.8587}, \"style\": \"carto-darkmatter\", \"zoom\": 8.15}, \"margin\": {\"b\": 0, \"l\": 0, \"r\": 0, \"t\": 0}, \"template\": {\"data\": {\"bar\": [{\"error_x\": {\"color\": \"#2a3f5f\"}, \"error_y\": {\"color\": \"#2a3f5f\"}, \"marker\": {\"line\": {\"color\": \"#E5ECF6\", \"width\": 0.5}}, \"type\": \"bar\"}], \"barpolar\": [{\"marker\": {\"line\": {\"color\": \"#E5ECF6\", \"width\": 0.5}}, \"type\": \"barpolar\"}], \"carpet\": [{\"aaxis\": {\"endlinecolor\": \"#2a3f5f\", \"gridcolor\": \"white\", \"linecolor\": \"white\", \"minorgridcolor\": \"white\", \"startlinecolor\": \"#2a3f5f\"}, \"baxis\": {\"endlinecolor\": \"#2a3f5f\", \"gridcolor\": \"white\", \"linecolor\": \"white\", \"minorgridcolor\": \"white\", \"startlinecolor\": \"#2a3f5f\"}, \"type\": \"carpet\"}], \"choropleth\": [{\"colorbar\": {\"outlinewidth\": 0, \"ticks\": \"\"}, \"type\": \"choropleth\"}], \"contour\": [{\"colorbar\": {\"outlinewidth\": 0, \"ticks\": \"\"}, \"colorscale\": [[0.0, \"#0d0887\"], [0.1111111111111111, \"#46039f\"], [0.2222222222222222, \"#7201a8\"], [0.3333333333333333, \"#9c179e\"], [0.4444444444444444, \"#bd3786\"], [0.5555555555555556, \"#d8576b\"], [0.6666666666666666, \"#ed7953\"], [0.7777777777777778, \"#fb9f3a\"], [0.8888888888888888, \"#fdca26\"], [1.0, \"#f0f921\"]], \"type\": \"contour\"}], \"contourcarpet\": [{\"colorbar\": {\"outlinewidth\": 0, \"ticks\": \"\"}, \"type\": \"contourcarpet\"}], \"heatmap\": [{\"colorbar\": {\"outlinewidth\": 0, \"ticks\": \"\"}, \"colorscale\": [[0.0, \"#0d0887\"], [0.1111111111111111, \"#46039f\"], [0.2222222222222222, \"#7201a8\"], [0.3333333333333333, \"#9c179e\"], [0.4444444444444444, \"#bd3786\"], [0.5555555555555556, \"#d8576b\"], [0.6666666666666666, \"#ed7953\"], [0.7777777777777778, \"#fb9f3a\"], [0.8888888888888888, \"#fdca26\"], [1.0, \"#f0f921\"]], \"type\": \"heatmap\"}], \"heatmapgl\": [{\"colorbar\": {\"outlinewidth\": 0, \"ticks\": \"\"}, \"colorscale\": [[0.0, \"#0d0887\"], [0.1111111111111111, \"#46039f\"], [0.2222222222222222, \"#7201a8\"], [0.3333333333333333, \"#9c179e\"], [0.4444444444444444, \"#bd3786\"], [0.5555555555555556, \"#d8576b\"], [0.6666666666666666, \"#ed7953\"], [0.7777777777777778, \"#fb9f3a\"], [0.8888888888888888, \"#fdca26\"], [1.0, \"#f0f921\"]], \"type\": \"heatmapgl\"}], \"histogram\": [{\"marker\": {\"colorbar\": {\"outlinewidth\": 0, \"ticks\": \"\"}}, \"type\": \"histogram\"}], \"histogram2d\": [{\"colorbar\": {\"outlinewidth\": 0, \"ticks\": \"\"}, \"colorscale\": [[0.0, \"#0d0887\"], [0.1111111111111111, \"#46039f\"], [0.2222222222222222, \"#7201a8\"], [0.3333333333333333, \"#9c179e\"], [0.4444444444444444, \"#bd3786\"], [0.5555555555555556, \"#d8576b\"], [0.6666666666666666, \"#ed7953\"], [0.7777777777777778, \"#fb9f3a\"], [0.8888888888888888, \"#fdca26\"], [1.0, \"#f0f921\"]], \"type\": \"histogram2d\"}], \"histogram2dcontour\": [{\"colorbar\": {\"outlinewidth\": 0, \"ticks\": \"\"}, \"colorscale\": [[0.0, \"#0d0887\"], [0.1111111111111111, \"#46039f\"], [0.2222222222222222, \"#7201a8\"], [0.3333333333333333, \"#9c179e\"], [0.4444444444444444, \"#bd3786\"], [0.5555555555555556, \"#d8576b\"], [0.6666666666666666, \"#ed7953\"], [0.7777777777777778, \"#fb9f3a\"], [0.8888888888888888, \"#fdca26\"], [1.0, \"#f0f921\"]], \"type\": \"histogram2dcontour\"}], \"mesh3d\": [{\"colorbar\": {\"outlinewidth\": 0, \"ticks\": \"\"}, \"type\": \"mesh3d\"}], \"parcoords\": [{\"line\": {\"colorbar\": {\"outlinewidth\": 0, \"ticks\": \"\"}}, \"type\": \"parcoords\"}], \"pie\": [{\"automargin\": true, \"type\": \"pie\"}], \"scatter\": [{\"marker\": {\"colorbar\": {\"outlinewidth\": 0, \"ticks\": \"\"}}, \"type\": \"scatter\"}], \"scatter3d\": [{\"line\": {\"colorbar\": {\"outlinewidth\": 0, \"ticks\": \"\"}}, \"marker\": {\"colorbar\": {\"outlinewidth\": 0, \"ticks\": \"\"}}, \"type\": \"scatter3d\"}], \"scattercarpet\": [{\"marker\": {\"colorbar\": {\"outlinewidth\": 0, \"ticks\": \"\"}}, \"type\": \"scattercarpet\"}], \"scattergeo\": [{\"marker\": {\"colorbar\": {\"outlinewidth\": 0, \"ticks\": \"\"}}, \"type\": \"scattergeo\"}], \"scattergl\": [{\"marker\": {\"colorbar\": {\"outlinewidth\": 0, \"ticks\": \"\"}}, \"type\": \"scattergl\"}], \"scattermapbox\": [{\"marker\": {\"colorbar\": {\"outlinewidth\": 0, \"ticks\": \"\"}}, \"type\": \"scattermapbox\"}], \"scatterpolar\": [{\"marker\": {\"colorbar\": {\"outlinewidth\": 0, \"ticks\": \"\"}}, \"type\": \"scatterpolar\"}], \"scatterpolargl\": [{\"marker\": {\"colorbar\": {\"outlinewidth\": 0, \"ticks\": \"\"}}, \"type\": \"scatterpolargl\"}], \"scatterternary\": [{\"marker\": {\"colorbar\": {\"outlinewidth\": 0, \"ticks\": \"\"}}, \"type\": \"scatterternary\"}], \"surface\": [{\"colorbar\": {\"outlinewidth\": 0, \"ticks\": \"\"}, \"colorscale\": [[0.0, \"#0d0887\"], [0.1111111111111111, \"#46039f\"], [0.2222222222222222, \"#7201a8\"], [0.3333333333333333, \"#9c179e\"], [0.4444444444444444, \"#bd3786\"], [0.5555555555555556, \"#d8576b\"], [0.6666666666666666, \"#ed7953\"], [0.7777777777777778, \"#fb9f3a\"], [0.8888888888888888, \"#fdca26\"], [1.0, \"#f0f921\"]], \"type\": \"surface\"}], \"table\": [{\"cells\": {\"fill\": {\"color\": \"#EBF0F8\"}, \"line\": {\"color\": \"white\"}}, \"header\": {\"fill\": {\"color\": \"#C8D4E3\"}, \"line\": {\"color\": \"white\"}}, \"type\": \"table\"}]}, \"layout\": {\"annotationdefaults\": {\"arrowcolor\": \"#2a3f5f\", \"arrowhead\": 0, \"arrowwidth\": 1}, \"coloraxis\": {\"colorbar\": {\"outlinewidth\": 0, \"ticks\": \"\"}}, \"colorscale\": {\"diverging\": [[0, \"#8e0152\"], [0.1, \"#c51b7d\"], [0.2, \"#de77ae\"], [0.3, \"#f1b6da\"], [0.4, \"#fde0ef\"], [0.5, \"#f7f7f7\"], [0.6, \"#e6f5d0\"], [0.7, \"#b8e186\"], [0.8, \"#7fbc41\"], [0.9, \"#4d9221\"], [1, \"#276419\"]], \"sequential\": [[0.0, \"#0d0887\"], [0.1111111111111111, \"#46039f\"], [0.2222222222222222, \"#7201a8\"], [0.3333333333333333, \"#9c179e\"], [0.4444444444444444, \"#bd3786\"], [0.5555555555555556, \"#d8576b\"], [0.6666666666666666, \"#ed7953\"], [0.7777777777777778, \"#fb9f3a\"], [0.8888888888888888, \"#fdca26\"], [1.0, \"#f0f921\"]], \"sequentialminus\": [[0.0, \"#0d0887\"], [0.1111111111111111, \"#46039f\"], [0.2222222222222222, \"#7201a8\"], [0.3333333333333333, \"#9c179e\"], [0.4444444444444444, \"#bd3786\"], [0.5555555555555556, \"#d8576b\"], [0.6666666666666666, \"#ed7953\"], [0.7777777777777778, \"#fb9f3a\"], [0.8888888888888888, \"#fdca26\"], [1.0, \"#f0f921\"]]}, \"colorway\": [\"#636efa\", \"#EF553B\", \"#00cc96\", \"#ab63fa\", \"#FFA15A\", \"#19d3f3\", \"#FF6692\", \"#B6E880\", \"#FF97FF\", \"#FECB52\"], \"font\": {\"color\": \"#2a3f5f\"}, \"geo\": {\"bgcolor\": \"white\", \"lakecolor\": \"white\", \"landcolor\": \"#E5ECF6\", \"showlakes\": true, \"showland\": true, \"subunitcolor\": \"white\"}, \"hoverlabel\": {\"align\": \"left\"}, \"hovermode\": \"closest\", \"mapbox\": {\"style\": \"light\"}, \"paper_bgcolor\": \"white\", \"plot_bgcolor\": \"#E5ECF6\", \"polar\": {\"angularaxis\": {\"gridcolor\": \"white\", \"linecolor\": \"white\", \"ticks\": \"\"}, \"bgcolor\": \"#E5ECF6\", \"radialaxis\": {\"gridcolor\": \"white\", \"linecolor\": \"white\", \"ticks\": \"\"}}, \"scene\": {\"xaxis\": {\"backgroundcolor\": \"#E5ECF6\", \"gridcolor\": \"white\", \"gridwidth\": 2, \"linecolor\": \"white\", \"showbackground\": true, \"ticks\": \"\", \"zerolinecolor\": \"white\"}, \"yaxis\": {\"backgroundcolor\": \"#E5ECF6\", \"gridcolor\": \"white\", \"gridwidth\": 2, \"linecolor\": \"white\", \"showbackground\": true, \"ticks\": \"\", \"zerolinecolor\": \"white\"}, \"zaxis\": {\"backgroundcolor\": \"#E5ECF6\", \"gridcolor\": \"white\", \"gridwidth\": 2, \"linecolor\": \"white\", \"showbackground\": true, \"ticks\": \"\", \"zerolinecolor\": \"white\"}}, \"shapedefaults\": {\"line\": {\"color\": \"#2a3f5f\"}}, \"ternary\": {\"aaxis\": {\"gridcolor\": \"white\", \"linecolor\": \"white\", \"ticks\": \"\"}, \"baxis\": {\"gridcolor\": \"white\", \"linecolor\": \"white\", \"ticks\": \"\"}, \"bgcolor\": \"#E5ECF6\", \"caxis\": {\"gridcolor\": \"white\", \"linecolor\": \"white\", \"ticks\": \"\"}}, \"title\": {\"x\": 0.05}, \"xaxis\": {\"automargin\": true, \"gridcolor\": \"white\", \"linecolor\": \"white\", \"ticks\": \"\", \"title\": {\"standoff\": 15}, \"zerolinecolor\": \"white\", \"zerolinewidth\": 2}, \"yaxis\": {\"automargin\": true, \"gridcolor\": \"white\", \"linecolor\": \"white\", \"ticks\": \"\", \"title\": {\"standoff\": 15}, \"zerolinecolor\": \"white\", \"zerolinewidth\": 2}}}, \"title\": {\"text\": \"TRAVELING SALESMAN ROUTE\"}},\n",
              "                        {\"scrollZoom\": false, \"responsive\": true}\n",
              "                    ).then(function(){\n",
              "                            \n",
              "var gd = document.getElementById('b4ae0c50-00aa-434b-ad77-95206bb585c0');\n",
              "var x = new MutationObserver(function (mutations, observer) {{\n",
              "        var display = window.getComputedStyle(gd).display;\n",
              "        if (!display || display === 'none') {{\n",
              "            console.log([gd, 'removed!']);\n",
              "            Plotly.purge(gd);\n",
              "            observer.disconnect();\n",
              "        }}\n",
              "}});\n",
              "\n",
              "// Listen for the removal of the full notebook cells\n",
              "var notebookContainer = gd.closest('#notebook-container');\n",
              "if (notebookContainer) {{\n",
              "    x.observe(notebookContainer, {childList: true});\n",
              "}}\n",
              "\n",
              "// Listen for the clearing of the current output cell\n",
              "var outputEl = gd.closest('.output');\n",
              "if (outputEl) {{\n",
              "    x.observe(outputEl, {childList: true});\n",
              "}}\n",
              "\n",
              "                        })\n",
              "                };\n",
              "                \n",
              "            </script>\n",
              "        </div>\n",
              "</body>\n",
              "</html>"
            ]
          },
          "metadata": {
            "tags": []
          }
        },
        {
          "output_type": "stream",
          "text": [
            "time: 724 ms (started: 2021-04-20 00:28:54 +00:00)\n"
          ],
          "name": "stdout"
        }
      ]
    },
    {
      "cell_type": "code",
      "metadata": {
        "colab": {
          "base_uri": "https://localhost:8080/",
          "height": 558
        },
        "id": "btg847D0iHDD",
        "outputId": "fd8364a9-65f8-4343-83c5-2a4cf4266d73"
      },
      "source": [
        "fig = go.Figure(go.Scattermapbox(\n",
        "    mode = \"markers+lines\",\n",
        "    lon = geogTable_orig2['Lon'], #longitude\n",
        "    lat = geogTable_orig2['Lat'], #latitude\n",
        "    name=\"Traveling Salesman\", \n",
        "    hovertext=geogTable_orig2['City'], #town name\n",
        "    marker = {'size': 10}),\n",
        "    layout=go.Layout(\n",
        "        hovermode=\"closest\",\n",
        "        updatemenus=[dict(type=\"buttons\",\n",
        "                          buttons=[dict(label=\"Play\",\n",
        "                                        method=\"animate\",\n",
        "                                        args=[None])])]),\n",
        "        frames=[go.Frame(\n",
        "        data=[go.Scattermapbox(\n",
        "            lat=[geogTable_orig2.iloc[k,1]],\n",
        "            lon=[geogTable_orig2.iloc[k,2]],\n",
        "            mode=\"markers\",\n",
        "            marker=dict(color=\"red\", size=10))])\n",
        "\n",
        "        for k in range(len(geogTable_orig2))]\n",
        ")\n",
        "fig.add_trace(go.Scattermapbox(\n",
        "    mode = \"markers+lines\",\n",
        "    lon = geogTable_orig2['Lon'], #longitude\n",
        "    lat = geogTable_orig2['Lat'], #latitude\n",
        "    name=\"Main Route\", \n",
        "    hovertext=geogTable_orig2['City'], #town name\n",
        "    marker=dict(color=\"blue\", size=5)))\n",
        "\n",
        "  \n",
        "fig.update_layout(mapbox_style=\"carto-darkmatter\", mapbox_zoom=8,  mapbox_center_lat = 41.50435,mapbox_center_lon = -72.8587,\n",
        "    margin={\"r\":0,\"t\":0,\"l\":0,\"b\":0},title=\"TRAVELING SALESMAN ROUTE\")\n",
        "config = dict({'scrollZoom': False})\n",
        "fig.show(config=config)"
      ],
      "execution_count": 611,
      "outputs": [
        {
          "output_type": "display_data",
          "data": {
            "text/html": [
              "<html>\n",
              "<head><meta charset=\"utf-8\" /></head>\n",
              "<body>\n",
              "    <div>\n",
              "            <script src=\"https://cdnjs.cloudflare.com/ajax/libs/mathjax/2.7.5/MathJax.js?config=TeX-AMS-MML_SVG\"></script><script type=\"text/javascript\">if (window.MathJax) {MathJax.Hub.Config({SVG: {font: \"STIX-Web\"}});}</script>\n",
              "                <script type=\"text/javascript\">window.PlotlyConfig = {MathJaxConfig: 'local'};</script>\n",
              "        <script src=\"https://cdn.plot.ly/plotly-latest.min.js\"></script>    \n",
              "            <div id=\"18f11cd8-9822-402a-8d51-3859385409bc\" class=\"plotly-graph-div\" style=\"height:525px; width:100%;\"></div>\n",
              "            <script type=\"text/javascript\">\n",
              "                \n",
              "                    window.PLOTLYENV=window.PLOTLYENV || {};\n",
              "                    \n",
              "                if (document.getElementById(\"18f11cd8-9822-402a-8d51-3859385409bc\")) {\n",
              "                    Plotly.newPlot(\n",
              "                        '18f11cd8-9822-402a-8d51-3859385409bc',\n",
              "                        [{\"hovertext\": [\"Hartford\", \"New Britain\", \"New Britain\", \"New Britain\", \"Waterbury\", \"Waterbury\", \"New Haven\", \"New Haven\", \"New Haven\", \"East Haven\", \"Branford\", \"East Haven\", \"Orange\", \"Orange\", \"Shelton\", \"Norwalk\", \"Norwalk\", \"Norwalk\", \"Norwalk\", \"Bethel \", \"Bethel \", \"Naugatuck \", \"Waterbury\", \"Waterbury\", \"Waterbury\", \"Burlington\", \"Granby\", \"Suffield\", \"Enfield\", \"Enfield\", \"Enfield\", \"Coventry\", \"Plainfield\", \"Mystic \", \"Gales Ferry\", \"Old Saybrook \", \"Cromwell\", \"Hartford\"], \"lat\": [41.764289888527, 41.7111247364647, 41.6666648767678, 41.6674142621264, 41.5521614901779, 41.5391047602487, 41.3291713941692, 41.3162769832612, 41.3063117459586, 41.3216517174151, 41.2752069405999, 41.2804548194501, 41.2810488305456, 41.2676558768689, 41.2761866736857, 41.1277695785016, 41.1153022539571, 41.1026194238766, 41.1368152698305, 41.3735674146904, 41.4146476376325, 41.501944381666, 41.5516292887622, 41.5833165571109, 41.5782163936639, 41.7710899857772, 41.9524391135402, 41.9831328097653, 41.9982166854156, 41.9953633420842, 41.9904847334974, 41.7980615345505, 41.6673744865115, 41.3527192139631, 41.4278446329939, 41.2998247643997, 41.6027131915866, 41.764289888527], \"lon\": [-72.682499183992, -72.7629790032047, -72.7766643455349, -72.805806387863, -73.0009827608837, -72.9977074878687, -72.9683717878781, -72.9395912455504, -72.9252293302072, -72.8519923339094, -72.8291813185678, -72.8754200320598, -72.987924545552, -73.0016476878808, -73.1247672185678, -73.3880707455588, -73.4154673455593, -73.4349253320676, -73.4252955032302, -73.4147982032198, -73.4019981032179, -73.0530068032141, -73.0639124608836, -73.0337020032104, -73.0271913608825, -72.9701388436788, -72.7860561166862, -72.6568284185362, -72.5936096590124, -72.582220603192, -72.5764313031922, -72.3688034032008, -71.9143697897145, -71.9631962032207, -72.082831702046, -72.3763086167153, -72.6889224743737, -72.682499183992], \"marker\": {\"size\": 10}, \"mode\": \"markers+lines\", \"name\": \"Traveling Salesman\", \"type\": \"scattermapbox\"}, {\"hovertext\": [\"Hartford\", \"New Britain\", \"New Britain\", \"New Britain\", \"Waterbury\", \"Waterbury\", \"New Haven\", \"New Haven\", \"New Haven\", \"East Haven\", \"Branford\", \"East Haven\", \"Orange\", \"Orange\", \"Shelton\", \"Norwalk\", \"Norwalk\", \"Norwalk\", \"Norwalk\", \"Bethel \", \"Bethel \", \"Naugatuck \", \"Waterbury\", \"Waterbury\", \"Waterbury\", \"Burlington\", \"Granby\", \"Suffield\", \"Enfield\", \"Enfield\", \"Enfield\", \"Coventry\", \"Plainfield\", \"Mystic \", \"Gales Ferry\", \"Old Saybrook \", \"Cromwell\", \"Hartford\"], \"lat\": [41.764289888527, 41.7111247364647, 41.6666648767678, 41.6674142621264, 41.5521614901779, 41.5391047602487, 41.3291713941692, 41.3162769832612, 41.3063117459586, 41.3216517174151, 41.2752069405999, 41.2804548194501, 41.2810488305456, 41.2676558768689, 41.2761866736857, 41.1277695785016, 41.1153022539571, 41.1026194238766, 41.1368152698305, 41.3735674146904, 41.4146476376325, 41.501944381666, 41.5516292887622, 41.5833165571109, 41.5782163936639, 41.7710899857772, 41.9524391135402, 41.9831328097653, 41.9982166854156, 41.9953633420842, 41.9904847334974, 41.7980615345505, 41.6673744865115, 41.3527192139631, 41.4278446329939, 41.2998247643997, 41.6027131915866, 41.764289888527], \"lon\": [-72.682499183992, -72.7629790032047, -72.7766643455349, -72.805806387863, -73.0009827608837, -72.9977074878687, -72.9683717878781, -72.9395912455504, -72.9252293302072, -72.8519923339094, -72.8291813185678, -72.8754200320598, -72.987924545552, -73.0016476878808, -73.1247672185678, -73.3880707455588, -73.4154673455593, -73.4349253320676, -73.4252955032302, -73.4147982032198, -73.4019981032179, -73.0530068032141, -73.0639124608836, -73.0337020032104, -73.0271913608825, -72.9701388436788, -72.7860561166862, -72.6568284185362, -72.5936096590124, -72.582220603192, -72.5764313031922, -72.3688034032008, -71.9143697897145, -71.9631962032207, -72.082831702046, -72.3763086167153, -72.6889224743737, -72.682499183992], \"marker\": {\"color\": \"blue\", \"size\": 5}, \"mode\": \"markers+lines\", \"name\": \"Main Route\", \"type\": \"scattermapbox\"}],\n",
              "                        {\"hovermode\": \"closest\", \"mapbox\": {\"center\": {\"lat\": 41.50435, \"lon\": -72.8587}, \"style\": \"carto-darkmatter\", \"zoom\": 8}, \"margin\": {\"b\": 0, \"l\": 0, \"r\": 0, \"t\": 0}, \"template\": {\"data\": {\"bar\": [{\"error_x\": {\"color\": \"#2a3f5f\"}, \"error_y\": {\"color\": \"#2a3f5f\"}, \"marker\": {\"line\": {\"color\": \"#E5ECF6\", \"width\": 0.5}}, \"type\": \"bar\"}], \"barpolar\": [{\"marker\": {\"line\": {\"color\": \"#E5ECF6\", \"width\": 0.5}}, \"type\": \"barpolar\"}], \"carpet\": [{\"aaxis\": {\"endlinecolor\": \"#2a3f5f\", \"gridcolor\": \"white\", \"linecolor\": \"white\", \"minorgridcolor\": \"white\", \"startlinecolor\": \"#2a3f5f\"}, \"baxis\": {\"endlinecolor\": \"#2a3f5f\", \"gridcolor\": \"white\", \"linecolor\": \"white\", \"minorgridcolor\": \"white\", \"startlinecolor\": \"#2a3f5f\"}, \"type\": \"carpet\"}], \"choropleth\": [{\"colorbar\": {\"outlinewidth\": 0, \"ticks\": \"\"}, \"type\": \"choropleth\"}], \"contour\": [{\"colorbar\": {\"outlinewidth\": 0, \"ticks\": \"\"}, \"colorscale\": [[0.0, \"#0d0887\"], [0.1111111111111111, \"#46039f\"], [0.2222222222222222, \"#7201a8\"], [0.3333333333333333, \"#9c179e\"], [0.4444444444444444, \"#bd3786\"], [0.5555555555555556, \"#d8576b\"], [0.6666666666666666, \"#ed7953\"], [0.7777777777777778, \"#fb9f3a\"], [0.8888888888888888, \"#fdca26\"], [1.0, \"#f0f921\"]], \"type\": \"contour\"}], \"contourcarpet\": [{\"colorbar\": {\"outlinewidth\": 0, \"ticks\": \"\"}, \"type\": \"contourcarpet\"}], \"heatmap\": [{\"colorbar\": {\"outlinewidth\": 0, \"ticks\": \"\"}, \"colorscale\": [[0.0, \"#0d0887\"], [0.1111111111111111, \"#46039f\"], [0.2222222222222222, \"#7201a8\"], [0.3333333333333333, \"#9c179e\"], [0.4444444444444444, \"#bd3786\"], [0.5555555555555556, \"#d8576b\"], [0.6666666666666666, \"#ed7953\"], [0.7777777777777778, \"#fb9f3a\"], [0.8888888888888888, \"#fdca26\"], [1.0, \"#f0f921\"]], \"type\": \"heatmap\"}], \"heatmapgl\": [{\"colorbar\": {\"outlinewidth\": 0, \"ticks\": \"\"}, \"colorscale\": [[0.0, \"#0d0887\"], [0.1111111111111111, \"#46039f\"], [0.2222222222222222, \"#7201a8\"], [0.3333333333333333, \"#9c179e\"], [0.4444444444444444, \"#bd3786\"], [0.5555555555555556, \"#d8576b\"], [0.6666666666666666, \"#ed7953\"], [0.7777777777777778, \"#fb9f3a\"], [0.8888888888888888, \"#fdca26\"], [1.0, \"#f0f921\"]], \"type\": \"heatmapgl\"}], \"histogram\": [{\"marker\": {\"colorbar\": {\"outlinewidth\": 0, \"ticks\": \"\"}}, \"type\": \"histogram\"}], \"histogram2d\": [{\"colorbar\": {\"outlinewidth\": 0, \"ticks\": \"\"}, \"colorscale\": [[0.0, \"#0d0887\"], [0.1111111111111111, \"#46039f\"], [0.2222222222222222, \"#7201a8\"], [0.3333333333333333, \"#9c179e\"], [0.4444444444444444, \"#bd3786\"], [0.5555555555555556, \"#d8576b\"], [0.6666666666666666, \"#ed7953\"], [0.7777777777777778, \"#fb9f3a\"], [0.8888888888888888, \"#fdca26\"], [1.0, \"#f0f921\"]], \"type\": \"histogram2d\"}], \"histogram2dcontour\": [{\"colorbar\": {\"outlinewidth\": 0, \"ticks\": \"\"}, \"colorscale\": [[0.0, \"#0d0887\"], [0.1111111111111111, \"#46039f\"], [0.2222222222222222, \"#7201a8\"], [0.3333333333333333, \"#9c179e\"], [0.4444444444444444, \"#bd3786\"], [0.5555555555555556, \"#d8576b\"], [0.6666666666666666, \"#ed7953\"], [0.7777777777777778, \"#fb9f3a\"], [0.8888888888888888, \"#fdca26\"], [1.0, \"#f0f921\"]], \"type\": \"histogram2dcontour\"}], \"mesh3d\": [{\"colorbar\": {\"outlinewidth\": 0, \"ticks\": \"\"}, \"type\": \"mesh3d\"}], \"parcoords\": [{\"line\": {\"colorbar\": {\"outlinewidth\": 0, \"ticks\": \"\"}}, \"type\": \"parcoords\"}], \"pie\": [{\"automargin\": true, \"type\": \"pie\"}], \"scatter\": [{\"marker\": {\"colorbar\": {\"outlinewidth\": 0, \"ticks\": \"\"}}, \"type\": \"scatter\"}], \"scatter3d\": [{\"line\": {\"colorbar\": {\"outlinewidth\": 0, \"ticks\": \"\"}}, \"marker\": {\"colorbar\": {\"outlinewidth\": 0, \"ticks\": \"\"}}, \"type\": \"scatter3d\"}], \"scattercarpet\": [{\"marker\": {\"colorbar\": {\"outlinewidth\": 0, \"ticks\": \"\"}}, \"type\": \"scattercarpet\"}], \"scattergeo\": [{\"marker\": {\"colorbar\": {\"outlinewidth\": 0, \"ticks\": \"\"}}, \"type\": \"scattergeo\"}], \"scattergl\": [{\"marker\": {\"colorbar\": {\"outlinewidth\": 0, \"ticks\": \"\"}}, \"type\": \"scattergl\"}], \"scattermapbox\": [{\"marker\": {\"colorbar\": {\"outlinewidth\": 0, \"ticks\": \"\"}}, \"type\": \"scattermapbox\"}], \"scatterpolar\": [{\"marker\": {\"colorbar\": {\"outlinewidth\": 0, \"ticks\": \"\"}}, \"type\": \"scatterpolar\"}], \"scatterpolargl\": [{\"marker\": {\"colorbar\": {\"outlinewidth\": 0, \"ticks\": \"\"}}, \"type\": \"scatterpolargl\"}], \"scatterternary\": [{\"marker\": {\"colorbar\": {\"outlinewidth\": 0, \"ticks\": \"\"}}, \"type\": \"scatterternary\"}], \"surface\": [{\"colorbar\": {\"outlinewidth\": 0, \"ticks\": \"\"}, \"colorscale\": [[0.0, \"#0d0887\"], [0.1111111111111111, \"#46039f\"], [0.2222222222222222, \"#7201a8\"], [0.3333333333333333, \"#9c179e\"], [0.4444444444444444, \"#bd3786\"], [0.5555555555555556, \"#d8576b\"], [0.6666666666666666, \"#ed7953\"], [0.7777777777777778, \"#fb9f3a\"], [0.8888888888888888, \"#fdca26\"], [1.0, \"#f0f921\"]], \"type\": \"surface\"}], \"table\": [{\"cells\": {\"fill\": {\"color\": \"#EBF0F8\"}, \"line\": {\"color\": \"white\"}}, \"header\": {\"fill\": {\"color\": \"#C8D4E3\"}, \"line\": {\"color\": \"white\"}}, \"type\": \"table\"}]}, \"layout\": {\"annotationdefaults\": {\"arrowcolor\": \"#2a3f5f\", \"arrowhead\": 0, \"arrowwidth\": 1}, \"coloraxis\": {\"colorbar\": {\"outlinewidth\": 0, \"ticks\": \"\"}}, \"colorscale\": {\"diverging\": [[0, \"#8e0152\"], [0.1, \"#c51b7d\"], [0.2, \"#de77ae\"], [0.3, \"#f1b6da\"], [0.4, \"#fde0ef\"], [0.5, \"#f7f7f7\"], [0.6, \"#e6f5d0\"], [0.7, \"#b8e186\"], [0.8, \"#7fbc41\"], [0.9, \"#4d9221\"], [1, \"#276419\"]], \"sequential\": [[0.0, \"#0d0887\"], [0.1111111111111111, \"#46039f\"], [0.2222222222222222, \"#7201a8\"], [0.3333333333333333, \"#9c179e\"], [0.4444444444444444, \"#bd3786\"], [0.5555555555555556, \"#d8576b\"], [0.6666666666666666, \"#ed7953\"], [0.7777777777777778, \"#fb9f3a\"], [0.8888888888888888, \"#fdca26\"], [1.0, \"#f0f921\"]], \"sequentialminus\": [[0.0, \"#0d0887\"], [0.1111111111111111, \"#46039f\"], [0.2222222222222222, \"#7201a8\"], [0.3333333333333333, \"#9c179e\"], [0.4444444444444444, \"#bd3786\"], [0.5555555555555556, \"#d8576b\"], [0.6666666666666666, \"#ed7953\"], [0.7777777777777778, \"#fb9f3a\"], [0.8888888888888888, \"#fdca26\"], [1.0, \"#f0f921\"]]}, \"colorway\": [\"#636efa\", \"#EF553B\", \"#00cc96\", \"#ab63fa\", \"#FFA15A\", \"#19d3f3\", \"#FF6692\", \"#B6E880\", \"#FF97FF\", \"#FECB52\"], \"font\": {\"color\": \"#2a3f5f\"}, \"geo\": {\"bgcolor\": \"white\", \"lakecolor\": \"white\", \"landcolor\": \"#E5ECF6\", \"showlakes\": true, \"showland\": true, \"subunitcolor\": \"white\"}, \"hoverlabel\": {\"align\": \"left\"}, \"hovermode\": \"closest\", \"mapbox\": {\"style\": \"light\"}, \"paper_bgcolor\": \"white\", \"plot_bgcolor\": \"#E5ECF6\", \"polar\": {\"angularaxis\": {\"gridcolor\": \"white\", \"linecolor\": \"white\", \"ticks\": \"\"}, \"bgcolor\": \"#E5ECF6\", \"radialaxis\": {\"gridcolor\": \"white\", \"linecolor\": \"white\", \"ticks\": \"\"}}, \"scene\": {\"xaxis\": {\"backgroundcolor\": \"#E5ECF6\", \"gridcolor\": \"white\", \"gridwidth\": 2, \"linecolor\": \"white\", \"showbackground\": true, \"ticks\": \"\", \"zerolinecolor\": \"white\"}, \"yaxis\": {\"backgroundcolor\": \"#E5ECF6\", \"gridcolor\": \"white\", \"gridwidth\": 2, \"linecolor\": \"white\", \"showbackground\": true, \"ticks\": \"\", \"zerolinecolor\": \"white\"}, \"zaxis\": {\"backgroundcolor\": \"#E5ECF6\", \"gridcolor\": \"white\", \"gridwidth\": 2, \"linecolor\": \"white\", \"showbackground\": true, \"ticks\": \"\", \"zerolinecolor\": \"white\"}}, \"shapedefaults\": {\"line\": {\"color\": \"#2a3f5f\"}}, \"ternary\": {\"aaxis\": {\"gridcolor\": \"white\", \"linecolor\": \"white\", \"ticks\": \"\"}, \"baxis\": {\"gridcolor\": \"white\", \"linecolor\": \"white\", \"ticks\": \"\"}, \"bgcolor\": \"#E5ECF6\", \"caxis\": {\"gridcolor\": \"white\", \"linecolor\": \"white\", \"ticks\": \"\"}}, \"title\": {\"x\": 0.05}, \"xaxis\": {\"automargin\": true, \"gridcolor\": \"white\", \"linecolor\": \"white\", \"ticks\": \"\", \"title\": {\"standoff\": 15}, \"zerolinecolor\": \"white\", \"zerolinewidth\": 2}, \"yaxis\": {\"automargin\": true, \"gridcolor\": \"white\", \"linecolor\": \"white\", \"ticks\": \"\", \"title\": {\"standoff\": 15}, \"zerolinecolor\": \"white\", \"zerolinewidth\": 2}}}, \"title\": {\"text\": \"TRAVELING SALESMAN ROUTE\"}, \"updatemenus\": [{\"buttons\": [{\"args\": [null], \"label\": \"Play\", \"method\": \"animate\"}], \"type\": \"buttons\"}]},\n",
              "                        {\"scrollZoom\": false, \"responsive\": true}\n",
              "                    ).then(function(){\n",
              "                            Plotly.addFrames('18f11cd8-9822-402a-8d51-3859385409bc', [{\"data\": [{\"lat\": [41.764289888527], \"lon\": [-72.682499183992], \"marker\": {\"color\": \"red\", \"size\": 10}, \"mode\": \"markers\", \"type\": \"scattermapbox\"}]}, {\"data\": [{\"lat\": [41.7111247364647], \"lon\": [-72.7629790032047], \"marker\": {\"color\": \"red\", \"size\": 10}, \"mode\": \"markers\", \"type\": \"scattermapbox\"}]}, {\"data\": [{\"lat\": [41.6666648767678], \"lon\": [-72.7766643455349], \"marker\": {\"color\": \"red\", \"size\": 10}, \"mode\": \"markers\", \"type\": \"scattermapbox\"}]}, {\"data\": [{\"lat\": [41.6674142621264], \"lon\": [-72.805806387863], \"marker\": {\"color\": \"red\", \"size\": 10}, \"mode\": \"markers\", \"type\": \"scattermapbox\"}]}, {\"data\": [{\"lat\": [41.5521614901779], \"lon\": [-73.0009827608837], \"marker\": {\"color\": \"red\", \"size\": 10}, \"mode\": \"markers\", \"type\": \"scattermapbox\"}]}, {\"data\": [{\"lat\": [41.5391047602487], \"lon\": [-72.9977074878687], \"marker\": {\"color\": \"red\", \"size\": 10}, \"mode\": \"markers\", \"type\": \"scattermapbox\"}]}, {\"data\": [{\"lat\": [41.3291713941692], \"lon\": [-72.9683717878781], \"marker\": {\"color\": \"red\", \"size\": 10}, \"mode\": \"markers\", \"type\": \"scattermapbox\"}]}, {\"data\": [{\"lat\": [41.3162769832612], \"lon\": [-72.9395912455504], \"marker\": {\"color\": \"red\", \"size\": 10}, \"mode\": \"markers\", \"type\": \"scattermapbox\"}]}, {\"data\": [{\"lat\": [41.3063117459586], \"lon\": [-72.9252293302072], \"marker\": {\"color\": \"red\", \"size\": 10}, \"mode\": \"markers\", \"type\": \"scattermapbox\"}]}, {\"data\": [{\"lat\": [41.3216517174151], \"lon\": [-72.8519923339094], \"marker\": {\"color\": \"red\", \"size\": 10}, \"mode\": \"markers\", \"type\": \"scattermapbox\"}]}, {\"data\": [{\"lat\": [41.2752069405999], \"lon\": [-72.8291813185678], \"marker\": {\"color\": \"red\", \"size\": 10}, \"mode\": \"markers\", \"type\": \"scattermapbox\"}]}, {\"data\": [{\"lat\": [41.2804548194501], \"lon\": [-72.8754200320598], \"marker\": {\"color\": \"red\", \"size\": 10}, \"mode\": \"markers\", \"type\": \"scattermapbox\"}]}, {\"data\": [{\"lat\": [41.2810488305456], \"lon\": [-72.987924545552], \"marker\": {\"color\": \"red\", \"size\": 10}, \"mode\": \"markers\", \"type\": \"scattermapbox\"}]}, {\"data\": [{\"lat\": [41.2676558768689], \"lon\": [-73.0016476878808], \"marker\": {\"color\": \"red\", \"size\": 10}, \"mode\": \"markers\", \"type\": \"scattermapbox\"}]}, {\"data\": [{\"lat\": [41.2761866736857], \"lon\": [-73.1247672185678], \"marker\": {\"color\": \"red\", \"size\": 10}, \"mode\": \"markers\", \"type\": \"scattermapbox\"}]}, {\"data\": [{\"lat\": [41.1277695785016], \"lon\": [-73.3880707455588], \"marker\": {\"color\": \"red\", \"size\": 10}, \"mode\": \"markers\", \"type\": \"scattermapbox\"}]}, {\"data\": [{\"lat\": [41.1153022539571], \"lon\": [-73.4154673455593], \"marker\": {\"color\": \"red\", \"size\": 10}, \"mode\": \"markers\", \"type\": \"scattermapbox\"}]}, {\"data\": [{\"lat\": [41.1026194238766], \"lon\": [-73.4349253320676], \"marker\": {\"color\": \"red\", \"size\": 10}, \"mode\": \"markers\", \"type\": \"scattermapbox\"}]}, {\"data\": [{\"lat\": [41.1368152698305], \"lon\": [-73.4252955032302], \"marker\": {\"color\": \"red\", \"size\": 10}, \"mode\": \"markers\", \"type\": \"scattermapbox\"}]}, {\"data\": [{\"lat\": [41.3735674146904], \"lon\": [-73.4147982032198], \"marker\": {\"color\": \"red\", \"size\": 10}, \"mode\": \"markers\", \"type\": \"scattermapbox\"}]}, {\"data\": [{\"lat\": [41.4146476376325], \"lon\": [-73.4019981032179], \"marker\": {\"color\": \"red\", \"size\": 10}, \"mode\": \"markers\", \"type\": \"scattermapbox\"}]}, {\"data\": [{\"lat\": [41.501944381666], \"lon\": [-73.0530068032141], \"marker\": {\"color\": \"red\", \"size\": 10}, \"mode\": \"markers\", \"type\": \"scattermapbox\"}]}, {\"data\": [{\"lat\": [41.5516292887622], \"lon\": [-73.0639124608836], \"marker\": {\"color\": \"red\", \"size\": 10}, \"mode\": \"markers\", \"type\": \"scattermapbox\"}]}, {\"data\": [{\"lat\": [41.5833165571109], \"lon\": [-73.0337020032104], \"marker\": {\"color\": \"red\", \"size\": 10}, \"mode\": \"markers\", \"type\": \"scattermapbox\"}]}, {\"data\": [{\"lat\": [41.5782163936639], \"lon\": [-73.0271913608825], \"marker\": {\"color\": \"red\", \"size\": 10}, \"mode\": \"markers\", \"type\": \"scattermapbox\"}]}, {\"data\": [{\"lat\": [41.7710899857772], \"lon\": [-72.9701388436788], \"marker\": {\"color\": \"red\", \"size\": 10}, \"mode\": \"markers\", \"type\": \"scattermapbox\"}]}, {\"data\": [{\"lat\": [41.9524391135402], \"lon\": [-72.7860561166862], \"marker\": {\"color\": \"red\", \"size\": 10}, \"mode\": \"markers\", \"type\": \"scattermapbox\"}]}, {\"data\": [{\"lat\": [41.9831328097653], \"lon\": [-72.6568284185362], \"marker\": {\"color\": \"red\", \"size\": 10}, \"mode\": \"markers\", \"type\": \"scattermapbox\"}]}, {\"data\": [{\"lat\": [41.9982166854156], \"lon\": [-72.5936096590124], \"marker\": {\"color\": \"red\", \"size\": 10}, \"mode\": \"markers\", \"type\": \"scattermapbox\"}]}, {\"data\": [{\"lat\": [41.9953633420842], \"lon\": [-72.582220603192], \"marker\": {\"color\": \"red\", \"size\": 10}, \"mode\": \"markers\", \"type\": \"scattermapbox\"}]}, {\"data\": [{\"lat\": [41.9904847334974], \"lon\": [-72.5764313031922], \"marker\": {\"color\": \"red\", \"size\": 10}, \"mode\": \"markers\", \"type\": \"scattermapbox\"}]}, {\"data\": [{\"lat\": [41.7980615345505], \"lon\": [-72.3688034032008], \"marker\": {\"color\": \"red\", \"size\": 10}, \"mode\": \"markers\", \"type\": \"scattermapbox\"}]}, {\"data\": [{\"lat\": [41.6673744865115], \"lon\": [-71.9143697897145], \"marker\": {\"color\": \"red\", \"size\": 10}, \"mode\": \"markers\", \"type\": \"scattermapbox\"}]}, {\"data\": [{\"lat\": [41.3527192139631], \"lon\": [-71.9631962032207], \"marker\": {\"color\": \"red\", \"size\": 10}, \"mode\": \"markers\", \"type\": \"scattermapbox\"}]}, {\"data\": [{\"lat\": [41.4278446329939], \"lon\": [-72.082831702046], \"marker\": {\"color\": \"red\", \"size\": 10}, \"mode\": \"markers\", \"type\": \"scattermapbox\"}]}, {\"data\": [{\"lat\": [41.2998247643997], \"lon\": [-72.3763086167153], \"marker\": {\"color\": \"red\", \"size\": 10}, \"mode\": \"markers\", \"type\": \"scattermapbox\"}]}, {\"data\": [{\"lat\": [41.6027131915866], \"lon\": [-72.6889224743737], \"marker\": {\"color\": \"red\", \"size\": 10}, \"mode\": \"markers\", \"type\": \"scattermapbox\"}]}, {\"data\": [{\"lat\": [41.764289888527], \"lon\": [-72.682499183992], \"marker\": {\"color\": \"red\", \"size\": 10}, \"mode\": \"markers\", \"type\": \"scattermapbox\"}]}]);\n",
              "                        }).then(function(){\n",
              "                            \n",
              "var gd = document.getElementById('18f11cd8-9822-402a-8d51-3859385409bc');\n",
              "var x = new MutationObserver(function (mutations, observer) {{\n",
              "        var display = window.getComputedStyle(gd).display;\n",
              "        if (!display || display === 'none') {{\n",
              "            console.log([gd, 'removed!']);\n",
              "            Plotly.purge(gd);\n",
              "            observer.disconnect();\n",
              "        }}\n",
              "}});\n",
              "\n",
              "// Listen for the removal of the full notebook cells\n",
              "var notebookContainer = gd.closest('#notebook-container');\n",
              "if (notebookContainer) {{\n",
              "    x.observe(notebookContainer, {childList: true});\n",
              "}}\n",
              "\n",
              "// Listen for the clearing of the current output cell\n",
              "var outputEl = gd.closest('.output');\n",
              "if (outputEl) {{\n",
              "    x.observe(outputEl, {childList: true});\n",
              "}}\n",
              "\n",
              "                        })\n",
              "                };\n",
              "                \n",
              "            </script>\n",
              "        </div>\n",
              "</body>\n",
              "</html>"
            ]
          },
          "metadata": {
            "tags": []
          }
        },
        {
          "output_type": "stream",
          "text": [
            "time: 2.93 s (started: 2021-04-20 00:28:55 +00:00)\n"
          ],
          "name": "stdout"
        }
      ]
    },
    {
      "cell_type": "markdown",
      "metadata": {
        "id": "iJnTiyCYkwT5"
      },
      "source": [
        "#### Scenario 3: Try a different local search option"
      ]
    },
    {
      "cell_type": "code",
      "metadata": {
        "colab": {
          "base_uri": "https://localhost:8080/"
        },
        "id": "bIHfUtBAk9yi",
        "outputId": "49f12e14-b6dd-4753-8090-cbdd1f3f2b92"
      },
      "source": [
        "search_parameters = pywrapcp.DefaultRoutingSearchParameters()\n",
        "search_parameters.local_search_metaheuristic = (\n",
        "    routing_enums_pb2.LocalSearchMetaheuristic.SIMULATED_ANNEALING)"
      ],
      "execution_count": 612,
      "outputs": [
        {
          "output_type": "stream",
          "text": [
            "time: 2.32 ms (started: 2021-04-20 00:28:58 +00:00)\n"
          ],
          "name": "stdout"
        }
      ]
    },
    {
      "cell_type": "markdown",
      "metadata": {
        "id": "Iie9cjwkk2Xo"
      },
      "source": [
        "###### Solve the problem."
      ]
    },
    {
      "cell_type": "code",
      "metadata": {
        "colab": {
          "base_uri": "https://localhost:8080/"
        },
        "id": "J9xACkMXlMci",
        "outputId": "3ae934ba-2b06-494f-b730-cfd859cdb0c9"
      },
      "source": [
        "# [START solve]\n",
        "\n",
        "# Solve the problem.\n",
        "solution3 = routing.SolveWithParameters(search_parameters) #solve with those parameters\n",
        "\n",
        "# [END solve]\n"
      ],
      "execution_count": 613,
      "outputs": [
        {
          "output_type": "stream",
          "text": [
            "time: 68.1 ms (started: 2021-04-20 00:28:58 +00:00)\n"
          ],
          "name": "stdout"
        }
      ]
    },
    {
      "cell_type": "markdown",
      "metadata": {
        "id": "ztnlBgA1lRgA"
      },
      "source": [
        "###### Print solution "
      ]
    },
    {
      "cell_type": "code",
      "metadata": {
        "colab": {
          "base_uri": "https://localhost:8080/"
        },
        "id": "VK1rBjqblPJj",
        "outputId": "ded6477f-a47b-4de9-d90f-2933b59fffe3"
      },
      "source": [
        "# [START print_solution]\n",
        "\n",
        "#use the print function generated before to print the solution & add to tsp array\n",
        "if solution3:\n",
        "    tsp=print_solution(manager, routing, solution3) \n",
        "\n",
        "# [END print_solution]"
      ],
      "execution_count": 614,
      "outputs": [
        {
          "output_type": "stream",
          "text": [
            "Objective: 40524 km\n",
            "Route for vehicle 0:\n",
            " 0 -> 31 -> 32 -> 33 -> 11 -> 8 -> 9 -> 3 -> 25 -> 24 -> 29 -> 28 -> 26 -> 27 -> 36 -> 35 -> 34 -> 5 -> 12 -> 6 -> 20 -> 21 -> 22 -> 7 -> 10 -> 13 -> 15 -> 23 -> 19 -> 18 -> 17 -> 4 -> 16 -> 2 -> 1 -> 30 -> 14 -> 0\n",
            "\n",
            "time: 4.79 ms (started: 2021-04-20 00:28:58 +00:00)\n"
          ],
          "name": "stdout"
        }
      ]
    },
    {
      "cell_type": "code",
      "metadata": {
        "colab": {
          "base_uri": "https://localhost:8080/"
        },
        "id": "9SXySDy-lWw7",
        "outputId": "1cacfe35-1271-4349-edc4-83994183e42b"
      },
      "source": [
        "tsp=np.array(tsp) \n",
        "tsp #solution array"
      ],
      "execution_count": 615,
      "outputs": [
        {
          "output_type": "execute_result",
          "data": {
            "text/plain": [
              "array([ 0, 31, 32, 33, 11,  8,  9,  3, 25, 24, 29, 28, 26, 27, 36, 35, 34,\n",
              "        5, 12,  6, 20, 21, 22,  7, 10, 13, 15, 23, 19, 18, 17,  4, 16,  2,\n",
              "        1, 30, 14])"
            ]
          },
          "metadata": {
            "tags": []
          },
          "execution_count": 615
        },
        {
          "output_type": "stream",
          "text": [
            "time: 5.73 ms (started: 2021-04-20 00:28:58 +00:00)\n"
          ],
          "name": "stdout"
        }
      ]
    },
    {
      "cell_type": "code",
      "metadata": {
        "colab": {
          "base_uri": "https://localhost:8080/",
          "height": 1000
        },
        "id": "N2YIp9LLlYOK",
        "outputId": "1601ca25-247c-4dad-f556-2320823e219a"
      },
      "source": [
        "# now reindex the original data\n",
        "geogTable_orig3 = geogTable_orig.reindex(tsp)\n",
        "geogTable_orig3 = geogTable_orig3.append(geogTable_orig3.iloc[0,:])\n",
        "geogTable_orig3"
      ],
      "execution_count": 616,
      "outputs": [
        {
          "output_type": "execute_result",
          "data": {
            "text/html": [
              "<div>\n",
              "<style scoped>\n",
              "    .dataframe tbody tr th:only-of-type {\n",
              "        vertical-align: middle;\n",
              "    }\n",
              "\n",
              "    .dataframe tbody tr th {\n",
              "        vertical-align: top;\n",
              "    }\n",
              "\n",
              "    .dataframe thead th {\n",
              "        text-align: right;\n",
              "    }\n",
              "</style>\n",
              "<table border=\"1\" class=\"dataframe\">\n",
              "  <thead>\n",
              "    <tr style=\"text-align: right;\">\n",
              "      <th></th>\n",
              "      <th>City</th>\n",
              "      <th>Lat</th>\n",
              "      <th>Lon</th>\n",
              "    </tr>\n",
              "  </thead>\n",
              "  <tbody>\n",
              "    <tr>\n",
              "      <th>0</th>\n",
              "      <td>Hartford</td>\n",
              "      <td>41.764290</td>\n",
              "      <td>-72.682499</td>\n",
              "    </tr>\n",
              "    <tr>\n",
              "      <th>31</th>\n",
              "      <td>New Britain</td>\n",
              "      <td>41.711125</td>\n",
              "      <td>-72.762979</td>\n",
              "    </tr>\n",
              "    <tr>\n",
              "      <th>32</th>\n",
              "      <td>New Britain</td>\n",
              "      <td>41.666665</td>\n",
              "      <td>-72.776664</td>\n",
              "    </tr>\n",
              "    <tr>\n",
              "      <th>33</th>\n",
              "      <td>New Britain</td>\n",
              "      <td>41.667414</td>\n",
              "      <td>-72.805806</td>\n",
              "    </tr>\n",
              "    <tr>\n",
              "      <th>11</th>\n",
              "      <td>Waterbury</td>\n",
              "      <td>41.578216</td>\n",
              "      <td>-73.027191</td>\n",
              "    </tr>\n",
              "    <tr>\n",
              "      <th>8</th>\n",
              "      <td>Waterbury</td>\n",
              "      <td>41.583317</td>\n",
              "      <td>-73.033702</td>\n",
              "    </tr>\n",
              "    <tr>\n",
              "      <th>9</th>\n",
              "      <td>Waterbury</td>\n",
              "      <td>41.551629</td>\n",
              "      <td>-73.063912</td>\n",
              "    </tr>\n",
              "    <tr>\n",
              "      <th>3</th>\n",
              "      <td>Naugatuck</td>\n",
              "      <td>41.501944</td>\n",
              "      <td>-73.053007</td>\n",
              "    </tr>\n",
              "    <tr>\n",
              "      <th>25</th>\n",
              "      <td>Bethel</td>\n",
              "      <td>41.414648</td>\n",
              "      <td>-73.401998</td>\n",
              "    </tr>\n",
              "    <tr>\n",
              "      <th>24</th>\n",
              "      <td>Bethel</td>\n",
              "      <td>41.373567</td>\n",
              "      <td>-73.414798</td>\n",
              "    </tr>\n",
              "    <tr>\n",
              "      <th>29</th>\n",
              "      <td>Norwalk</td>\n",
              "      <td>41.136815</td>\n",
              "      <td>-73.425296</td>\n",
              "    </tr>\n",
              "    <tr>\n",
              "      <th>28</th>\n",
              "      <td>Norwalk</td>\n",
              "      <td>41.102619</td>\n",
              "      <td>-73.434925</td>\n",
              "    </tr>\n",
              "    <tr>\n",
              "      <th>26</th>\n",
              "      <td>Norwalk</td>\n",
              "      <td>41.115302</td>\n",
              "      <td>-73.415467</td>\n",
              "    </tr>\n",
              "    <tr>\n",
              "      <th>27</th>\n",
              "      <td>Norwalk</td>\n",
              "      <td>41.127770</td>\n",
              "      <td>-73.388071</td>\n",
              "    </tr>\n",
              "    <tr>\n",
              "      <th>36</th>\n",
              "      <td>Shelton</td>\n",
              "      <td>41.276187</td>\n",
              "      <td>-73.124767</td>\n",
              "    </tr>\n",
              "    <tr>\n",
              "      <th>35</th>\n",
              "      <td>Orange</td>\n",
              "      <td>41.267656</td>\n",
              "      <td>-73.001648</td>\n",
              "    </tr>\n",
              "    <tr>\n",
              "      <th>34</th>\n",
              "      <td>Orange</td>\n",
              "      <td>41.281049</td>\n",
              "      <td>-72.987925</td>\n",
              "    </tr>\n",
              "    <tr>\n",
              "      <th>5</th>\n",
              "      <td>East Haven</td>\n",
              "      <td>41.280455</td>\n",
              "      <td>-72.875420</td>\n",
              "    </tr>\n",
              "    <tr>\n",
              "      <th>12</th>\n",
              "      <td>Branford</td>\n",
              "      <td>41.275207</td>\n",
              "      <td>-72.829181</td>\n",
              "    </tr>\n",
              "    <tr>\n",
              "      <th>6</th>\n",
              "      <td>East Haven</td>\n",
              "      <td>41.321652</td>\n",
              "      <td>-72.851992</td>\n",
              "    </tr>\n",
              "    <tr>\n",
              "      <th>20</th>\n",
              "      <td>New Haven</td>\n",
              "      <td>41.306312</td>\n",
              "      <td>-72.925229</td>\n",
              "    </tr>\n",
              "    <tr>\n",
              "      <th>21</th>\n",
              "      <td>New Haven</td>\n",
              "      <td>41.316277</td>\n",
              "      <td>-72.939591</td>\n",
              "    </tr>\n",
              "    <tr>\n",
              "      <th>22</th>\n",
              "      <td>New Haven</td>\n",
              "      <td>41.329171</td>\n",
              "      <td>-72.968372</td>\n",
              "    </tr>\n",
              "    <tr>\n",
              "      <th>7</th>\n",
              "      <td>Waterbury</td>\n",
              "      <td>41.539105</td>\n",
              "      <td>-72.997707</td>\n",
              "    </tr>\n",
              "    <tr>\n",
              "      <th>10</th>\n",
              "      <td>Waterbury</td>\n",
              "      <td>41.552161</td>\n",
              "      <td>-73.000983</td>\n",
              "    </tr>\n",
              "    <tr>\n",
              "      <th>13</th>\n",
              "      <td>Burlington</td>\n",
              "      <td>41.771090</td>\n",
              "      <td>-72.970139</td>\n",
              "    </tr>\n",
              "    <tr>\n",
              "      <th>15</th>\n",
              "      <td>Granby</td>\n",
              "      <td>41.952439</td>\n",
              "      <td>-72.786056</td>\n",
              "    </tr>\n",
              "    <tr>\n",
              "      <th>23</th>\n",
              "      <td>Suffield</td>\n",
              "      <td>41.983133</td>\n",
              "      <td>-72.656828</td>\n",
              "    </tr>\n",
              "    <tr>\n",
              "      <th>19</th>\n",
              "      <td>Enfield</td>\n",
              "      <td>41.998217</td>\n",
              "      <td>-72.593610</td>\n",
              "    </tr>\n",
              "    <tr>\n",
              "      <th>18</th>\n",
              "      <td>Enfield</td>\n",
              "      <td>41.995363</td>\n",
              "      <td>-72.582221</td>\n",
              "    </tr>\n",
              "    <tr>\n",
              "      <th>17</th>\n",
              "      <td>Enfield</td>\n",
              "      <td>41.990485</td>\n",
              "      <td>-72.576431</td>\n",
              "    </tr>\n",
              "    <tr>\n",
              "      <th>4</th>\n",
              "      <td>Coventry</td>\n",
              "      <td>41.798062</td>\n",
              "      <td>-72.368803</td>\n",
              "    </tr>\n",
              "    <tr>\n",
              "      <th>16</th>\n",
              "      <td>Plainfield</td>\n",
              "      <td>41.667374</td>\n",
              "      <td>-71.914370</td>\n",
              "    </tr>\n",
              "    <tr>\n",
              "      <th>2</th>\n",
              "      <td>Mystic</td>\n",
              "      <td>41.352719</td>\n",
              "      <td>-71.963196</td>\n",
              "    </tr>\n",
              "    <tr>\n",
              "      <th>1</th>\n",
              "      <td>Gales Ferry</td>\n",
              "      <td>41.427845</td>\n",
              "      <td>-72.082832</td>\n",
              "    </tr>\n",
              "    <tr>\n",
              "      <th>30</th>\n",
              "      <td>Old Saybrook</td>\n",
              "      <td>41.299825</td>\n",
              "      <td>-72.376309</td>\n",
              "    </tr>\n",
              "    <tr>\n",
              "      <th>14</th>\n",
              "      <td>Cromwell</td>\n",
              "      <td>41.602713</td>\n",
              "      <td>-72.688922</td>\n",
              "    </tr>\n",
              "    <tr>\n",
              "      <th>0</th>\n",
              "      <td>Hartford</td>\n",
              "      <td>41.764290</td>\n",
              "      <td>-72.682499</td>\n",
              "    </tr>\n",
              "  </tbody>\n",
              "</table>\n",
              "</div>"
            ],
            "text/plain": [
              "             City        Lat        Lon\n",
              "0        Hartford  41.764290 -72.682499\n",
              "31    New Britain  41.711125 -72.762979\n",
              "32    New Britain  41.666665 -72.776664\n",
              "33    New Britain  41.667414 -72.805806\n",
              "11      Waterbury  41.578216 -73.027191\n",
              "8       Waterbury  41.583317 -73.033702\n",
              "9       Waterbury  41.551629 -73.063912\n",
              "3      Naugatuck   41.501944 -73.053007\n",
              "25        Bethel   41.414648 -73.401998\n",
              "24        Bethel   41.373567 -73.414798\n",
              "29        Norwalk  41.136815 -73.425296\n",
              "28        Norwalk  41.102619 -73.434925\n",
              "26        Norwalk  41.115302 -73.415467\n",
              "27        Norwalk  41.127770 -73.388071\n",
              "36        Shelton  41.276187 -73.124767\n",
              "35         Orange  41.267656 -73.001648\n",
              "34         Orange  41.281049 -72.987925\n",
              "5      East Haven  41.280455 -72.875420\n",
              "12       Branford  41.275207 -72.829181\n",
              "6      East Haven  41.321652 -72.851992\n",
              "20      New Haven  41.306312 -72.925229\n",
              "21      New Haven  41.316277 -72.939591\n",
              "22      New Haven  41.329171 -72.968372\n",
              "7       Waterbury  41.539105 -72.997707\n",
              "10      Waterbury  41.552161 -73.000983\n",
              "13     Burlington  41.771090 -72.970139\n",
              "15         Granby  41.952439 -72.786056\n",
              "23       Suffield  41.983133 -72.656828\n",
              "19        Enfield  41.998217 -72.593610\n",
              "18        Enfield  41.995363 -72.582221\n",
              "17        Enfield  41.990485 -72.576431\n",
              "4        Coventry  41.798062 -72.368803\n",
              "16     Plainfield  41.667374 -71.914370\n",
              "2         Mystic   41.352719 -71.963196\n",
              "1     Gales Ferry  41.427845 -72.082832\n",
              "30  Old Saybrook   41.299825 -72.376309\n",
              "14       Cromwell  41.602713 -72.688922\n",
              "0        Hartford  41.764290 -72.682499"
            ]
          },
          "metadata": {
            "tags": []
          },
          "execution_count": 616
        },
        {
          "output_type": "stream",
          "text": [
            "time: 35.8 ms (started: 2021-04-20 00:28:58 +00:00)\n"
          ],
          "name": "stdout"
        }
      ]
    },
    {
      "cell_type": "markdown",
      "metadata": {
        "id": "XFpLnr2Nlaei"
      },
      "source": [
        "###### Visualize the solution"
      ]
    },
    {
      "cell_type": "code",
      "metadata": {
        "colab": {
          "base_uri": "https://localhost:8080/"
        },
        "id": "LDqIBiRgleG7",
        "outputId": "031b8603-1441-4c07-8c61-456072106947"
      },
      "source": [
        "mean(geogTable_orig3['Lat']) #for center of Map-mean latitude"
      ],
      "execution_count": 617,
      "outputs": [
        {
          "output_type": "execute_result",
          "data": {
            "text/plain": [
              "41.51695019943607"
            ]
          },
          "metadata": {
            "tags": []
          },
          "execution_count": 617
        },
        {
          "output_type": "stream",
          "text": [
            "time: 8.19 ms (started: 2021-04-20 00:28:58 +00:00)\n"
          ],
          "name": "stdout"
        }
      ]
    },
    {
      "cell_type": "code",
      "metadata": {
        "colab": {
          "base_uri": "https://localhost:8080/"
        },
        "id": "N_tfvaJ5lgUS",
        "outputId": "7e7dfa2d-2040-4c95-dc30-6758a160bc2d"
      },
      "source": [
        "mean(geogTable_orig3['Lon']) #for center of Map-mean longitude"
      ],
      "execution_count": 618,
      "outputs": [
        {
          "output_type": "execute_result",
          "data": {
            "text/plain": [
              "-72.8534565486349"
            ]
          },
          "metadata": {
            "tags": []
          },
          "execution_count": 618
        },
        {
          "output_type": "stream",
          "text": [
            "time: 7 ms (started: 2021-04-20 00:28:58 +00:00)\n"
          ],
          "name": "stdout"
        }
      ]
    },
    {
      "cell_type": "code",
      "metadata": {
        "colab": {
          "base_uri": "https://localhost:8080/",
          "height": 558
        },
        "id": "0l0_qq5_liZG",
        "outputId": "61fb7500-ab93-48af-858b-c47455b11332"
      },
      "source": [
        "fig = go.Figure(go.Scattermapbox(\n",
        "    mode = \"markers+lines\",\n",
        "    lon = geogTable_orig3['Lon'],\n",
        "    lat = geogTable_orig3['Lat'],\n",
        "    name=\"Main Route\",\n",
        "    hovertext=geogTable_orig3['City'],\n",
        "    marker = {'size': 10}))\n",
        "\n",
        "for i in range(len(geogTable_orig3)):\n",
        "  fig.add_trace(go.Scattermapbox(\n",
        "    mode = \"markers+lines\",\n",
        "    lat = [geogTable_orig3.iloc[i,1],geogTable_orig3.iloc[i-1,1]],\n",
        "    lon = [geogTable_orig3.iloc[i,2],geogTable_orig3.iloc[i-1,2]],\n",
        "    name=\"Route\"+str(i),\n",
        "    text=[geogTable_orig3.iloc[i,0]+'-'+str(i),geogTable_orig3.iloc[i-1,0]+'-'+str(i-1)],\n",
        "    textposition='top center',\n",
        "    marker = {'size': 10}))\n",
        "  \n",
        "fig.update_layout(mapbox_style=\"carto-darkmatter\", mapbox_zoom=8.15, mapbox_center_lat = 41.5169,mapbox_center_lon = -72.8534,\n",
        "    margin={\"r\":0,\"t\":0,\"l\":0,\"b\":0},title=\"TRAVELING SALESMAN ROUTE\")\n",
        "config = dict({'scrollZoom': False})\n",
        "fig.show(config=config)"
      ],
      "execution_count": 619,
      "outputs": [
        {
          "output_type": "display_data",
          "data": {
            "text/html": [
              "<html>\n",
              "<head><meta charset=\"utf-8\" /></head>\n",
              "<body>\n",
              "    <div>\n",
              "            <script src=\"https://cdnjs.cloudflare.com/ajax/libs/mathjax/2.7.5/MathJax.js?config=TeX-AMS-MML_SVG\"></script><script type=\"text/javascript\">if (window.MathJax) {MathJax.Hub.Config({SVG: {font: \"STIX-Web\"}});}</script>\n",
              "                <script type=\"text/javascript\">window.PlotlyConfig = {MathJaxConfig: 'local'};</script>\n",
              "        <script src=\"https://cdn.plot.ly/plotly-latest.min.js\"></script>    \n",
              "            <div id=\"9026b2ae-f4f3-4677-b8bf-9e723185bd38\" class=\"plotly-graph-div\" style=\"height:525px; width:100%;\"></div>\n",
              "            <script type=\"text/javascript\">\n",
              "                \n",
              "                    window.PLOTLYENV=window.PLOTLYENV || {};\n",
              "                    \n",
              "                if (document.getElementById(\"9026b2ae-f4f3-4677-b8bf-9e723185bd38\")) {\n",
              "                    Plotly.newPlot(\n",
              "                        '9026b2ae-f4f3-4677-b8bf-9e723185bd38',\n",
              "                        [{\"hovertext\": [\"Hartford\", \"New Britain\", \"New Britain\", \"New Britain\", \"Waterbury\", \"Waterbury\", \"Waterbury\", \"Naugatuck \", \"Bethel \", \"Bethel \", \"Norwalk\", \"Norwalk\", \"Norwalk\", \"Norwalk\", \"Shelton\", \"Orange\", \"Orange\", \"East Haven\", \"Branford\", \"East Haven\", \"New Haven\", \"New Haven\", \"New Haven\", \"Waterbury\", \"Waterbury\", \"Burlington\", \"Granby\", \"Suffield\", \"Enfield\", \"Enfield\", \"Enfield\", \"Coventry\", \"Plainfield\", \"Mystic \", \"Gales Ferry\", \"Old Saybrook \", \"Cromwell\", \"Hartford\"], \"lat\": [41.764289888527, 41.7111247364647, 41.6666648767678, 41.6674142621264, 41.5782163936639, 41.5833165571109, 41.5516292887622, 41.501944381666, 41.4146476376325, 41.3735674146904, 41.1368152698305, 41.1026194238766, 41.1153022539571, 41.1277695785016, 41.2761866736857, 41.2676558768689, 41.2810488305456, 41.2804548194501, 41.2752069405999, 41.3216517174151, 41.3063117459586, 41.3162769832612, 41.3291713941692, 41.5391047602487, 41.5521614901779, 41.7710899857772, 41.9524391135402, 41.9831328097653, 41.9982166854156, 41.9953633420842, 41.9904847334974, 41.7980615345505, 41.6673744865115, 41.3527192139631, 41.4278446329939, 41.2998247643997, 41.6027131915866, 41.764289888527], \"lon\": [-72.682499183992, -72.7629790032047, -72.7766643455349, -72.805806387863, -73.0271913608825, -73.0337020032104, -73.0639124608836, -73.0530068032141, -73.4019981032179, -73.4147982032198, -73.4252955032302, -73.4349253320676, -73.4154673455593, -73.3880707455588, -73.1247672185678, -73.0016476878808, -72.987924545552, -72.8754200320598, -72.8291813185678, -72.8519923339094, -72.9252293302072, -72.9395912455504, -72.9683717878781, -72.9977074878687, -73.0009827608837, -72.9701388436788, -72.7860561166862, -72.6568284185362, -72.5936096590124, -72.582220603192, -72.5764313031922, -72.3688034032008, -71.9143697897145, -71.9631962032207, -72.082831702046, -72.3763086167153, -72.6889224743737, -72.682499183992], \"marker\": {\"size\": 10}, \"mode\": \"markers+lines\", \"name\": \"Main Route\", \"type\": \"scattermapbox\"}, {\"lat\": [41.764289888527, 41.764289888527], \"lon\": [-72.682499183992, -72.682499183992], \"marker\": {\"size\": 10}, \"mode\": \"markers+lines\", \"name\": \"Route0\", \"text\": [\"Hartford-0\", \"Hartford--1\"], \"textposition\": \"top center\", \"type\": \"scattermapbox\"}, {\"lat\": [41.7111247364647, 41.764289888527], \"lon\": [-72.7629790032047, -72.682499183992], \"marker\": {\"size\": 10}, \"mode\": \"markers+lines\", \"name\": \"Route1\", \"text\": [\"New Britain-1\", \"Hartford-0\"], \"textposition\": \"top center\", \"type\": \"scattermapbox\"}, {\"lat\": [41.6666648767678, 41.7111247364647], \"lon\": [-72.7766643455349, -72.7629790032047], \"marker\": {\"size\": 10}, \"mode\": \"markers+lines\", \"name\": \"Route2\", \"text\": [\"New Britain-2\", \"New Britain-1\"], \"textposition\": \"top center\", \"type\": \"scattermapbox\"}, {\"lat\": [41.6674142621264, 41.6666648767678], \"lon\": [-72.805806387863, -72.7766643455349], \"marker\": {\"size\": 10}, \"mode\": \"markers+lines\", \"name\": \"Route3\", \"text\": [\"New Britain-3\", \"New Britain-2\"], \"textposition\": \"top center\", \"type\": \"scattermapbox\"}, {\"lat\": [41.5782163936639, 41.6674142621264], \"lon\": [-73.0271913608825, -72.805806387863], \"marker\": {\"size\": 10}, \"mode\": \"markers+lines\", \"name\": \"Route4\", \"text\": [\"Waterbury-4\", \"New Britain-3\"], \"textposition\": \"top center\", \"type\": \"scattermapbox\"}, {\"lat\": [41.5833165571109, 41.5782163936639], \"lon\": [-73.0337020032104, -73.0271913608825], \"marker\": {\"size\": 10}, \"mode\": \"markers+lines\", \"name\": \"Route5\", \"text\": [\"Waterbury-5\", \"Waterbury-4\"], \"textposition\": \"top center\", \"type\": \"scattermapbox\"}, {\"lat\": [41.5516292887622, 41.5833165571109], \"lon\": [-73.0639124608836, -73.0337020032104], \"marker\": {\"size\": 10}, \"mode\": \"markers+lines\", \"name\": \"Route6\", \"text\": [\"Waterbury-6\", \"Waterbury-5\"], \"textposition\": \"top center\", \"type\": \"scattermapbox\"}, {\"lat\": [41.501944381666, 41.5516292887622], \"lon\": [-73.0530068032141, -73.0639124608836], \"marker\": {\"size\": 10}, \"mode\": \"markers+lines\", \"name\": \"Route7\", \"text\": [\"Naugatuck -7\", \"Waterbury-6\"], \"textposition\": \"top center\", \"type\": \"scattermapbox\"}, {\"lat\": [41.4146476376325, 41.501944381666], \"lon\": [-73.4019981032179, -73.0530068032141], \"marker\": {\"size\": 10}, \"mode\": \"markers+lines\", \"name\": \"Route8\", \"text\": [\"Bethel -8\", \"Naugatuck -7\"], \"textposition\": \"top center\", \"type\": \"scattermapbox\"}, {\"lat\": [41.3735674146904, 41.4146476376325], \"lon\": [-73.4147982032198, -73.4019981032179], \"marker\": {\"size\": 10}, \"mode\": \"markers+lines\", \"name\": \"Route9\", \"text\": [\"Bethel -9\", \"Bethel -8\"], \"textposition\": \"top center\", \"type\": \"scattermapbox\"}, {\"lat\": [41.1368152698305, 41.3735674146904], \"lon\": [-73.4252955032302, -73.4147982032198], \"marker\": {\"size\": 10}, \"mode\": \"markers+lines\", \"name\": \"Route10\", \"text\": [\"Norwalk-10\", \"Bethel -9\"], \"textposition\": \"top center\", \"type\": \"scattermapbox\"}, {\"lat\": [41.1026194238766, 41.1368152698305], \"lon\": [-73.4349253320676, -73.4252955032302], \"marker\": {\"size\": 10}, \"mode\": \"markers+lines\", \"name\": \"Route11\", \"text\": [\"Norwalk-11\", \"Norwalk-10\"], \"textposition\": \"top center\", \"type\": \"scattermapbox\"}, {\"lat\": [41.1153022539571, 41.1026194238766], \"lon\": [-73.4154673455593, -73.4349253320676], \"marker\": {\"size\": 10}, \"mode\": \"markers+lines\", \"name\": \"Route12\", \"text\": [\"Norwalk-12\", \"Norwalk-11\"], \"textposition\": \"top center\", \"type\": \"scattermapbox\"}, {\"lat\": [41.1277695785016, 41.1153022539571], \"lon\": [-73.3880707455588, -73.4154673455593], \"marker\": {\"size\": 10}, \"mode\": \"markers+lines\", \"name\": \"Route13\", \"text\": [\"Norwalk-13\", \"Norwalk-12\"], \"textposition\": \"top center\", \"type\": \"scattermapbox\"}, {\"lat\": [41.2761866736857, 41.1277695785016], \"lon\": [-73.1247672185678, -73.3880707455588], \"marker\": {\"size\": 10}, \"mode\": \"markers+lines\", \"name\": \"Route14\", \"text\": [\"Shelton-14\", \"Norwalk-13\"], \"textposition\": \"top center\", \"type\": \"scattermapbox\"}, {\"lat\": [41.2676558768689, 41.2761866736857], \"lon\": [-73.0016476878808, -73.1247672185678], \"marker\": {\"size\": 10}, \"mode\": \"markers+lines\", \"name\": \"Route15\", \"text\": [\"Orange-15\", \"Shelton-14\"], \"textposition\": \"top center\", \"type\": \"scattermapbox\"}, {\"lat\": [41.2810488305456, 41.2676558768689], \"lon\": [-72.987924545552, -73.0016476878808], \"marker\": {\"size\": 10}, \"mode\": \"markers+lines\", \"name\": \"Route16\", \"text\": [\"Orange-16\", \"Orange-15\"], \"textposition\": \"top center\", \"type\": \"scattermapbox\"}, {\"lat\": [41.2804548194501, 41.2810488305456], \"lon\": [-72.8754200320598, -72.987924545552], \"marker\": {\"size\": 10}, \"mode\": \"markers+lines\", \"name\": \"Route17\", \"text\": [\"East Haven-17\", \"Orange-16\"], \"textposition\": \"top center\", \"type\": \"scattermapbox\"}, {\"lat\": [41.2752069405999, 41.2804548194501], \"lon\": [-72.8291813185678, -72.8754200320598], \"marker\": {\"size\": 10}, \"mode\": \"markers+lines\", \"name\": \"Route18\", \"text\": [\"Branford-18\", \"East Haven-17\"], \"textposition\": \"top center\", \"type\": \"scattermapbox\"}, {\"lat\": [41.3216517174151, 41.2752069405999], \"lon\": [-72.8519923339094, -72.8291813185678], \"marker\": {\"size\": 10}, \"mode\": \"markers+lines\", \"name\": \"Route19\", \"text\": [\"East Haven-19\", \"Branford-18\"], \"textposition\": \"top center\", \"type\": \"scattermapbox\"}, {\"lat\": [41.3063117459586, 41.3216517174151], \"lon\": [-72.9252293302072, -72.8519923339094], \"marker\": {\"size\": 10}, \"mode\": \"markers+lines\", \"name\": \"Route20\", \"text\": [\"New Haven-20\", \"East Haven-19\"], \"textposition\": \"top center\", \"type\": \"scattermapbox\"}, {\"lat\": [41.3162769832612, 41.3063117459586], \"lon\": [-72.9395912455504, -72.9252293302072], \"marker\": {\"size\": 10}, \"mode\": \"markers+lines\", \"name\": \"Route21\", \"text\": [\"New Haven-21\", \"New Haven-20\"], \"textposition\": \"top center\", \"type\": \"scattermapbox\"}, {\"lat\": [41.3291713941692, 41.3162769832612], \"lon\": [-72.9683717878781, -72.9395912455504], \"marker\": {\"size\": 10}, \"mode\": \"markers+lines\", \"name\": \"Route22\", \"text\": [\"New Haven-22\", \"New Haven-21\"], \"textposition\": \"top center\", \"type\": \"scattermapbox\"}, {\"lat\": [41.5391047602487, 41.3291713941692], \"lon\": [-72.9977074878687, -72.9683717878781], \"marker\": {\"size\": 10}, \"mode\": \"markers+lines\", \"name\": \"Route23\", \"text\": [\"Waterbury-23\", \"New Haven-22\"], \"textposition\": \"top center\", \"type\": \"scattermapbox\"}, {\"lat\": [41.5521614901779, 41.5391047602487], \"lon\": [-73.0009827608837, -72.9977074878687], \"marker\": {\"size\": 10}, \"mode\": \"markers+lines\", \"name\": \"Route24\", \"text\": [\"Waterbury-24\", \"Waterbury-23\"], \"textposition\": \"top center\", \"type\": \"scattermapbox\"}, {\"lat\": [41.7710899857772, 41.5521614901779], \"lon\": [-72.9701388436788, -73.0009827608837], \"marker\": {\"size\": 10}, \"mode\": \"markers+lines\", \"name\": \"Route25\", \"text\": [\"Burlington-25\", \"Waterbury-24\"], \"textposition\": \"top center\", \"type\": \"scattermapbox\"}, {\"lat\": [41.9524391135402, 41.7710899857772], \"lon\": [-72.7860561166862, -72.9701388436788], \"marker\": {\"size\": 10}, \"mode\": \"markers+lines\", \"name\": \"Route26\", \"text\": [\"Granby-26\", \"Burlington-25\"], \"textposition\": \"top center\", \"type\": \"scattermapbox\"}, {\"lat\": [41.9831328097653, 41.9524391135402], \"lon\": [-72.6568284185362, -72.7860561166862], \"marker\": {\"size\": 10}, \"mode\": \"markers+lines\", \"name\": \"Route27\", \"text\": [\"Suffield-27\", \"Granby-26\"], \"textposition\": \"top center\", \"type\": \"scattermapbox\"}, {\"lat\": [41.9982166854156, 41.9831328097653], \"lon\": [-72.5936096590124, -72.6568284185362], \"marker\": {\"size\": 10}, \"mode\": \"markers+lines\", \"name\": \"Route28\", \"text\": [\"Enfield-28\", \"Suffield-27\"], \"textposition\": \"top center\", \"type\": \"scattermapbox\"}, {\"lat\": [41.9953633420842, 41.9982166854156], \"lon\": [-72.582220603192, -72.5936096590124], \"marker\": {\"size\": 10}, \"mode\": \"markers+lines\", \"name\": \"Route29\", \"text\": [\"Enfield-29\", \"Enfield-28\"], \"textposition\": \"top center\", \"type\": \"scattermapbox\"}, {\"lat\": [41.9904847334974, 41.9953633420842], \"lon\": [-72.5764313031922, -72.582220603192], \"marker\": {\"size\": 10}, \"mode\": \"markers+lines\", \"name\": \"Route30\", \"text\": [\"Enfield-30\", \"Enfield-29\"], \"textposition\": \"top center\", \"type\": \"scattermapbox\"}, {\"lat\": [41.7980615345505, 41.9904847334974], \"lon\": [-72.3688034032008, -72.5764313031922], \"marker\": {\"size\": 10}, \"mode\": \"markers+lines\", \"name\": \"Route31\", \"text\": [\"Coventry-31\", \"Enfield-30\"], \"textposition\": \"top center\", \"type\": \"scattermapbox\"}, {\"lat\": [41.6673744865115, 41.7980615345505], \"lon\": [-71.9143697897145, -72.3688034032008], \"marker\": {\"size\": 10}, \"mode\": \"markers+lines\", \"name\": \"Route32\", \"text\": [\"Plainfield-32\", \"Coventry-31\"], \"textposition\": \"top center\", \"type\": \"scattermapbox\"}, {\"lat\": [41.3527192139631, 41.6673744865115], \"lon\": [-71.9631962032207, -71.9143697897145], \"marker\": {\"size\": 10}, \"mode\": \"markers+lines\", \"name\": \"Route33\", \"text\": [\"Mystic -33\", \"Plainfield-32\"], \"textposition\": \"top center\", \"type\": \"scattermapbox\"}, {\"lat\": [41.4278446329939, 41.3527192139631], \"lon\": [-72.082831702046, -71.9631962032207], \"marker\": {\"size\": 10}, \"mode\": \"markers+lines\", \"name\": \"Route34\", \"text\": [\"Gales Ferry-34\", \"Mystic -33\"], \"textposition\": \"top center\", \"type\": \"scattermapbox\"}, {\"lat\": [41.2998247643997, 41.4278446329939], \"lon\": [-72.3763086167153, -72.082831702046], \"marker\": {\"size\": 10}, \"mode\": \"markers+lines\", \"name\": \"Route35\", \"text\": [\"Old Saybrook -35\", \"Gales Ferry-34\"], \"textposition\": \"top center\", \"type\": \"scattermapbox\"}, {\"lat\": [41.6027131915866, 41.2998247643997], \"lon\": [-72.6889224743737, -72.3763086167153], \"marker\": {\"size\": 10}, \"mode\": \"markers+lines\", \"name\": \"Route36\", \"text\": [\"Cromwell-36\", \"Old Saybrook -35\"], \"textposition\": \"top center\", \"type\": \"scattermapbox\"}, {\"lat\": [41.764289888527, 41.6027131915866], \"lon\": [-72.682499183992, -72.6889224743737], \"marker\": {\"size\": 10}, \"mode\": \"markers+lines\", \"name\": \"Route37\", \"text\": [\"Hartford-37\", \"Cromwell-36\"], \"textposition\": \"top center\", \"type\": \"scattermapbox\"}],\n",
              "                        {\"mapbox\": {\"center\": {\"lat\": 41.5169, \"lon\": -72.8534}, \"style\": \"carto-darkmatter\", \"zoom\": 8.15}, \"margin\": {\"b\": 0, \"l\": 0, \"r\": 0, \"t\": 0}, \"template\": {\"data\": {\"bar\": [{\"error_x\": {\"color\": \"#2a3f5f\"}, \"error_y\": {\"color\": \"#2a3f5f\"}, \"marker\": {\"line\": {\"color\": \"#E5ECF6\", \"width\": 0.5}}, \"type\": \"bar\"}], \"barpolar\": [{\"marker\": {\"line\": {\"color\": \"#E5ECF6\", \"width\": 0.5}}, \"type\": \"barpolar\"}], \"carpet\": [{\"aaxis\": {\"endlinecolor\": \"#2a3f5f\", \"gridcolor\": \"white\", \"linecolor\": \"white\", \"minorgridcolor\": \"white\", \"startlinecolor\": \"#2a3f5f\"}, \"baxis\": {\"endlinecolor\": \"#2a3f5f\", \"gridcolor\": \"white\", \"linecolor\": \"white\", \"minorgridcolor\": \"white\", \"startlinecolor\": \"#2a3f5f\"}, \"type\": \"carpet\"}], \"choropleth\": [{\"colorbar\": {\"outlinewidth\": 0, \"ticks\": \"\"}, \"type\": \"choropleth\"}], \"contour\": [{\"colorbar\": {\"outlinewidth\": 0, \"ticks\": \"\"}, \"colorscale\": [[0.0, \"#0d0887\"], [0.1111111111111111, \"#46039f\"], [0.2222222222222222, \"#7201a8\"], [0.3333333333333333, \"#9c179e\"], [0.4444444444444444, \"#bd3786\"], [0.5555555555555556, \"#d8576b\"], [0.6666666666666666, \"#ed7953\"], [0.7777777777777778, \"#fb9f3a\"], [0.8888888888888888, \"#fdca26\"], [1.0, \"#f0f921\"]], \"type\": \"contour\"}], \"contourcarpet\": [{\"colorbar\": {\"outlinewidth\": 0, \"ticks\": \"\"}, \"type\": \"contourcarpet\"}], \"heatmap\": [{\"colorbar\": {\"outlinewidth\": 0, \"ticks\": \"\"}, \"colorscale\": [[0.0, \"#0d0887\"], [0.1111111111111111, \"#46039f\"], [0.2222222222222222, \"#7201a8\"], [0.3333333333333333, \"#9c179e\"], [0.4444444444444444, \"#bd3786\"], [0.5555555555555556, \"#d8576b\"], [0.6666666666666666, \"#ed7953\"], [0.7777777777777778, \"#fb9f3a\"], [0.8888888888888888, \"#fdca26\"], [1.0, \"#f0f921\"]], \"type\": \"heatmap\"}], \"heatmapgl\": [{\"colorbar\": {\"outlinewidth\": 0, \"ticks\": \"\"}, \"colorscale\": [[0.0, \"#0d0887\"], [0.1111111111111111, \"#46039f\"], [0.2222222222222222, \"#7201a8\"], [0.3333333333333333, \"#9c179e\"], [0.4444444444444444, \"#bd3786\"], [0.5555555555555556, \"#d8576b\"], [0.6666666666666666, \"#ed7953\"], [0.7777777777777778, \"#fb9f3a\"], [0.8888888888888888, \"#fdca26\"], [1.0, \"#f0f921\"]], \"type\": \"heatmapgl\"}], \"histogram\": [{\"marker\": {\"colorbar\": {\"outlinewidth\": 0, \"ticks\": \"\"}}, \"type\": \"histogram\"}], \"histogram2d\": [{\"colorbar\": {\"outlinewidth\": 0, \"ticks\": \"\"}, \"colorscale\": [[0.0, \"#0d0887\"], [0.1111111111111111, \"#46039f\"], [0.2222222222222222, \"#7201a8\"], [0.3333333333333333, \"#9c179e\"], [0.4444444444444444, \"#bd3786\"], [0.5555555555555556, \"#d8576b\"], [0.6666666666666666, \"#ed7953\"], [0.7777777777777778, \"#fb9f3a\"], [0.8888888888888888, \"#fdca26\"], [1.0, \"#f0f921\"]], \"type\": \"histogram2d\"}], \"histogram2dcontour\": [{\"colorbar\": {\"outlinewidth\": 0, \"ticks\": \"\"}, \"colorscale\": [[0.0, \"#0d0887\"], [0.1111111111111111, \"#46039f\"], [0.2222222222222222, \"#7201a8\"], [0.3333333333333333, \"#9c179e\"], [0.4444444444444444, \"#bd3786\"], [0.5555555555555556, \"#d8576b\"], [0.6666666666666666, \"#ed7953\"], [0.7777777777777778, \"#fb9f3a\"], [0.8888888888888888, \"#fdca26\"], [1.0, \"#f0f921\"]], \"type\": \"histogram2dcontour\"}], \"mesh3d\": [{\"colorbar\": {\"outlinewidth\": 0, \"ticks\": \"\"}, \"type\": \"mesh3d\"}], \"parcoords\": [{\"line\": {\"colorbar\": {\"outlinewidth\": 0, \"ticks\": \"\"}}, \"type\": \"parcoords\"}], \"pie\": [{\"automargin\": true, \"type\": \"pie\"}], \"scatter\": [{\"marker\": {\"colorbar\": {\"outlinewidth\": 0, \"ticks\": \"\"}}, \"type\": \"scatter\"}], \"scatter3d\": [{\"line\": {\"colorbar\": {\"outlinewidth\": 0, \"ticks\": \"\"}}, \"marker\": {\"colorbar\": {\"outlinewidth\": 0, \"ticks\": \"\"}}, \"type\": \"scatter3d\"}], \"scattercarpet\": [{\"marker\": {\"colorbar\": {\"outlinewidth\": 0, \"ticks\": \"\"}}, \"type\": \"scattercarpet\"}], \"scattergeo\": [{\"marker\": {\"colorbar\": {\"outlinewidth\": 0, \"ticks\": \"\"}}, \"type\": \"scattergeo\"}], \"scattergl\": [{\"marker\": {\"colorbar\": {\"outlinewidth\": 0, \"ticks\": \"\"}}, \"type\": \"scattergl\"}], \"scattermapbox\": [{\"marker\": {\"colorbar\": {\"outlinewidth\": 0, \"ticks\": \"\"}}, \"type\": \"scattermapbox\"}], \"scatterpolar\": [{\"marker\": {\"colorbar\": {\"outlinewidth\": 0, \"ticks\": \"\"}}, \"type\": \"scatterpolar\"}], \"scatterpolargl\": [{\"marker\": {\"colorbar\": {\"outlinewidth\": 0, \"ticks\": \"\"}}, \"type\": \"scatterpolargl\"}], \"scatterternary\": [{\"marker\": {\"colorbar\": {\"outlinewidth\": 0, \"ticks\": \"\"}}, \"type\": \"scatterternary\"}], \"surface\": [{\"colorbar\": {\"outlinewidth\": 0, \"ticks\": \"\"}, \"colorscale\": [[0.0, \"#0d0887\"], [0.1111111111111111, \"#46039f\"], [0.2222222222222222, \"#7201a8\"], [0.3333333333333333, \"#9c179e\"], [0.4444444444444444, \"#bd3786\"], [0.5555555555555556, \"#d8576b\"], [0.6666666666666666, \"#ed7953\"], [0.7777777777777778, \"#fb9f3a\"], [0.8888888888888888, \"#fdca26\"], [1.0, \"#f0f921\"]], \"type\": \"surface\"}], \"table\": [{\"cells\": {\"fill\": {\"color\": \"#EBF0F8\"}, \"line\": {\"color\": \"white\"}}, \"header\": {\"fill\": {\"color\": \"#C8D4E3\"}, \"line\": {\"color\": \"white\"}}, \"type\": \"table\"}]}, \"layout\": {\"annotationdefaults\": {\"arrowcolor\": \"#2a3f5f\", \"arrowhead\": 0, \"arrowwidth\": 1}, \"coloraxis\": {\"colorbar\": {\"outlinewidth\": 0, \"ticks\": \"\"}}, \"colorscale\": {\"diverging\": [[0, \"#8e0152\"], [0.1, \"#c51b7d\"], [0.2, \"#de77ae\"], [0.3, \"#f1b6da\"], [0.4, \"#fde0ef\"], [0.5, \"#f7f7f7\"], [0.6, \"#e6f5d0\"], [0.7, \"#b8e186\"], [0.8, \"#7fbc41\"], [0.9, \"#4d9221\"], [1, \"#276419\"]], \"sequential\": [[0.0, \"#0d0887\"], [0.1111111111111111, \"#46039f\"], [0.2222222222222222, \"#7201a8\"], [0.3333333333333333, \"#9c179e\"], [0.4444444444444444, \"#bd3786\"], [0.5555555555555556, \"#d8576b\"], [0.6666666666666666, \"#ed7953\"], [0.7777777777777778, \"#fb9f3a\"], [0.8888888888888888, \"#fdca26\"], [1.0, \"#f0f921\"]], \"sequentialminus\": [[0.0, \"#0d0887\"], [0.1111111111111111, \"#46039f\"], [0.2222222222222222, \"#7201a8\"], [0.3333333333333333, \"#9c179e\"], [0.4444444444444444, \"#bd3786\"], [0.5555555555555556, \"#d8576b\"], [0.6666666666666666, \"#ed7953\"], [0.7777777777777778, \"#fb9f3a\"], [0.8888888888888888, \"#fdca26\"], [1.0, \"#f0f921\"]]}, \"colorway\": [\"#636efa\", \"#EF553B\", \"#00cc96\", \"#ab63fa\", \"#FFA15A\", \"#19d3f3\", \"#FF6692\", \"#B6E880\", \"#FF97FF\", \"#FECB52\"], \"font\": {\"color\": \"#2a3f5f\"}, \"geo\": {\"bgcolor\": \"white\", \"lakecolor\": \"white\", \"landcolor\": \"#E5ECF6\", \"showlakes\": true, \"showland\": true, \"subunitcolor\": \"white\"}, \"hoverlabel\": {\"align\": \"left\"}, \"hovermode\": \"closest\", \"mapbox\": {\"style\": \"light\"}, \"paper_bgcolor\": \"white\", \"plot_bgcolor\": \"#E5ECF6\", \"polar\": {\"angularaxis\": {\"gridcolor\": \"white\", \"linecolor\": \"white\", \"ticks\": \"\"}, \"bgcolor\": \"#E5ECF6\", \"radialaxis\": {\"gridcolor\": \"white\", \"linecolor\": \"white\", \"ticks\": \"\"}}, \"scene\": {\"xaxis\": {\"backgroundcolor\": \"#E5ECF6\", \"gridcolor\": \"white\", \"gridwidth\": 2, \"linecolor\": \"white\", \"showbackground\": true, \"ticks\": \"\", \"zerolinecolor\": \"white\"}, \"yaxis\": {\"backgroundcolor\": \"#E5ECF6\", \"gridcolor\": \"white\", \"gridwidth\": 2, \"linecolor\": \"white\", \"showbackground\": true, \"ticks\": \"\", \"zerolinecolor\": \"white\"}, \"zaxis\": {\"backgroundcolor\": \"#E5ECF6\", \"gridcolor\": \"white\", \"gridwidth\": 2, \"linecolor\": \"white\", \"showbackground\": true, \"ticks\": \"\", \"zerolinecolor\": \"white\"}}, \"shapedefaults\": {\"line\": {\"color\": \"#2a3f5f\"}}, \"ternary\": {\"aaxis\": {\"gridcolor\": \"white\", \"linecolor\": \"white\", \"ticks\": \"\"}, \"baxis\": {\"gridcolor\": \"white\", \"linecolor\": \"white\", \"ticks\": \"\"}, \"bgcolor\": \"#E5ECF6\", \"caxis\": {\"gridcolor\": \"white\", \"linecolor\": \"white\", \"ticks\": \"\"}}, \"title\": {\"x\": 0.05}, \"xaxis\": {\"automargin\": true, \"gridcolor\": \"white\", \"linecolor\": \"white\", \"ticks\": \"\", \"title\": {\"standoff\": 15}, \"zerolinecolor\": \"white\", \"zerolinewidth\": 2}, \"yaxis\": {\"automargin\": true, \"gridcolor\": \"white\", \"linecolor\": \"white\", \"ticks\": \"\", \"title\": {\"standoff\": 15}, \"zerolinecolor\": \"white\", \"zerolinewidth\": 2}}}, \"title\": {\"text\": \"TRAVELING SALESMAN ROUTE\"}},\n",
              "                        {\"scrollZoom\": false, \"responsive\": true}\n",
              "                    ).then(function(){\n",
              "                            \n",
              "var gd = document.getElementById('9026b2ae-f4f3-4677-b8bf-9e723185bd38');\n",
              "var x = new MutationObserver(function (mutations, observer) {{\n",
              "        var display = window.getComputedStyle(gd).display;\n",
              "        if (!display || display === 'none') {{\n",
              "            console.log([gd, 'removed!']);\n",
              "            Plotly.purge(gd);\n",
              "            observer.disconnect();\n",
              "        }}\n",
              "}});\n",
              "\n",
              "// Listen for the removal of the full notebook cells\n",
              "var notebookContainer = gd.closest('#notebook-container');\n",
              "if (notebookContainer) {{\n",
              "    x.observe(notebookContainer, {childList: true});\n",
              "}}\n",
              "\n",
              "// Listen for the clearing of the current output cell\n",
              "var outputEl = gd.closest('.output');\n",
              "if (outputEl) {{\n",
              "    x.observe(outputEl, {childList: true});\n",
              "}}\n",
              "\n",
              "                        })\n",
              "                };\n",
              "                \n",
              "            </script>\n",
              "        </div>\n",
              "</body>\n",
              "</html>"
            ]
          },
          "metadata": {
            "tags": []
          }
        },
        {
          "output_type": "stream",
          "text": [
            "time: 721 ms (started: 2021-04-20 00:28:58 +00:00)\n"
          ],
          "name": "stdout"
        }
      ]
    },
    {
      "cell_type": "code",
      "metadata": {
        "colab": {
          "base_uri": "https://localhost:8080/",
          "height": 558
        },
        "id": "ACA9yoVVlmKK",
        "outputId": "9ac7bafd-7b80-4435-cb47-9199aef5f103"
      },
      "source": [
        "fig = go.Figure(go.Scattermapbox(\n",
        "    mode = \"markers+lines\",\n",
        "    lon = geogTable_orig3['Lon'], #longitude\n",
        "    lat = geogTable_orig3['Lat'], #latitude\n",
        "    name=\"Traveling Salesman\", \n",
        "    hovertext=geogTable_orig3['City'], #town name\n",
        "    marker = {'size': 10}),\n",
        "    layout=go.Layout(\n",
        "        hovermode=\"closest\",\n",
        "        updatemenus=[dict(type=\"buttons\",\n",
        "                          buttons=[dict(label=\"Play\",\n",
        "                                        method=\"animate\",\n",
        "                                        args=[None])])]),\n",
        "        frames=[go.Frame(\n",
        "        data=[go.Scattermapbox(\n",
        "            lat=[geogTable_orig3.iloc[k,1]],\n",
        "            lon=[geogTable_orig3.iloc[k,2]],\n",
        "            mode=\"markers\",\n",
        "            marker=dict(color=\"red\", size=10))])\n",
        "\n",
        "        for k in range(len(geogTable_orig2))]\n",
        ")\n",
        "fig.add_trace(go.Scattermapbox(\n",
        "    mode = \"markers+lines\",\n",
        "    lon = geogTable_orig3['Lon'], #longitude\n",
        "    lat = geogTable_orig3['Lat'], #latitude\n",
        "    name=\"Main Route\", \n",
        "    hovertext=geogTable_orig3['City'], #town name\n",
        "    marker=dict(color=\"blue\", size=5)))\n",
        "\n",
        "  \n",
        "fig.update_layout(mapbox_style=\"carto-darkmatter\", mapbox_zoom=8,  mapbox_center_lat = 41.50435,mapbox_center_lon = -72.8587,\n",
        "    margin={\"r\":0,\"t\":0,\"l\":0,\"b\":0},title=\"TRAVELING SALESMAN ROUTE\")\n",
        "config = dict({'scrollZoom': False})\n",
        "fig.show(config=config)"
      ],
      "execution_count": 620,
      "outputs": [
        {
          "output_type": "display_data",
          "data": {
            "text/html": [
              "<html>\n",
              "<head><meta charset=\"utf-8\" /></head>\n",
              "<body>\n",
              "    <div>\n",
              "            <script src=\"https://cdnjs.cloudflare.com/ajax/libs/mathjax/2.7.5/MathJax.js?config=TeX-AMS-MML_SVG\"></script><script type=\"text/javascript\">if (window.MathJax) {MathJax.Hub.Config({SVG: {font: \"STIX-Web\"}});}</script>\n",
              "                <script type=\"text/javascript\">window.PlotlyConfig = {MathJaxConfig: 'local'};</script>\n",
              "        <script src=\"https://cdn.plot.ly/plotly-latest.min.js\"></script>    \n",
              "            <div id=\"ae2bef72-b992-48c9-90a5-98879e8bd5bf\" class=\"plotly-graph-div\" style=\"height:525px; width:100%;\"></div>\n",
              "            <script type=\"text/javascript\">\n",
              "                \n",
              "                    window.PLOTLYENV=window.PLOTLYENV || {};\n",
              "                    \n",
              "                if (document.getElementById(\"ae2bef72-b992-48c9-90a5-98879e8bd5bf\")) {\n",
              "                    Plotly.newPlot(\n",
              "                        'ae2bef72-b992-48c9-90a5-98879e8bd5bf',\n",
              "                        [{\"hovertext\": [\"Hartford\", \"New Britain\", \"New Britain\", \"New Britain\", \"Waterbury\", \"Waterbury\", \"Waterbury\", \"Naugatuck \", \"Bethel \", \"Bethel \", \"Norwalk\", \"Norwalk\", \"Norwalk\", \"Norwalk\", \"Shelton\", \"Orange\", \"Orange\", \"East Haven\", \"Branford\", \"East Haven\", \"New Haven\", \"New Haven\", \"New Haven\", \"Waterbury\", \"Waterbury\", \"Burlington\", \"Granby\", \"Suffield\", \"Enfield\", \"Enfield\", \"Enfield\", \"Coventry\", \"Plainfield\", \"Mystic \", \"Gales Ferry\", \"Old Saybrook \", \"Cromwell\", \"Hartford\"], \"lat\": [41.764289888527, 41.7111247364647, 41.6666648767678, 41.6674142621264, 41.5782163936639, 41.5833165571109, 41.5516292887622, 41.501944381666, 41.4146476376325, 41.3735674146904, 41.1368152698305, 41.1026194238766, 41.1153022539571, 41.1277695785016, 41.2761866736857, 41.2676558768689, 41.2810488305456, 41.2804548194501, 41.2752069405999, 41.3216517174151, 41.3063117459586, 41.3162769832612, 41.3291713941692, 41.5391047602487, 41.5521614901779, 41.7710899857772, 41.9524391135402, 41.9831328097653, 41.9982166854156, 41.9953633420842, 41.9904847334974, 41.7980615345505, 41.6673744865115, 41.3527192139631, 41.4278446329939, 41.2998247643997, 41.6027131915866, 41.764289888527], \"lon\": [-72.682499183992, -72.7629790032047, -72.7766643455349, -72.805806387863, -73.0271913608825, -73.0337020032104, -73.0639124608836, -73.0530068032141, -73.4019981032179, -73.4147982032198, -73.4252955032302, -73.4349253320676, -73.4154673455593, -73.3880707455588, -73.1247672185678, -73.0016476878808, -72.987924545552, -72.8754200320598, -72.8291813185678, -72.8519923339094, -72.9252293302072, -72.9395912455504, -72.9683717878781, -72.9977074878687, -73.0009827608837, -72.9701388436788, -72.7860561166862, -72.6568284185362, -72.5936096590124, -72.582220603192, -72.5764313031922, -72.3688034032008, -71.9143697897145, -71.9631962032207, -72.082831702046, -72.3763086167153, -72.6889224743737, -72.682499183992], \"marker\": {\"size\": 10}, \"mode\": \"markers+lines\", \"name\": \"Traveling Salesman\", \"type\": \"scattermapbox\"}, {\"hovertext\": [\"Hartford\", \"New Britain\", \"New Britain\", \"New Britain\", \"Waterbury\", \"Waterbury\", \"Waterbury\", \"Naugatuck \", \"Bethel \", \"Bethel \", \"Norwalk\", \"Norwalk\", \"Norwalk\", \"Norwalk\", \"Shelton\", \"Orange\", \"Orange\", \"East Haven\", \"Branford\", \"East Haven\", \"New Haven\", \"New Haven\", \"New Haven\", \"Waterbury\", \"Waterbury\", \"Burlington\", \"Granby\", \"Suffield\", \"Enfield\", \"Enfield\", \"Enfield\", \"Coventry\", \"Plainfield\", \"Mystic \", \"Gales Ferry\", \"Old Saybrook \", \"Cromwell\", \"Hartford\"], \"lat\": [41.764289888527, 41.7111247364647, 41.6666648767678, 41.6674142621264, 41.5782163936639, 41.5833165571109, 41.5516292887622, 41.501944381666, 41.4146476376325, 41.3735674146904, 41.1368152698305, 41.1026194238766, 41.1153022539571, 41.1277695785016, 41.2761866736857, 41.2676558768689, 41.2810488305456, 41.2804548194501, 41.2752069405999, 41.3216517174151, 41.3063117459586, 41.3162769832612, 41.3291713941692, 41.5391047602487, 41.5521614901779, 41.7710899857772, 41.9524391135402, 41.9831328097653, 41.9982166854156, 41.9953633420842, 41.9904847334974, 41.7980615345505, 41.6673744865115, 41.3527192139631, 41.4278446329939, 41.2998247643997, 41.6027131915866, 41.764289888527], \"lon\": [-72.682499183992, -72.7629790032047, -72.7766643455349, -72.805806387863, -73.0271913608825, -73.0337020032104, -73.0639124608836, -73.0530068032141, -73.4019981032179, -73.4147982032198, -73.4252955032302, -73.4349253320676, -73.4154673455593, -73.3880707455588, -73.1247672185678, -73.0016476878808, -72.987924545552, -72.8754200320598, -72.8291813185678, -72.8519923339094, -72.9252293302072, -72.9395912455504, -72.9683717878781, -72.9977074878687, -73.0009827608837, -72.9701388436788, -72.7860561166862, -72.6568284185362, -72.5936096590124, -72.582220603192, -72.5764313031922, -72.3688034032008, -71.9143697897145, -71.9631962032207, -72.082831702046, -72.3763086167153, -72.6889224743737, -72.682499183992], \"marker\": {\"color\": \"blue\", \"size\": 5}, \"mode\": \"markers+lines\", \"name\": \"Main Route\", \"type\": \"scattermapbox\"}],\n",
              "                        {\"hovermode\": \"closest\", \"mapbox\": {\"center\": {\"lat\": 41.50435, \"lon\": -72.8587}, \"style\": \"carto-darkmatter\", \"zoom\": 8}, \"margin\": {\"b\": 0, \"l\": 0, \"r\": 0, \"t\": 0}, \"template\": {\"data\": {\"bar\": [{\"error_x\": {\"color\": \"#2a3f5f\"}, \"error_y\": {\"color\": \"#2a3f5f\"}, \"marker\": {\"line\": {\"color\": \"#E5ECF6\", \"width\": 0.5}}, \"type\": \"bar\"}], \"barpolar\": [{\"marker\": {\"line\": {\"color\": \"#E5ECF6\", \"width\": 0.5}}, \"type\": \"barpolar\"}], \"carpet\": [{\"aaxis\": {\"endlinecolor\": \"#2a3f5f\", \"gridcolor\": \"white\", \"linecolor\": \"white\", \"minorgridcolor\": \"white\", \"startlinecolor\": \"#2a3f5f\"}, \"baxis\": {\"endlinecolor\": \"#2a3f5f\", \"gridcolor\": \"white\", \"linecolor\": \"white\", \"minorgridcolor\": \"white\", \"startlinecolor\": \"#2a3f5f\"}, \"type\": \"carpet\"}], \"choropleth\": [{\"colorbar\": {\"outlinewidth\": 0, \"ticks\": \"\"}, \"type\": \"choropleth\"}], \"contour\": [{\"colorbar\": {\"outlinewidth\": 0, \"ticks\": \"\"}, \"colorscale\": [[0.0, \"#0d0887\"], [0.1111111111111111, \"#46039f\"], [0.2222222222222222, \"#7201a8\"], [0.3333333333333333, \"#9c179e\"], [0.4444444444444444, \"#bd3786\"], [0.5555555555555556, \"#d8576b\"], [0.6666666666666666, \"#ed7953\"], [0.7777777777777778, \"#fb9f3a\"], [0.8888888888888888, \"#fdca26\"], [1.0, \"#f0f921\"]], \"type\": \"contour\"}], \"contourcarpet\": [{\"colorbar\": {\"outlinewidth\": 0, \"ticks\": \"\"}, \"type\": \"contourcarpet\"}], \"heatmap\": [{\"colorbar\": {\"outlinewidth\": 0, \"ticks\": \"\"}, \"colorscale\": [[0.0, \"#0d0887\"], [0.1111111111111111, \"#46039f\"], [0.2222222222222222, \"#7201a8\"], [0.3333333333333333, \"#9c179e\"], [0.4444444444444444, \"#bd3786\"], [0.5555555555555556, \"#d8576b\"], [0.6666666666666666, \"#ed7953\"], [0.7777777777777778, \"#fb9f3a\"], [0.8888888888888888, \"#fdca26\"], [1.0, \"#f0f921\"]], \"type\": \"heatmap\"}], \"heatmapgl\": [{\"colorbar\": {\"outlinewidth\": 0, \"ticks\": \"\"}, \"colorscale\": [[0.0, \"#0d0887\"], [0.1111111111111111, \"#46039f\"], [0.2222222222222222, \"#7201a8\"], [0.3333333333333333, \"#9c179e\"], [0.4444444444444444, \"#bd3786\"], [0.5555555555555556, \"#d8576b\"], [0.6666666666666666, \"#ed7953\"], [0.7777777777777778, \"#fb9f3a\"], [0.8888888888888888, \"#fdca26\"], [1.0, \"#f0f921\"]], \"type\": \"heatmapgl\"}], \"histogram\": [{\"marker\": {\"colorbar\": {\"outlinewidth\": 0, \"ticks\": \"\"}}, \"type\": \"histogram\"}], \"histogram2d\": [{\"colorbar\": {\"outlinewidth\": 0, \"ticks\": \"\"}, \"colorscale\": [[0.0, \"#0d0887\"], [0.1111111111111111, \"#46039f\"], [0.2222222222222222, \"#7201a8\"], [0.3333333333333333, \"#9c179e\"], [0.4444444444444444, \"#bd3786\"], [0.5555555555555556, \"#d8576b\"], [0.6666666666666666, \"#ed7953\"], [0.7777777777777778, \"#fb9f3a\"], [0.8888888888888888, \"#fdca26\"], [1.0, \"#f0f921\"]], \"type\": \"histogram2d\"}], \"histogram2dcontour\": [{\"colorbar\": {\"outlinewidth\": 0, \"ticks\": \"\"}, \"colorscale\": [[0.0, \"#0d0887\"], [0.1111111111111111, \"#46039f\"], [0.2222222222222222, \"#7201a8\"], [0.3333333333333333, \"#9c179e\"], [0.4444444444444444, \"#bd3786\"], [0.5555555555555556, \"#d8576b\"], [0.6666666666666666, \"#ed7953\"], [0.7777777777777778, \"#fb9f3a\"], [0.8888888888888888, \"#fdca26\"], [1.0, \"#f0f921\"]], \"type\": \"histogram2dcontour\"}], \"mesh3d\": [{\"colorbar\": {\"outlinewidth\": 0, \"ticks\": \"\"}, \"type\": \"mesh3d\"}], \"parcoords\": [{\"line\": {\"colorbar\": {\"outlinewidth\": 0, \"ticks\": \"\"}}, \"type\": \"parcoords\"}], \"pie\": [{\"automargin\": true, \"type\": \"pie\"}], \"scatter\": [{\"marker\": {\"colorbar\": {\"outlinewidth\": 0, \"ticks\": \"\"}}, \"type\": \"scatter\"}], \"scatter3d\": [{\"line\": {\"colorbar\": {\"outlinewidth\": 0, \"ticks\": \"\"}}, \"marker\": {\"colorbar\": {\"outlinewidth\": 0, \"ticks\": \"\"}}, \"type\": \"scatter3d\"}], \"scattercarpet\": [{\"marker\": {\"colorbar\": {\"outlinewidth\": 0, \"ticks\": \"\"}}, \"type\": \"scattercarpet\"}], \"scattergeo\": [{\"marker\": {\"colorbar\": {\"outlinewidth\": 0, \"ticks\": \"\"}}, \"type\": \"scattergeo\"}], \"scattergl\": [{\"marker\": {\"colorbar\": {\"outlinewidth\": 0, \"ticks\": \"\"}}, \"type\": \"scattergl\"}], \"scattermapbox\": [{\"marker\": {\"colorbar\": {\"outlinewidth\": 0, \"ticks\": \"\"}}, \"type\": \"scattermapbox\"}], \"scatterpolar\": [{\"marker\": {\"colorbar\": {\"outlinewidth\": 0, \"ticks\": \"\"}}, \"type\": \"scatterpolar\"}], \"scatterpolargl\": [{\"marker\": {\"colorbar\": {\"outlinewidth\": 0, \"ticks\": \"\"}}, \"type\": \"scatterpolargl\"}], \"scatterternary\": [{\"marker\": {\"colorbar\": {\"outlinewidth\": 0, \"ticks\": \"\"}}, \"type\": \"scatterternary\"}], \"surface\": [{\"colorbar\": {\"outlinewidth\": 0, \"ticks\": \"\"}, \"colorscale\": [[0.0, \"#0d0887\"], [0.1111111111111111, \"#46039f\"], [0.2222222222222222, \"#7201a8\"], [0.3333333333333333, \"#9c179e\"], [0.4444444444444444, \"#bd3786\"], [0.5555555555555556, \"#d8576b\"], [0.6666666666666666, \"#ed7953\"], [0.7777777777777778, \"#fb9f3a\"], [0.8888888888888888, \"#fdca26\"], [1.0, \"#f0f921\"]], \"type\": \"surface\"}], \"table\": [{\"cells\": {\"fill\": {\"color\": \"#EBF0F8\"}, \"line\": {\"color\": \"white\"}}, \"header\": {\"fill\": {\"color\": \"#C8D4E3\"}, \"line\": {\"color\": \"white\"}}, \"type\": \"table\"}]}, \"layout\": {\"annotationdefaults\": {\"arrowcolor\": \"#2a3f5f\", \"arrowhead\": 0, \"arrowwidth\": 1}, \"coloraxis\": {\"colorbar\": {\"outlinewidth\": 0, \"ticks\": \"\"}}, \"colorscale\": {\"diverging\": [[0, \"#8e0152\"], [0.1, \"#c51b7d\"], [0.2, \"#de77ae\"], [0.3, \"#f1b6da\"], [0.4, \"#fde0ef\"], [0.5, \"#f7f7f7\"], [0.6, \"#e6f5d0\"], [0.7, \"#b8e186\"], [0.8, \"#7fbc41\"], [0.9, \"#4d9221\"], [1, \"#276419\"]], \"sequential\": [[0.0, \"#0d0887\"], [0.1111111111111111, \"#46039f\"], [0.2222222222222222, \"#7201a8\"], [0.3333333333333333, \"#9c179e\"], [0.4444444444444444, \"#bd3786\"], [0.5555555555555556, \"#d8576b\"], [0.6666666666666666, \"#ed7953\"], [0.7777777777777778, \"#fb9f3a\"], [0.8888888888888888, \"#fdca26\"], [1.0, \"#f0f921\"]], \"sequentialminus\": [[0.0, \"#0d0887\"], [0.1111111111111111, \"#46039f\"], [0.2222222222222222, \"#7201a8\"], [0.3333333333333333, \"#9c179e\"], [0.4444444444444444, \"#bd3786\"], [0.5555555555555556, \"#d8576b\"], [0.6666666666666666, \"#ed7953\"], [0.7777777777777778, \"#fb9f3a\"], [0.8888888888888888, \"#fdca26\"], [1.0, \"#f0f921\"]]}, \"colorway\": [\"#636efa\", \"#EF553B\", \"#00cc96\", \"#ab63fa\", \"#FFA15A\", \"#19d3f3\", \"#FF6692\", \"#B6E880\", \"#FF97FF\", \"#FECB52\"], \"font\": {\"color\": \"#2a3f5f\"}, \"geo\": {\"bgcolor\": \"white\", \"lakecolor\": \"white\", \"landcolor\": \"#E5ECF6\", \"showlakes\": true, \"showland\": true, \"subunitcolor\": \"white\"}, \"hoverlabel\": {\"align\": \"left\"}, \"hovermode\": \"closest\", \"mapbox\": {\"style\": \"light\"}, \"paper_bgcolor\": \"white\", \"plot_bgcolor\": \"#E5ECF6\", \"polar\": {\"angularaxis\": {\"gridcolor\": \"white\", \"linecolor\": \"white\", \"ticks\": \"\"}, \"bgcolor\": \"#E5ECF6\", \"radialaxis\": {\"gridcolor\": \"white\", \"linecolor\": \"white\", \"ticks\": \"\"}}, \"scene\": {\"xaxis\": {\"backgroundcolor\": \"#E5ECF6\", \"gridcolor\": \"white\", \"gridwidth\": 2, \"linecolor\": \"white\", \"showbackground\": true, \"ticks\": \"\", \"zerolinecolor\": \"white\"}, \"yaxis\": {\"backgroundcolor\": \"#E5ECF6\", \"gridcolor\": \"white\", \"gridwidth\": 2, \"linecolor\": \"white\", \"showbackground\": true, \"ticks\": \"\", \"zerolinecolor\": \"white\"}, \"zaxis\": {\"backgroundcolor\": \"#E5ECF6\", \"gridcolor\": \"white\", \"gridwidth\": 2, \"linecolor\": \"white\", \"showbackground\": true, \"ticks\": \"\", \"zerolinecolor\": \"white\"}}, \"shapedefaults\": {\"line\": {\"color\": \"#2a3f5f\"}}, \"ternary\": {\"aaxis\": {\"gridcolor\": \"white\", \"linecolor\": \"white\", \"ticks\": \"\"}, \"baxis\": {\"gridcolor\": \"white\", \"linecolor\": \"white\", \"ticks\": \"\"}, \"bgcolor\": \"#E5ECF6\", \"caxis\": {\"gridcolor\": \"white\", \"linecolor\": \"white\", \"ticks\": \"\"}}, \"title\": {\"x\": 0.05}, \"xaxis\": {\"automargin\": true, \"gridcolor\": \"white\", \"linecolor\": \"white\", \"ticks\": \"\", \"title\": {\"standoff\": 15}, \"zerolinecolor\": \"white\", \"zerolinewidth\": 2}, \"yaxis\": {\"automargin\": true, \"gridcolor\": \"white\", \"linecolor\": \"white\", \"ticks\": \"\", \"title\": {\"standoff\": 15}, \"zerolinecolor\": \"white\", \"zerolinewidth\": 2}}}, \"title\": {\"text\": \"TRAVELING SALESMAN ROUTE\"}, \"updatemenus\": [{\"buttons\": [{\"args\": [null], \"label\": \"Play\", \"method\": \"animate\"}], \"type\": \"buttons\"}]},\n",
              "                        {\"scrollZoom\": false, \"responsive\": true}\n",
              "                    ).then(function(){\n",
              "                            Plotly.addFrames('ae2bef72-b992-48c9-90a5-98879e8bd5bf', [{\"data\": [{\"lat\": [41.764289888527], \"lon\": [-72.682499183992], \"marker\": {\"color\": \"red\", \"size\": 10}, \"mode\": \"markers\", \"type\": \"scattermapbox\"}]}, {\"data\": [{\"lat\": [41.7111247364647], \"lon\": [-72.7629790032047], \"marker\": {\"color\": \"red\", \"size\": 10}, \"mode\": \"markers\", \"type\": \"scattermapbox\"}]}, {\"data\": [{\"lat\": [41.6666648767678], \"lon\": [-72.7766643455349], \"marker\": {\"color\": \"red\", \"size\": 10}, \"mode\": \"markers\", \"type\": \"scattermapbox\"}]}, {\"data\": [{\"lat\": [41.6674142621264], \"lon\": [-72.805806387863], \"marker\": {\"color\": \"red\", \"size\": 10}, \"mode\": \"markers\", \"type\": \"scattermapbox\"}]}, {\"data\": [{\"lat\": [41.5782163936639], \"lon\": [-73.0271913608825], \"marker\": {\"color\": \"red\", \"size\": 10}, \"mode\": \"markers\", \"type\": \"scattermapbox\"}]}, {\"data\": [{\"lat\": [41.5833165571109], \"lon\": [-73.0337020032104], \"marker\": {\"color\": \"red\", \"size\": 10}, \"mode\": \"markers\", \"type\": \"scattermapbox\"}]}, {\"data\": [{\"lat\": [41.5516292887622], \"lon\": [-73.0639124608836], \"marker\": {\"color\": \"red\", \"size\": 10}, \"mode\": \"markers\", \"type\": \"scattermapbox\"}]}, {\"data\": [{\"lat\": [41.501944381666], \"lon\": [-73.0530068032141], \"marker\": {\"color\": \"red\", \"size\": 10}, \"mode\": \"markers\", \"type\": \"scattermapbox\"}]}, {\"data\": [{\"lat\": [41.4146476376325], \"lon\": [-73.4019981032179], \"marker\": {\"color\": \"red\", \"size\": 10}, \"mode\": \"markers\", \"type\": \"scattermapbox\"}]}, {\"data\": [{\"lat\": [41.3735674146904], \"lon\": [-73.4147982032198], \"marker\": {\"color\": \"red\", \"size\": 10}, \"mode\": \"markers\", \"type\": \"scattermapbox\"}]}, {\"data\": [{\"lat\": [41.1368152698305], \"lon\": [-73.4252955032302], \"marker\": {\"color\": \"red\", \"size\": 10}, \"mode\": \"markers\", \"type\": \"scattermapbox\"}]}, {\"data\": [{\"lat\": [41.1026194238766], \"lon\": [-73.4349253320676], \"marker\": {\"color\": \"red\", \"size\": 10}, \"mode\": \"markers\", \"type\": \"scattermapbox\"}]}, {\"data\": [{\"lat\": [41.1153022539571], \"lon\": [-73.4154673455593], \"marker\": {\"color\": \"red\", \"size\": 10}, \"mode\": \"markers\", \"type\": \"scattermapbox\"}]}, {\"data\": [{\"lat\": [41.1277695785016], \"lon\": [-73.3880707455588], \"marker\": {\"color\": \"red\", \"size\": 10}, \"mode\": \"markers\", \"type\": \"scattermapbox\"}]}, {\"data\": [{\"lat\": [41.2761866736857], \"lon\": [-73.1247672185678], \"marker\": {\"color\": \"red\", \"size\": 10}, \"mode\": \"markers\", \"type\": \"scattermapbox\"}]}, {\"data\": [{\"lat\": [41.2676558768689], \"lon\": [-73.0016476878808], \"marker\": {\"color\": \"red\", \"size\": 10}, \"mode\": \"markers\", \"type\": \"scattermapbox\"}]}, {\"data\": [{\"lat\": [41.2810488305456], \"lon\": [-72.987924545552], \"marker\": {\"color\": \"red\", \"size\": 10}, \"mode\": \"markers\", \"type\": \"scattermapbox\"}]}, {\"data\": [{\"lat\": [41.2804548194501], \"lon\": [-72.8754200320598], \"marker\": {\"color\": \"red\", \"size\": 10}, \"mode\": \"markers\", \"type\": \"scattermapbox\"}]}, {\"data\": [{\"lat\": [41.2752069405999], \"lon\": [-72.8291813185678], \"marker\": {\"color\": \"red\", \"size\": 10}, \"mode\": \"markers\", \"type\": \"scattermapbox\"}]}, {\"data\": [{\"lat\": [41.3216517174151], \"lon\": [-72.8519923339094], \"marker\": {\"color\": \"red\", \"size\": 10}, \"mode\": \"markers\", \"type\": \"scattermapbox\"}]}, {\"data\": [{\"lat\": [41.3063117459586], \"lon\": [-72.9252293302072], \"marker\": {\"color\": \"red\", \"size\": 10}, \"mode\": \"markers\", \"type\": \"scattermapbox\"}]}, {\"data\": [{\"lat\": [41.3162769832612], \"lon\": [-72.9395912455504], \"marker\": {\"color\": \"red\", \"size\": 10}, \"mode\": \"markers\", \"type\": \"scattermapbox\"}]}, {\"data\": [{\"lat\": [41.3291713941692], \"lon\": [-72.9683717878781], \"marker\": {\"color\": \"red\", \"size\": 10}, \"mode\": \"markers\", \"type\": \"scattermapbox\"}]}, {\"data\": [{\"lat\": [41.5391047602487], \"lon\": [-72.9977074878687], \"marker\": {\"color\": \"red\", \"size\": 10}, \"mode\": \"markers\", \"type\": \"scattermapbox\"}]}, {\"data\": [{\"lat\": [41.5521614901779], \"lon\": [-73.0009827608837], \"marker\": {\"color\": \"red\", \"size\": 10}, \"mode\": \"markers\", \"type\": \"scattermapbox\"}]}, {\"data\": [{\"lat\": [41.7710899857772], \"lon\": [-72.9701388436788], \"marker\": {\"color\": \"red\", \"size\": 10}, \"mode\": \"markers\", \"type\": \"scattermapbox\"}]}, {\"data\": [{\"lat\": [41.9524391135402], \"lon\": [-72.7860561166862], \"marker\": {\"color\": \"red\", \"size\": 10}, \"mode\": \"markers\", \"type\": \"scattermapbox\"}]}, {\"data\": [{\"lat\": [41.9831328097653], \"lon\": [-72.6568284185362], \"marker\": {\"color\": \"red\", \"size\": 10}, \"mode\": \"markers\", \"type\": \"scattermapbox\"}]}, {\"data\": [{\"lat\": [41.9982166854156], \"lon\": [-72.5936096590124], \"marker\": {\"color\": \"red\", \"size\": 10}, \"mode\": \"markers\", \"type\": \"scattermapbox\"}]}, {\"data\": [{\"lat\": [41.9953633420842], \"lon\": [-72.582220603192], \"marker\": {\"color\": \"red\", \"size\": 10}, \"mode\": \"markers\", \"type\": \"scattermapbox\"}]}, {\"data\": [{\"lat\": [41.9904847334974], \"lon\": [-72.5764313031922], \"marker\": {\"color\": \"red\", \"size\": 10}, \"mode\": \"markers\", \"type\": \"scattermapbox\"}]}, {\"data\": [{\"lat\": [41.7980615345505], \"lon\": [-72.3688034032008], \"marker\": {\"color\": \"red\", \"size\": 10}, \"mode\": \"markers\", \"type\": \"scattermapbox\"}]}, {\"data\": [{\"lat\": [41.6673744865115], \"lon\": [-71.9143697897145], \"marker\": {\"color\": \"red\", \"size\": 10}, \"mode\": \"markers\", \"type\": \"scattermapbox\"}]}, {\"data\": [{\"lat\": [41.3527192139631], \"lon\": [-71.9631962032207], \"marker\": {\"color\": \"red\", \"size\": 10}, \"mode\": \"markers\", \"type\": \"scattermapbox\"}]}, {\"data\": [{\"lat\": [41.4278446329939], \"lon\": [-72.082831702046], \"marker\": {\"color\": \"red\", \"size\": 10}, \"mode\": \"markers\", \"type\": \"scattermapbox\"}]}, {\"data\": [{\"lat\": [41.2998247643997], \"lon\": [-72.3763086167153], \"marker\": {\"color\": \"red\", \"size\": 10}, \"mode\": \"markers\", \"type\": \"scattermapbox\"}]}, {\"data\": [{\"lat\": [41.6027131915866], \"lon\": [-72.6889224743737], \"marker\": {\"color\": \"red\", \"size\": 10}, \"mode\": \"markers\", \"type\": \"scattermapbox\"}]}, {\"data\": [{\"lat\": [41.764289888527], \"lon\": [-72.682499183992], \"marker\": {\"color\": \"red\", \"size\": 10}, \"mode\": \"markers\", \"type\": \"scattermapbox\"}]}]);\n",
              "                        }).then(function(){\n",
              "                            \n",
              "var gd = document.getElementById('ae2bef72-b992-48c9-90a5-98879e8bd5bf');\n",
              "var x = new MutationObserver(function (mutations, observer) {{\n",
              "        var display = window.getComputedStyle(gd).display;\n",
              "        if (!display || display === 'none') {{\n",
              "            console.log([gd, 'removed!']);\n",
              "            Plotly.purge(gd);\n",
              "            observer.disconnect();\n",
              "        }}\n",
              "}});\n",
              "\n",
              "// Listen for the removal of the full notebook cells\n",
              "var notebookContainer = gd.closest('#notebook-container');\n",
              "if (notebookContainer) {{\n",
              "    x.observe(notebookContainer, {childList: true});\n",
              "}}\n",
              "\n",
              "// Listen for the clearing of the current output cell\n",
              "var outputEl = gd.closest('.output');\n",
              "if (outputEl) {{\n",
              "    x.observe(outputEl, {childList: true});\n",
              "}}\n",
              "\n",
              "                        })\n",
              "                };\n",
              "                \n",
              "            </script>\n",
              "        </div>\n",
              "</body>\n",
              "</html>"
            ]
          },
          "metadata": {
            "tags": []
          }
        },
        {
          "output_type": "stream",
          "text": [
            "time: 2.86 s (started: 2021-04-20 00:28:59 +00:00)\n"
          ],
          "name": "stdout"
        }
      ]
    }
  ]
}
